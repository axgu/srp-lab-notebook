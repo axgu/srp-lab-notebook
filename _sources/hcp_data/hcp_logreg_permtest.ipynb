{
 "cells": [
  {
   "cell_type": "markdown",
   "metadata": {},
   "source": [
    "# Permutation Test"
   ]
  },
  {
   "cell_type": "code",
   "execution_count": 7,
   "metadata": {},
   "outputs": [],
   "source": [
    "import sys\n",
    "import numpy as np\n",
    "import scipy as scp\n",
    "import sklearn\n",
    "import pickle\n",
    "from sklearn.linear_model import LogisticRegression\n",
    "from matplotlib import pyplot as plt"
   ]
  },
  {
   "cell_type": "code",
   "execution_count": 8,
   "metadata": {},
   "outputs": [],
   "source": [
    "%store -r X_test\n",
    "%store -r y_test\n",
    "%store -r logmodel\n",
    "%store -r logperformAcc"
   ]
  },
  {
   "cell_type": "code",
   "execution_count": 9,
   "metadata": {},
   "outputs": [],
   "source": [
    "# Shuffle each column of X_test to create permutation\n",
    "def create_permutation(X):\n",
    "    new_X = np.empty(X.shape)\n",
    "    for i in range(X.shape[1]):\n",
    "        randCol = X[:, i]\n",
    "        np.random.shuffle(randCol)\n",
    "        new_X[:, i] = randCol\n",
    "    return new_X"
   ]
  },
  {
   "cell_type": "code",
   "execution_count": 10,
   "metadata": {},
   "outputs": [],
   "source": [
    "# Find p value\n",
    "def findP(t, arr):\n",
    "    count = 0\n",
    "    while count < len(arr) and arr[count] > t:\n",
    "        count += 1\n",
    "    p = count / len(arr)\n",
    "    return p"
   ]
  },
  {
   "cell_type": "code",
   "execution_count": 11,
   "metadata": {},
   "outputs": [],
   "source": [
    "# Take 200 resamples\n",
    "acc = []\n",
    "upper_acc = []\n",
    "p_vals = []\n",
    "startindex = 0\n",
    "endindex = 0\n",
    "for t in range(90):\n",
    "    t_acc = []\n",
    "    while endindex < y_test.shape[0] and int(y_test[endindex, 1]) == t:\n",
    "        endindex += 1\n",
    "    X_c = np.copy(X_test[startindex: endindex,])\n",
    "    for i in range(200):\n",
    "        new_X = create_permutation(X_c)\n",
    "        a = logmodel.score(new_X, y_test[startindex:endindex, 0])\n",
    "        t_acc.append(a)\n",
    "    startindex = endindex\n",
    "    t_acc = np.array(t_acc)\n",
    "\n",
    "    t_acc = sorted(t_acc, reverse = True)\n",
    "    p = findP(logperformAcc[t], t_acc)\n",
    "    p_vals.append(p)\n",
    "    \n",
    "    upper_acc.append(np.percentile(t_acc, 95))"
   ]
  },
  {
   "cell_type": "code",
   "execution_count": 12,
   "metadata": {},
   "outputs": [
    {
     "name": "stdout",
     "output_type": "stream",
     "text": [
      "Stored 'upper_acc' (list)\n"
     ]
    }
   ],
   "source": [
    "%store upper_acc"
   ]
  }
 ],
 "metadata": {
  "kernelspec": {
   "display_name": "Python 3.10.5 64-bit",
   "language": "python",
   "name": "python3"
  },
  "language_info": {
   "codemirror_mode": {
    "name": "ipython",
    "version": 3
   },
   "file_extension": ".py",
   "mimetype": "text/x-python",
   "name": "python",
   "nbconvert_exporter": "python",
   "pygments_lexer": "ipython3",
   "version": "3.10.5"
  },
  "orig_nbformat": 4,
  "vscode": {
   "interpreter": {
    "hash": "5d8d8f94dc29cf6517d9b951f40e6c965bcb2efc4a5d0d869ef8b359fa785960"
   }
  }
 },
 "nbformat": 4,
 "nbformat_minor": 2
}
