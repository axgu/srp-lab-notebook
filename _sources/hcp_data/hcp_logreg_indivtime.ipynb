{
 "cells": [
  {
   "cell_type": "markdown",
   "metadata": {},
   "source": [
    "## Logistic Regression - ROI Features"
   ]
  },
  {
   "cell_type": "code",
   "execution_count": 95,
   "metadata": {},
   "outputs": [],
   "source": [
    "import numpy as np\n",
    "import pickle\n",
    "import scipy as scp\n",
    "import sklearn\n",
    "from sklearn.model_selection import train_test_split\n",
    "from sklearn.linear_model import LogisticRegression\n",
    "from matplotlib import pyplot as plt"
   ]
  },
  {
   "cell_type": "code",
   "execution_count": 96,
   "metadata": {},
   "outputs": [],
   "source": [
    "with open('HCP_movie_watching.pkl','rb') as f:\n",
    "    TS = pickle.load(f)\n",
    "\n",
    "index = np.arange(176)\n",
    "np.random.shuffle(index)\n",
    "testIndex = index[:76]"
   ]
  },
  {
   "cell_type": "code",
   "execution_count": 97,
   "metadata": {},
   "outputs": [],
   "source": [
    "def splitData(tList):\n",
    "    X_train = []\n",
    "    X_test = []\n",
    "    y_train = []\n",
    "    y_test = []\n",
    "    for row in tList:\n",
    "        if row[-1] in testIndex:\n",
    "            X_test.append(row[:-2])\n",
    "            y_test.append(row[-2])\n",
    "        else:\n",
    "            X_train.append(row[:-2])\n",
    "            y_train.append(row[-2])\n",
    "\n",
    "    X_train = np.array(X_train).astype(float)\n",
    "    X_train = (X_train - np.mean(X_train)) / np.std(X_train)\n",
    "\n",
    "    X_test = np.array(X_test).astype(float)\n",
    "    X_test = (X_test - np.mean(X_test)) / np.std(X_test)\n",
    "    \n",
    "    y_train = np.array(y_train)\n",
    "    y_test = np.array(y_test)\n",
    "    return X_train, X_test, y_train, y_test\n",
    "    "
   ]
  },
  {
   "cell_type": "code",
   "execution_count": 98,
   "metadata": {},
   "outputs": [],
   "source": [
    "def create_permutation(X):\n",
    "    new_X = np.empty(X.shape)\n",
    "    for i in range(X.shape[-1]):\n",
    "        randCol = X[:, i]\n",
    "        np.random.shuffle(randCol)\n",
    "        new_X[:, i] = randCol\n",
    "    return new_X"
   ]
  },
  {
   "cell_type": "code",
   "execution_count": 99,
   "metadata": {},
   "outputs": [],
   "source": [
    "performAcc = []\n",
    "# permTestAcc = []\n",
    "# Run log reg for first 90 time points/seconds\n",
    "for k in range(90):\n",
    "\n",
    "    # Timepoint - 2d array\n",
    "    # Row: (subject, clip) combination\n",
    "    # Column: ROIs at time point, movie clip, participant number\n",
    "    #   - ROIs: features for model\n",
    "    #   - movie clip: label\n",
    "    #   - participant number: to split into test/train sets\n",
    "    timepoints = []     \n",
    "    for key, val in TS.items():\n",
    "        if val.shape[-2] > k:   # Account for clips with less than 90 time points\n",
    "            if key == 'testretest':\n",
    "                for i in range(val.shape[0]):\n",
    "                    for j in range(val.shape[-3]):\n",
    "                        subj = []       # Create new row\n",
    "                        for l in range(val.shape[-1]):\n",
    "                            subj.append(val[i][j][k][l])\n",
    "                        subj.append(key)    # Add movie\n",
    "                        subj.append(j)      # Add participant number\n",
    "                        timepoints.append(subj)     # Add new row to array\n",
    "            else:\n",
    "                for j in range(val.shape[-3]):\n",
    "                    subj = []\n",
    "                    for l in range(val.shape[-1]):\n",
    "                        subj.append(val[j][k][l])\n",
    "                    subj.append(key)\n",
    "                    subj.append(j)\n",
    "                    timepoints.append(subj)\n",
    "        \n",
    "    X_train, X_test, y_train, y_test = splitData(timepoints)\n",
    "\n",
    "    # Train model\n",
    "    model = LogisticRegression(max_iter = 1000)\n",
    "    model.fit(X_train, y_train)\n",
    "\n",
    "    acc = model.score(X_test, y_test)\n",
    "    # test = create_permutation(X_test)\n",
    "    # permAcc = model.score(test, y_test)\n",
    "    performAcc.append(acc)\n",
    "    # permTestAcc.append(permAcc)"
   ]
  },
  {
   "cell_type": "code",
   "execution_count": 100,
   "metadata": {},
   "outputs": [
    {
     "data": {
      "image/png": "[encoded data removed]",
      "text/plain": [
       "<Figure size 432x288 with 1 Axes>"
      ]
     },
     "metadata": {
      "needs_background": "light"
     },
     "output_type": "display_data"
    }
   ],
   "source": [
    "xAx = [i for i in range(0,90)]\n",
    "plt.plot(xAx, performAcc, label=\"log-reg\")\n",
    "# plt.plot(xAx, permTestAcc, label=\"log-reg perm-test\")\n",
    "plt.xlabel(\"Time (s)\")\n",
    "plt.ylabel(\"Accuracy\")\n",
    "plt.ylim(0,1)\n",
    "plt.xlim(0,90)\n",
    "plt.title(\"Time-varying Classification Accuracy\")\n",
    "plt.legend()\n",
    "plt.show()"
   ]
  }
 ],
 "metadata": {
  "kernelspec": {
   "display_name": "Python 3.10.5 64-bit",
   "language": "python",
   "name": "python3"
  },
  "language_info": {
   "codemirror_mode": {
    "name": "ipython",
    "version": 3
   },
   "file_extension": ".py",
   "mimetype": "text/x-python",
   "name": "python",
   "nbconvert_exporter": "python",
   "pygments_lexer": "ipython3",
   "version": "3.10.5"
  },
  "orig_nbformat": 4,
  "vscode": {
   "interpreter": {
    "hash": "5d8d8f94dc29cf6517d9b951f40e6c965bcb2efc4a5d0d869ef8b359fa785960"
   }
  }
 },
 "nbformat": 4,
 "nbformat_minor": 2
}
