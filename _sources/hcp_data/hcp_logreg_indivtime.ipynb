{
 "cells": [
  {
   "cell_type": "markdown",
   "metadata": {},
   "source": [
    "## Logistic Regression - ROI Features"
   ]
  },
  {
   "cell_type": "code",
   "execution_count": 19,
   "metadata": {},
   "outputs": [],
   "source": [
    "import numpy as np\n",
    "import pickle\n",
    "import scipy as scp\n",
    "import sklearn\n",
    "from sklearn.model_selection import train_test_split\n",
    "from sklearn.linear_model import LogisticRegression\n",
    "from matplotlib import pyplot as plt"
   ]
  },
  {
   "cell_type": "code",
   "execution_count": 20,
   "metadata": {},
   "outputs": [],
   "source": [
    "with open('HCP_movie_watching.pkl','rb') as f:\n",
    "    TS = pickle.load(f)\n",
    "\n",
    "testIndex = np.random.randint(0, 176, 76)"
   ]
  },
  {
   "cell_type": "code",
   "execution_count": 21,
   "metadata": {},
   "outputs": [],
   "source": [
    "def splitData(tList):\n",
    "    X_train = []\n",
    "    X_test = []\n",
    "    y_train = []\n",
    "    y_test = []\n",
    "    for row in tList:\n",
    "        if row[-1] in testIndex:\n",
    "            X_test.append(row[:-2])\n",
    "            y_test.append(row[-2])\n",
    "        else:\n",
    "            X_train.append(row[:-2])\n",
    "            y_train.append(row[-2])\n",
    "\n",
    "    X_train = np.array(X_train).astype(float)\n",
    "    X_train = (X_train - np.mean(X_train)) / np.std(X_train)\n",
    "\n",
    "    X_test = np.array(X_test).astype(float)\n",
    "    X_test = (X_test - np.mean(X_test)) / np.std(X_test)\n",
    "    \n",
    "    y_train = np.array(y_train)\n",
    "    y_test = np.array(y_test)\n",
    "    return X_train, X_test, y_train, y_test\n",
    "    "
   ]
  },
  {
   "cell_type": "code",
   "execution_count": 22,
   "metadata": {},
   "outputs": [],
   "source": [
    "\"\"\"\n",
    "def cost(X, Y, W):\n",
    "    h = 1 / (1 + np.exp(-np.dot(X, W))) # hypothesis representation\n",
    "    cost = np.dot(Y, -np.log(h)) + np.dot((1-Y), np.log(1-h)) # cost function\n",
    "    J = -1 / (len(X)) * np.sum(cost) # mean cost\n",
    "    return J\n",
    "def gradient(X, Y, W):\n",
    "    h = 1 / (1 + np.exp(-np.dot(X, W)))\n",
    "    diff = h - Y\n",
    "    grad = 1 / (len(X)) * np.dot(diff, X)\n",
    "    return grad\n",
    "def descent(X_train, Y_train, lr = 0.01):\n",
    "    weights = [0]*(len(X_train[0]))\n",
    "    loss = []\n",
    "    loss.append(cost(X_train, Y_train, weights))\n",
    "    count = 0\n",
    "    while count < 1000:\n",
    "        grad = gradient(X_train, Y_train, weights)\n",
    "        weights = weights - lr*grad\n",
    "        loss.append(cost(X_train, Y_train, weights))\n",
    "        count += 1\n",
    "\n",
    "    return weights\n",
    "\n",
    "def createYMask(movie, Y):\n",
    "    yMasked = np.zeros(Y.shape)\n",
    "    mask = Y == movie\n",
    "    yMasked[mask] = 1\n",
    "    return yMasked\n",
    "\n",
    "def sigmoid(X, W):\n",
    "    return 1 / (1 + np.exp(-np.dot(X, W)))\n",
    "\n",
    "def runModel(X_train, X_test, y_train, y_test):\n",
    "    movieList = list(TS.keys())\n",
    "    modelWeights = []\n",
    "    for movie in movieList:\n",
    "        yMasked = createYMask(movie, y_train)\n",
    "        W = descent(X_train, yMasked)\n",
    "        modelWeights.append(W)\n",
    "\n",
    "    predY = []\n",
    "    for x in X_test:\n",
    "        probList = [sigmoid(x, W) for W in modelWeights]\n",
    "        predY.append(movieList[probList.index(max(probList))])\n",
    "\n",
    "    pMask = y_test == predY # create mask for values where predicted is correct\n",
    "    acc = sum(pMask) / len(pMask)\n",
    "    return acc\n",
    "\"\"\""
   ]
  },
  {
   "cell_type": "code",
   "execution_count": 23,
   "metadata": {},
   "outputs": [
    {
     "name": "stdout",
     "output_type": "stream",
     "text": [
      "[0.23835125448028674, 0.25, 0.2661290322580645, 0.28136200716845877, 0.40053763440860213, 0.47043010752688175, 0.5824372759856631, 0.6290322580645161, 0.6370967741935484, 0.6388888888888888, 0.6460573476702509, 0.6317204301075269, 0.6657706093189965, 0.6845878136200717, 0.692652329749104, 0.6881720430107527, 0.6980286738351255, 0.703405017921147, 0.7168458781362007, 0.7598566308243727, 0.7589605734767025, 0.760752688172043, 0.7580645161290323, 0.7652329749103942, 0.7347670250896058, 0.7231182795698925, 0.735663082437276, 0.7553763440860215, 0.775089605734767, 0.753584229390681, 0.7813620071684588, 0.7804659498207885, 0.782258064516129, 0.7768817204301075, 0.7455197132616488, 0.7741935483870968, 0.7732974910394266, 0.771505376344086, 0.7768817204301075, 0.764336917562724, 0.7329749103942652, 0.7043010752688172, 0.7517921146953405, 0.7625448028673835, 0.7732974910394266, 0.767921146953405, 0.7885304659498208, 0.793010752688172, 0.7956989247311828, 0.7876344086021505, 0.78584229390681, 0.7849462365591398, 0.78584229390681, 0.7741935483870968, 0.7849462365591398, 0.767921146953405, 0.78584229390681, 0.782258064516129, 0.7706093189964157, 0.7912186379928315, 0.7786738351254481, 0.753584229390681, 0.7616487455197133, 0.7661290322580645, 0.7437275985663082, 0.7722960151802657, 0.7808349146110057, 0.7874762808349146, 0.7789373814041746, 0.793168880455408, 0.7988614800759013, 0.8036053130929791, 0.8130929791271347, 0.8026565464895635, 0.7941176470588235, 0.7836812144212524, 0.7666034155597723, 0.7703984819734345, 0.7447817836812144, 0.7912713472485768, 0.7647058823529411, 0.7628083491461101, 0.75426944971537, 0.7770398481973435, 0.7866004962779156, 0.8039702233250621, 0.8176178660049628, 0.8101736972704715, 0.8300248138957816, 0.8312655086848635]\n"
     ]
    }
   ],
   "source": [
    "performAcc = []\n",
    "\n",
    "# Run log reg for first 90 time series\n",
    "for k in range(90):\n",
    "    timepoints = []     # 2d arrays: one row per (subject, clip) combination\n",
    "    for key, val in TS.items():\n",
    "        if val.shape[-2] > k:\n",
    "            if key == 'testretest':\n",
    "                for i in range(val.shape[0]):\n",
    "                    for j in range(val.shape[-3]):\n",
    "                        subj = []\n",
    "                        for l in range(val.shape[-1]):\n",
    "                            subj.append(val[i][j][k][l])\n",
    "                        subj.append(key)\n",
    "                        subj.append(j)\n",
    "                        timepoints.append(subj)\n",
    "            else:\n",
    "                for j in range(val.shape[-3]):\n",
    "                    subj = []\n",
    "                    for l in range(val.shape[-1]):\n",
    "                        subj.append(val[j][k][l])\n",
    "                    subj.append(key)\n",
    "                    subj.append(j)\n",
    "                    timepoints.append(subj)\n",
    "        \n",
    "    X_train, X_test, y_train, y_test = splitData(timepoints)\n",
    "\n",
    "    model = LogisticRegression(multi_class='ovr', max_iter = 1000)\n",
    "    model.fit(X_train, y_train)\n",
    "\n",
    "    acc = model.score(X_test, y_test)\n",
    "    #acc = runModel(X_train, X_test, y_train, y_test)\n",
    "    performAcc.append(acc)\n"
   ]
  },
  {
   "cell_type": "code",
   "execution_count": 26,
   "metadata": {},
   "outputs": [
    {
     "data": {
      "image/png": "[encoded data removed]",
      "text/plain": [
       "<Figure size 432x288 with 1 Axes>"
      ]
     },
     "metadata": {
      "needs_background": "light"
     },
     "output_type": "display_data"
    }
   ],
   "source": [
    "xAx = [i for i in range(0,90)]\n",
    "plt.plot(xAx, performAcc, label=\"ovr log-reg\")\n",
    "plt.xlabel(\"Time (s)\")\n",
    "plt.ylabel(\"Accuracy\")\n",
    "plt.ylim(0,1)\n",
    "plt.xlim(0,90)\n",
    "plt.title(\"Time-varying Classification Accuracy\")\n",
    "plt.legend()\n",
    "plt.show()"
   ]
  }
 ],
 "metadata": {
  "kernelspec": {
   "display_name": "Python 3.10.5 64-bit",
   "language": "python",
   "name": "python3"
  },
  "language_info": {
   "codemirror_mode": {
    "name": "ipython",
    "version": 3
   },
   "file_extension": ".py",
   "mimetype": "text/x-python",
   "name": "python",
   "nbconvert_exporter": "python",
   "pygments_lexer": "ipython3",
   "version": "3.10.5"
  },
  "orig_nbformat": 4,
  "vscode": {
   "interpreter": {
    "hash": "5d8d8f94dc29cf6517d9b951f40e6c965bcb2efc4a5d0d869ef8b359fa785960"
   }
  }
 },
 "nbformat": 4,
 "nbformat_minor": 2
}
