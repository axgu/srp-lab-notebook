{
 "cells": [
  {
   "cell_type": "markdown",
   "metadata": {},
   "source": [
    "# Diabetes Prediction with Logistic Regression"
   ]
  },
  {
   "cell_type": "code",
   "execution_count": 1,
   "metadata": {},
   "outputs": [],
   "source": [
    "import numpy as np\n",
    "from matplotlib import pyplot as plt"
   ]
  },
  {
   "cell_type": "code",
   "execution_count": 2,
   "metadata": {},
   "outputs": [],
   "source": [
    "# Cost Function\n",
    "def cost(X, Y, W):\n",
    "    h = 1 / (1 + np.exp(-np.dot(X, W))) # hypothesis representation\n",
    "    cost = np.dot(Y, -np.log(h)) + np.dot((1-Y), np.log(1-h)) # cost function\n",
    "    J = -1 / (len(X)) * np.sum(cost) # mean cost\n",
    "    return J"
   ]
  },
  {
   "cell_type": "code",
   "execution_count": 3,
   "metadata": {},
   "outputs": [],
   "source": [
    "# Gradient Descent\n",
    "def gradient(X, Y, W):\n",
    "    h = 1 / (1 + np.exp(-np.dot(X, W)))\n",
    "    diff = h - Y\n",
    "    grad = 1 / (len(X)) * np.dot(diff, X)\n",
    "    return grad"
   ]
  },
  {
   "cell_type": "code",
   "execution_count": 4,
   "metadata": {},
   "outputs": [],
   "source": [
    "def createData(fName):\n",
    "    file = open(fName, 'rb')\n",
    "    data = np.loadtxt(file, delimiter=\",\", skiprows=1)\n",
    "    X = data[:, 0:8]\n",
    "    X = (X - np.mean(X, axis = 0)) / np.std(X, axis = 0) # normalize data\n",
    "    Y = data[:, 8] # outcome column is label\n",
    "    return X, Y"
   ]
  },
  {
   "cell_type": "code",
   "execution_count": 5,
   "metadata": {},
   "outputs": [],
   "source": [
    "def accuracy(X, Y, W):\n",
    "    h = 1 / (1 + np.exp(-np.dot(X, W)))\n",
    "    y_pred = np.around(h)\n",
    "    pMask = Y == y_pred # create mask for values where predicted is correct\n",
    "    acc = sum(pMask) / len(pMask)\n",
    "    return acc\n"
   ]
  },
  {
   "cell_type": "code",
   "execution_count": 6,
   "metadata": {},
   "outputs": [],
   "source": [
    "filename = \"diabetes2.csv\"\n",
    "X, Y = createData(filename)\n",
    "X = np.c_[np.ones(X.shape[0]), X] # Add bias as first column"
   ]
  },
  {
   "cell_type": "code",
   "execution_count": 7,
   "metadata": {},
   "outputs": [
    {
     "name": "stdout",
     "output_type": "stream",
     "text": [
      "Final weights:  [-0.64392898  0.29515392  0.78730122 -0.11343963  0.00261644  0.01429073\n",
      "  0.47770982  0.24176111  0.22467336]\n",
      "Final cost:  0.002858577643417755\n",
      "Accuracy 0.76953125\n"
     ]
    }
   ],
   "source": [
    "lr = 0.001\n",
    "weights = [0, 0, 0, 0, 0, 0, 0, 0, 0]\n",
    "loss = []\n",
    "loss.append(cost(X, Y, weights))\n",
    "count = 0\n",
    "while count < 10000:\n",
    "    grad = gradient(X, Y, weights)\n",
    "    weights = weights - lr*grad\n",
    "    loss.append(cost(X, Y, weights))\n",
    "    count += 1\n",
    "\n",
    "print(\"Final weights: \", weights)\n",
    "print(\"Final cost: \", loss[-1])\n",
    "print(\"Accuracy\", accuracy(X, Y, weights))"
   ]
  },
  {
   "cell_type": "code",
   "execution_count": 8,
   "metadata": {},
   "outputs": [
    {
     "data": {
      "image/png": "[encoded data removed]",
      "text/plain": [
       "<Figure size 432x288 with 1 Axes>"
      ]
     },
     "metadata": {
      "filenames": {
       "image/png": "C:\\Users\\Anna&Megan\\Documents\\GitHub\\srp-lab-notebook\\_build\\jupyter_execute\\prep\\log_reg\\diabetes-logreg_8_0.png"
      },
      "needs_background": "light"
     },
     "output_type": "display_data"
    }
   ],
   "source": [
    "# Plot graph of cost vs iteration as weights are changed\n",
    "fig = plt.figure()\n",
    "ax = fig.add_axes([0.1, 0.1, 0.8, 0.8])\n",
    "ax.plot(np.arange(len(loss)), loss, \"b-\", label=\"cost\")\n",
    "\n",
    "ax.set_title(\"Cost at weights are changed\")\n",
    "ax.set_xlabel(\"iteration\")\n",
    "ax.set_ylabel(\"Costs\")\n",
    "ax.legend()\n",
    "plt.show()"
   ]
  }
 ],
 "metadata": {
  "kernelspec": {
   "display_name": "Python 3.6.2 32-bit",
   "language": "python",
   "name": "python3"
  },
  "language_info": {
   "codemirror_mode": {
    "name": "ipython",
    "version": 3
   },
   "file_extension": ".py",
   "mimetype": "text/x-python",
   "name": "python",
   "nbconvert_exporter": "python",
   "pygments_lexer": "ipython3",
   "version": "3.6.2"
  },
  "vscode": {
   "interpreter": {
    "hash": "b00ea486395756e1e0d6d59adc8a698c93f0efe761447640c85f15a5a870479b"
   }
  }
 },
 "nbformat": 4,
 "nbformat_minor": 2
}