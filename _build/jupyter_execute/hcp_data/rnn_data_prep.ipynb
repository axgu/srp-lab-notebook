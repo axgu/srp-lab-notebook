{
 "cells": [
  {
   "cell_type": "markdown",
   "metadata": {},
   "source": [
    "# LSTM Model"
   ]
  },
  {
   "cell_type": "code",
   "execution_count": 1,
   "metadata": {},
   "outputs": [
    {
     "ename": "ModuleNotFoundError",
     "evalue": "No module named 'tensorflow'",
     "output_type": "error",
     "traceback": [
      "\u001b[1;31m---------------------------------------------------------------------------\u001b[0m",
      "\u001b[1;31mModuleNotFoundError\u001b[0m                       Traceback (most recent call last)",
      "Input \u001b[1;32mIn [1]\u001b[0m, in \u001b[0;36m<cell line: 3>\u001b[1;34m()\u001b[0m\n\u001b[0;32m      1\u001b[0m \u001b[38;5;28;01mimport\u001b[39;00m \u001b[38;5;21;01mnumpy\u001b[39;00m \u001b[38;5;28;01mas\u001b[39;00m \u001b[38;5;21;01mnp\u001b[39;00m\n\u001b[0;32m      2\u001b[0m \u001b[38;5;28;01mimport\u001b[39;00m \u001b[38;5;21;01mpickle\u001b[39;00m\n\u001b[1;32m----> 3\u001b[0m \u001b[38;5;28;01mimport\u001b[39;00m \u001b[38;5;21;01mtensorflow\u001b[39;00m \u001b[38;5;28;01mas\u001b[39;00m \u001b[38;5;21;01mtf\u001b[39;00m\n\u001b[0;32m      4\u001b[0m \u001b[38;5;28;01mfrom\u001b[39;00m \u001b[38;5;21;01mtensorflow\u001b[39;00m \u001b[38;5;28;01mimport\u001b[39;00m keras\n\u001b[0;32m      5\u001b[0m \u001b[38;5;28;01mfrom\u001b[39;00m \u001b[38;5;21;01mkeras\u001b[39;00m\u001b[38;5;21;01m.\u001b[39;00m\u001b[38;5;21;01mmodels\u001b[39;00m \u001b[38;5;28;01mimport\u001b[39;00m Sequential\n",
      "\u001b[1;31mModuleNotFoundError\u001b[0m: No module named 'tensorflow'"
     ]
    }
   ],
   "source": [
    "import numpy as np\n",
    "import pickle\n",
    "import tensorflow as tf\n",
    "from tensorflow import keras\n",
    "from keras.models import Sequential\n",
    "from keras.layers import TimeDistributed, Dense, LSTM, Layer\n",
    "from keras import Input"
   ]
  },
  {
   "cell_type": "code",
   "execution_count": 2,
   "metadata": {},
   "outputs": [],
   "source": [
    "with open('HCP_movie_watching.pkl','rb') as f:\n",
    "    TS = pickle.load(f)\n",
    "\n",
    "%store -r testIndex"
   ]
  },
  {
   "cell_type": "code",
   "execution_count": 3,
   "metadata": {},
   "outputs": [],
   "source": [
    "def splitDict(dict, indexList = testIndex):\n",
    "    trainDict = {}\n",
    "    testDict = {}\n",
    "    for key, val in dict.items():\n",
    "        testvalArr = []\n",
    "        trainvalArr = []\n",
    "        if key == \"testretest\":\n",
    "            testvalArr = testvalArr\n",
    "            for i in range(val.shape[0]):\n",
    "                for p in range(val.shape[1]):\n",
    "                    if p in testIndex:\n",
    "                        testvalArr.append(val[i][p])\n",
    "                    else:\n",
    "                        trainvalArr.append(val[i][p])\n",
    "        else:\n",
    "            for p in range(val.shape[0]):\n",
    "                if p in testIndex:\n",
    "                        testvalArr.append(val[p])\n",
    "                else:\n",
    "                    trainvalArr.append(val[p])\n",
    "        trainDict[key] = np.array(trainvalArr)\n",
    "        testDict[key] = np.array(testvalArr)\n",
    "    return trainDict, testDict\n"
   ]
  },
  {
   "cell_type": "code",
   "execution_count": 4,
   "metadata": {},
   "outputs": [],
   "source": [
    "def vectorize_labels(labels, keys, classNums = 13):\n",
    "    results = np.zeros((int(labels.shape[0]), int(labels.shape[1]), classNums))\n",
    "    for i in range(labels.shape[0]):\n",
    "        for j in range(labels.shape[1]):\n",
    "            if labels[i][j] != -100.:\n",
    "                indexNum = keys.index(labels[i][j])\n",
    "                results[i][j][indexNum] = 1.\n",
    "    return results\n"
   ]
  },
  {
   "cell_type": "code",
   "execution_count": 5,
   "metadata": {},
   "outputs": [],
   "source": [
    "# Reshape data into 3D array\n",
    "\n",
    "def shaping(dict):\n",
    "    X_arr = []\n",
    "    y_arr = []\n",
    "    keylist = list(dict.keys())\n",
    "    for key, val in dict.items():\n",
    "        for i in range(val.shape[0]):\n",
    "            normalized_seq = (val[i] - np.mean(val[i])) / np.std(val[i])\n",
    "            X_arr.append(normalized_seq)\n",
    "            clip = [key for j in range(min(val.shape[1], 90))]\n",
    "            y_arr.append(clip)\n",
    "        \n",
    "    X_padded = tf.keras.preprocessing.sequence.pad_sequences(X_arr, maxlen = 90, dtype='float64', padding='post', truncating='post')\n",
    "    y_padded = tf.keras.preprocessing.sequence.pad_sequences(y_arr, maxlen = 90, dtype = 'object', padding='post', truncating='post', value = -100.)\n",
    "    y_padded = vectorize_labels(y_padded, keylist, classNums = len(keylist))\n",
    "\n",
    "    return tf.convert_to_tensor(X_padded, dtype='float64'), tf.convert_to_tensor(y_padded)"
   ]
  },
  {
   "cell_type": "code",
   "execution_count": 6,
   "metadata": {},
   "outputs": [],
   "source": [
    "train, test = splitDict(TS)\n",
    "X_train, y_train = shaping(train)\n",
    "X_test, y_test = shaping(test)"
   ]
  },
  {
   "cell_type": "code",
   "execution_count": 17,
   "metadata": {},
   "outputs": [],
   "source": [
    "def createMask(X):\n",
    "    sample = X.shape[0]\n",
    "    time_seq = X.shape[1]\n",
    "\n",
    "    mask = np.empty((sample, time_seq), dtype=np.bool_)\n",
    "    for i in range(sample):\n",
    "        for j in range(time_seq):\n",
    "            if np.count_nonzero(X[i][j]) == 0:\n",
    "                mask[i][j] = False\n",
    "            else:\n",
    "                mask[i][j] = True\n",
    "    return tf.convert_to_tensor(mask)\n"
   ]
  },
  {
   "cell_type": "code",
   "execution_count": 18,
   "metadata": {},
   "outputs": [],
   "source": [
    "mask = createMask(X_train)"
   ]
  },
  {
   "cell_type": "code",
   "execution_count": 21,
   "metadata": {},
   "outputs": [],
   "source": [
    "inputs = Input(shape=(X_train.shape[1],X_train.shape[2]))\n",
    "x = LSTM(units=32, activation='tanh', recurrent_activation='sigmoid', return_sequences=True, dropout=0.05)(inputs)\n",
    "outputs = TimeDistributed(Dense(15, activation='softmax'))(x)\n",
    "\n",
    "model = keras.Model(inputs, outputs)\n",
    "model.compile(optimizer='adam', loss='categorical_crossentropy', metrics=['accuracy'])"
   ]
  },
  {
   "cell_type": "code",
   "execution_count": 22,
   "metadata": {},
   "outputs": [
    {
     "name": "stdout",
     "output_type": "stream",
     "text": [
      "Epoch 1/60\n",
      "45/45 [==============================] - 20s 133ms/step - loss: 2.3635 - accuracy: 0.2564 - val_loss: 3.6496 - val_accuracy: 6.1728e-04\n",
      "Epoch 2/60\n",
      "45/45 [==============================] - 3s 74ms/step - loss: 2.0578 - accuracy: 0.3539 - val_loss: 4.0409 - val_accuracy: 2.1605e-04\n",
      "Epoch 3/60\n",
      "45/45 [==============================] - 3s 70ms/step - loss: 1.7994 - accuracy: 0.4350 - val_loss: 4.2560 - val_accuracy: 0.0011\n",
      "Epoch 4/60\n",
      "45/45 [==============================] - 3s 64ms/step - loss: 1.5729 - accuracy: 0.5142 - val_loss: 4.7349 - val_accuracy: 0.0013\n",
      "Epoch 5/60\n",
      "45/45 [==============================] - 3s 69ms/step - loss: 1.3534 - accuracy: 0.5942 - val_loss: 5.3094 - val_accuracy: 0.0019\n",
      "Epoch 6/60\n",
      "45/45 [==============================] - 3s 68ms/step - loss: 1.1270 - accuracy: 0.6689 - val_loss: 5.8335 - val_accuracy: 0.0032\n",
      "Epoch 7/60\n",
      "45/45 [==============================] - 3s 64ms/step - loss: 0.9339 - accuracy: 0.7296 - val_loss: 6.3174 - val_accuracy: 0.0066\n",
      "Epoch 8/60\n",
      "45/45 [==============================] - 3s 61ms/step - loss: 0.7921 - accuracy: 0.7645 - val_loss: 6.5421 - val_accuracy: 0.0148\n",
      "Epoch 9/60\n",
      "45/45 [==============================] - 3s 62ms/step - loss: 0.6889 - accuracy: 0.7949 - val_loss: 6.8010 - val_accuracy: 0.0244\n",
      "Epoch 10/60\n",
      "45/45 [==============================] - 3s 60ms/step - loss: 0.6435 - accuracy: 0.8030 - val_loss: 6.8487 - val_accuracy: 0.0239\n",
      "Epoch 11/60\n",
      "45/45 [==============================] - 3s 65ms/step - loss: 0.5794 - accuracy: 0.8227 - val_loss: 6.9162 - val_accuracy: 0.0360\n",
      "Epoch 12/60\n",
      "45/45 [==============================] - 3s 67ms/step - loss: 0.5341 - accuracy: 0.8345 - val_loss: 6.9187 - val_accuracy: 0.0497\n",
      "Epoch 13/60\n",
      "45/45 [==============================] - 3s 64ms/step - loss: 0.4723 - accuracy: 0.8521 - val_loss: 7.1132 - val_accuracy: 0.0552\n",
      "Epoch 14/60\n",
      "45/45 [==============================] - 3s 62ms/step - loss: 0.4423 - accuracy: 0.8596 - val_loss: 7.2881 - val_accuracy: 0.0621\n",
      "Epoch 15/60\n",
      "45/45 [==============================] - 3s 63ms/step - loss: 0.4192 - accuracy: 0.8655 - val_loss: 7.5448 - val_accuracy: 0.0594\n",
      "Epoch 16/60\n",
      "45/45 [==============================] - 3s 75ms/step - loss: 0.3903 - accuracy: 0.8731 - val_loss: 7.4137 - val_accuracy: 0.0681\n",
      "Epoch 17/60\n",
      "45/45 [==============================] - 3s 67ms/step - loss: 0.3707 - accuracy: 0.8783 - val_loss: 7.5702 - val_accuracy: 0.0672\n",
      "Epoch 18/60\n",
      "45/45 [==============================] - 3s 67ms/step - loss: 0.3537 - accuracy: 0.8836 - val_loss: 7.8096 - val_accuracy: 0.0648\n",
      "Epoch 19/60\n",
      "45/45 [==============================] - 3s 71ms/step - loss: 0.3361 - accuracy: 0.8865 - val_loss: 7.5253 - val_accuracy: 0.0723\n",
      "Epoch 20/60\n",
      "45/45 [==============================] - 3s 68ms/step - loss: 0.4309 - accuracy: 0.8536 - val_loss: 7.5824 - val_accuracy: 0.0650\n",
      "Epoch 21/60\n",
      "45/45 [==============================] - 3s 70ms/step - loss: 0.3785 - accuracy: 0.8725 - val_loss: 8.0224 - val_accuracy: 0.0615\n",
      "Epoch 22/60\n",
      "45/45 [==============================] - 3s 65ms/step - loss: 0.3472 - accuracy: 0.8813 - val_loss: 8.1352 - val_accuracy: 0.0720\n",
      "Epoch 23/60\n",
      "45/45 [==============================] - 3s 64ms/step - loss: 0.3457 - accuracy: 0.8812 - val_loss: 8.2097 - val_accuracy: 0.0529\n",
      "Epoch 24/60\n",
      "45/45 [==============================] - 3s 67ms/step - loss: 0.3332 - accuracy: 0.8849 - val_loss: 8.2998 - val_accuracy: 0.0643\n",
      "Epoch 25/60\n",
      "45/45 [==============================] - 3s 71ms/step - loss: 0.2985 - accuracy: 0.8956 - val_loss: 8.3176 - val_accuracy: 0.0791\n",
      "Epoch 26/60\n",
      "45/45 [==============================] - 3s 65ms/step - loss: 0.2685 - accuracy: 0.9040 - val_loss: 8.4282 - val_accuracy: 0.0711\n",
      "Epoch 27/60\n",
      "45/45 [==============================] - 3s 67ms/step - loss: 0.2521 - accuracy: 0.9098 - val_loss: 8.5983 - val_accuracy: 0.0710\n",
      "Epoch 28/60\n",
      "45/45 [==============================] - 3s 65ms/step - loss: 0.2416 - accuracy: 0.9122 - val_loss: 8.6960 - val_accuracy: 0.0718\n",
      "Epoch 29/60\n",
      "45/45 [==============================] - 3s 63ms/step - loss: 0.2450 - accuracy: 0.9105 - val_loss: 8.6887 - val_accuracy: 0.0755\n",
      "Epoch 30/60\n",
      "45/45 [==============================] - 3s 66ms/step - loss: 0.2515 - accuracy: 0.9089 - val_loss: 8.8710 - val_accuracy: 0.0647\n",
      "Epoch 31/60\n",
      "45/45 [==============================] - 3s 62ms/step - loss: 0.2279 - accuracy: 0.9160 - val_loss: 8.9099 - val_accuracy: 0.0666\n",
      "Epoch 32/60\n",
      "45/45 [==============================] - 3s 67ms/step - loss: 0.2165 - accuracy: 0.9183 - val_loss: 9.2525 - val_accuracy: 0.0529\n",
      "Epoch 33/60\n",
      "45/45 [==============================] - 3s 62ms/step - loss: 0.2361 - accuracy: 0.9126 - val_loss: 8.9841 - val_accuracy: 0.0689\n",
      "Epoch 34/60\n",
      "45/45 [==============================] - 3s 60ms/step - loss: 0.2333 - accuracy: 0.9114 - val_loss: 9.1731 - val_accuracy: 0.0692\n",
      "Epoch 35/60\n",
      "45/45 [==============================] - 3s 65ms/step - loss: 0.2234 - accuracy: 0.9157 - val_loss: 9.2827 - val_accuracy: 0.0773\n",
      "Epoch 36/60\n",
      "45/45 [==============================] - 3s 74ms/step - loss: 0.2072 - accuracy: 0.9211 - val_loss: 9.4819 - val_accuracy: 0.0689\n",
      "Epoch 37/60\n",
      "45/45 [==============================] - 3s 65ms/step - loss: 0.2165 - accuracy: 0.9173 - val_loss: 9.3023 - val_accuracy: 0.0716\n",
      "Epoch 38/60\n",
      "45/45 [==============================] - 3s 70ms/step - loss: 0.1942 - accuracy: 0.9249 - val_loss: 9.4958 - val_accuracy: 0.0646\n",
      "Epoch 39/60\n",
      "45/45 [==============================] - 3s 70ms/step - loss: 0.1828 - accuracy: 0.9280 - val_loss: 9.5975 - val_accuracy: 0.0637\n",
      "Epoch 40/60\n",
      "45/45 [==============================] - 3s 70ms/step - loss: 0.1758 - accuracy: 0.9308 - val_loss: 9.6666 - val_accuracy: 0.0635\n",
      "Epoch 41/60\n",
      "45/45 [==============================] - 3s 71ms/step - loss: 0.1700 - accuracy: 0.9323 - val_loss: 9.6576 - val_accuracy: 0.0598\n",
      "Epoch 42/60\n",
      "45/45 [==============================] - 3s 66ms/step - loss: 0.1658 - accuracy: 0.9338 - val_loss: 9.7632 - val_accuracy: 0.0618\n",
      "Epoch 43/60\n",
      "45/45 [==============================] - 3s 65ms/step - loss: 0.1610 - accuracy: 0.9351 - val_loss: 9.8243 - val_accuracy: 0.0598\n",
      "Epoch 44/60\n",
      "45/45 [==============================] - 3s 66ms/step - loss: 0.1568 - accuracy: 0.9362 - val_loss: 9.9922 - val_accuracy: 0.0564\n",
      "Epoch 45/60\n",
      "45/45 [==============================] - 3s 67ms/step - loss: 0.1523 - accuracy: 0.9378 - val_loss: 9.9558 - val_accuracy: 0.0581\n",
      "Epoch 46/60\n",
      "45/45 [==============================] - 3s 72ms/step - loss: 0.1492 - accuracy: 0.9387 - val_loss: 10.0986 - val_accuracy: 0.0566\n",
      "Epoch 47/60\n",
      "45/45 [==============================] - 3s 66ms/step - loss: 0.1468 - accuracy: 0.9395 - val_loss: 10.1909 - val_accuracy: 0.0560\n",
      "Epoch 48/60\n",
      "45/45 [==============================] - 3s 65ms/step - loss: 0.1520 - accuracy: 0.9363 - val_loss: 10.2379 - val_accuracy: 0.0510\n",
      "Epoch 49/60\n",
      "45/45 [==============================] - 3s 64ms/step - loss: 0.2774 - accuracy: 0.8990 - val_loss: 9.3919 - val_accuracy: 0.0625\n",
      "Epoch 50/60\n",
      "45/45 [==============================] - 3s 69ms/step - loss: 0.3673 - accuracy: 0.8643 - val_loss: 9.8689 - val_accuracy: 0.0440\n",
      "Epoch 51/60\n",
      "45/45 [==============================] - 3s 66ms/step - loss: 0.3169 - accuracy: 0.8862 - val_loss: 9.8440 - val_accuracy: 0.0657\n",
      "Epoch 52/60\n",
      "45/45 [==============================] - 3s 67ms/step - loss: 0.2279 - accuracy: 0.9115 - val_loss: 10.0150 - val_accuracy: 0.0739\n",
      "Epoch 53/60\n",
      "45/45 [==============================] - 3s 69ms/step - loss: 0.1848 - accuracy: 0.9253 - val_loss: 10.2968 - val_accuracy: 0.0678\n",
      "Epoch 54/60\n",
      "45/45 [==============================] - 3s 67ms/step - loss: 0.1653 - accuracy: 0.9319 - val_loss: 10.0756 - val_accuracy: 0.0725\n",
      "Epoch 55/60\n",
      "45/45 [==============================] - 3s 65ms/step - loss: 0.1756 - accuracy: 0.9286 - val_loss: 10.1211 - val_accuracy: 0.0692\n",
      "Epoch 56/60\n",
      "45/45 [==============================] - 3s 66ms/step - loss: 0.1547 - accuracy: 0.9363 - val_loss: 10.3651 - val_accuracy: 0.0605\n",
      "Epoch 57/60\n",
      "45/45 [==============================] - 3s 66ms/step - loss: 0.1450 - accuracy: 0.9391 - val_loss: 10.4043 - val_accuracy: 0.0580\n",
      "Epoch 58/60\n",
      "45/45 [==============================] - 3s 66ms/step - loss: 0.1376 - accuracy: 0.9411 - val_loss: 10.4793 - val_accuracy: 0.0577\n",
      "Epoch 59/60\n",
      "45/45 [==============================] - 3s 66ms/step - loss: 0.1326 - accuracy: 0.9431 - val_loss: 10.4939 - val_accuracy: 0.0589\n",
      "Epoch 60/60\n",
      "45/45 [==============================] - 3s 68ms/step - loss: 0.1309 - accuracy: 0.9434 - val_loss: 10.5381 - val_accuracy: 0.0617\n"
     ]
    }
   ],
   "source": [
    "history = model.fit(X_train, y_train, batch_size = 32, epochs = 60, validation_split=0.2)"
   ]
  },
  {
   "cell_type": "code",
   "execution_count": 23,
   "metadata": {},
   "outputs": [],
   "source": [
    "def findIndex(val, arr):\n",
    "    index = -1\n",
    "    for x in range(arr.size):\n",
    "        if val == arr[x]:\n",
    "            index = x\n",
    "            break\n",
    "    return index"
   ]
  },
  {
   "cell_type": "code",
   "execution_count": 24,
   "metadata": {},
   "outputs": [],
   "source": [
    "def accuracy(target, prob):\n",
    "    accArr = []\n",
    "    for i in range(prob.shape[1]):\n",
    "        correctCount = 0\n",
    "        totalCount = 0\n",
    "        for j in range(prob.shape[0]):\n",
    "            if np.count_nonzero(target[j][i]) != 0:\n",
    "                if findIndex(1., target[j][i]) == findIndex(np.amax(prob[j][i]), prob[j][i]):\n",
    "                    correctCount += 1\n",
    "                totalCount += 1\n",
    "        a = correctCount / totalCount\n",
    "        accArr.append(a)\n",
    "    return accArr"
   ]
  },
  {
   "cell_type": "code",
   "execution_count": 25,
   "metadata": {},
   "outputs": [
    {
     "name": "stdout",
     "output_type": "stream",
     "text": [
      "43/43 [==============================] - 6s 52ms/step\n"
     ]
    }
   ],
   "source": [
    "pred_test = model.predict(X_test)\n",
    "acc = accuracy(y_test.numpy(), pred_test)"
   ]
  },
  {
   "cell_type": "code",
   "execution_count": null,
   "metadata": {},
   "outputs": [],
   "source": []
  },
  {
   "cell_type": "code",
   "execution_count": 26,
   "metadata": {},
   "outputs": [
    {
     "name": "stdout",
     "output_type": "stream",
     "text": [
      "Stored 'acc' (list)\n"
     ]
    }
   ],
   "source": [
    "%store acc"
   ]
  }
 ],
 "metadata": {
  "kernelspec": {
   "display_name": "Python 3.10.5 64-bit",
   "language": "python",
   "name": "python3"
  },
  "language_info": {
   "codemirror_mode": {
    "name": "ipython",
    "version": 3
   },
   "file_extension": ".py",
   "mimetype": "text/x-python",
   "name": "python",
   "nbconvert_exporter": "python",
   "pygments_lexer": "ipython3",
   "version": "3.9.13"
  },
  "vscode": {
   "interpreter": {
    "hash": "5d8d8f94dc29cf6517d9b951f40e6c965bcb2efc4a5d0d869ef8b359fa785960"
   }
  }
 },
 "nbformat": 4,
 "nbformat_minor": 2
}