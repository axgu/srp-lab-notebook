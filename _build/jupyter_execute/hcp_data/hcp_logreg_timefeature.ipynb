{
 "cells": [
  {
   "cell_type": "markdown",
   "metadata": {},
   "source": [
    "# Logistic Regression - (Time point, ROI) Features"
   ]
  },
  {
   "cell_type": "code",
   "execution_count": 1,
   "metadata": {},
   "outputs": [],
   "source": [
    "import numpy as np\n",
    "import pickle\n",
    "import scipy as scp\n",
    "import sklearn\n",
    "from sklearn.model_selection import train_test_split\n",
    "from sklearn.linear_model import LogisticRegression"
   ]
  },
  {
   "cell_type": "code",
   "execution_count": 2,
   "metadata": {},
   "outputs": [],
   "source": [
    "# Turn dictionary into 2D Array\n",
    "def createData(movieDict):\n",
    "    # movieList = list(movieDict.keys())\n",
    "    # vals = list(movieDict.values())\n",
    "    \n",
    "    # Reduce to 2 dimensions\n",
    "    X = np.empty((176*18, 65*300+2), dtype=\"object\")\n",
    "\n",
    "    \n",
    "    for key, row in movieDict.items():\n",
    "        print(row.shape)\n",
    "        # Testretest\n",
    "        if len(row.shape) == 4:\n",
    "            for i in range(row.shape[0]):\n",
    "                for j in range(row.shape[-3]):\n",
    "                    X[j][-2] = 'testretest'\n",
    "                    X[j][-1] = j\n",
    "                    for k in range(65):\n",
    "                        for l in range(row.shape[-1]):\n",
    "                            X[j][k*row.shape[-1] + l] = row[i][j][k][l]\n",
    "                            \n",
    "        # Otherwise\n",
    "        else:\n",
    "            for j in range(row.shape[-3]):\n",
    "                X[j][-2] = key\n",
    "                X[j][-1] = j\n",
    "                for k in range(65):\n",
    "                    for l in range(row.shape[-1]):\n",
    "                            X[j][k*row.shape[-1] + l] = row[j][k][l]\n",
    "                         \n",
    "    # Randomly split participants\n",
    "    X_train = []\n",
    "    X_test = []\n",
    "    y_train = []\n",
    "    y_test = []\n",
    "    testIndex = np.random.randint(0, 176, 76)\n",
    "    np.random.shuffle(X)\n",
    "    for row in X:\n",
    "        print(row)\n",
    "        if row[-1] in testIndex:\n",
    "            X_test.append(row[:-2])\n",
    "            y_test.append(row[-2])\n",
    "        else:\n",
    "            X_train.append(row[:-2])\n",
    "            y_train.append(row[-2])\n",
    "\n",
    "    X_train = np.array(X_train).astype(float)\n",
    "    X_test = np.array(X_test).astype(float)\n",
    "    y_train = np.array(y_train)\n",
    "    y_test = np.array(y_test)\n",
    "    return X_train, X_test, y_train, y_test\n",
    "    "
   ]
  },
  {
   "cell_type": "code",
   "execution_count": 3,
   "metadata": {},
   "outputs": [
    {
     "name": "stdout",
     "output_type": "stream",
     "text": [
      "(4, 176, 84, 300)\n"
     ]
    }
   ],
   "source": [
    "with open('HCP_movie_watching.pkl','rb') as f:\n",
    "    TS = pickle.load(f)\n",
    "\n",
    "X_train, X_test, y_train, y_test = createData(TS)"
   ]
  },
  {
   "cell_type": "code",
   "execution_count": 61,
   "metadata": {},
   "outputs": [],
   "source": [
    "# model = LogisticRegression(multi_class='multinomial', solver='sag')\n",
    "# model.fit(X_train, y_train)"
   ]
  },
  {
   "cell_type": "code",
   "execution_count": 62,
   "metadata": {},
   "outputs": [],
   "source": [
    "# acc = model.score(X_test, y_test)\n",
    "# print(\"Accuracy: \", acc)"
   ]
  },
  {
   "cell_type": "code",
   "execution_count": 63,
   "metadata": {},
   "outputs": [],
   "source": [
    "# Cost Function\n",
    "def cost(X, Y, W):\n",
    "    h = 1 / (1 + np.exp(-np.dot(X, W))) # hypothesis representation\n",
    "    cost = np.dot(Y, -np.log(h)) + np.dot((1-Y), np.log(1-h)) # cost function\n",
    "    J = -1 / (len(X)) * np.sum(cost) # mean cost\n",
    "    return J\n",
    "\n",
    "\n",
    "def gradient(X, Y, W):\n",
    "    h = 1 / (1 + np.exp(-np.dot(X, W)))\n",
    "    diff = h - Y\n",
    "    grad = 1 / (len(X)) * np.dot(diff, X)\n",
    "    return grad\n",
    "\n",
    "    \n",
    "def descent(X_train, Y_train, lr = 0.01):\n",
    "    weights = [0]*(len(X_train[0]))\n",
    "    loss = []\n",
    "    loss.append(cost(X_train, Y_train, weights))\n",
    "    count = 0\n",
    "    while count < 1000:\n",
    "        grad = gradient(X_train, Y_train, weights)\n",
    "        weights = weights - lr*grad\n",
    "        loss.append(cost(X_train, Y_train, weights))\n",
    "        count += 1\n",
    "\n",
    "    return weights"
   ]
  },
  {
   "cell_type": "code",
   "execution_count": 64,
   "metadata": {},
   "outputs": [],
   "source": [
    "def createYMask(movie, Y):\n",
    "    yMasked = np.zeros(Y.shape)\n",
    "    mask = Y == movie\n",
    "    yMasked[mask] = 1\n",
    "    return yMasked"
   ]
  },
  {
   "cell_type": "code",
   "execution_count": 65,
   "metadata": {},
   "outputs": [
    {
     "name": "stdout",
     "output_type": "stream",
     "text": [
      "[ 4.31609323e-03  6.14887169e-03  4.53452522e-03 ...  4.72152925e-05\n",
      " -9.83087297e-03 -6.55919310e-03]\n",
      "[ 0.00646204  0.00415734  0.00890824 ...  0.00403777  0.00344235\n",
      " -0.00106615]\n",
      "[ 0.00498677  0.00558748  0.00751926 ...  0.00075747  0.00293276\n",
      " -0.0006267 ]\n",
      "[ 0.00265687  0.00501067  0.00621069 ...  0.00060875  0.00336237\n",
      " -0.00251431]\n",
      "[ 0.0068925   0.00766283  0.01091374 ... -0.00388291 -0.00383299\n",
      " -0.00625019]\n",
      "[7.77406593e-03 4.59182186e-03 6.29960223e-03 ... 3.75088706e-05\n",
      " 1.11880762e-02 1.91867297e-03]\n",
      "[ 0.00896773  0.00642047  0.01210803 ...  0.00137281 -0.00044694\n",
      " -0.00337771]\n",
      "[0.00463044 0.0060374  0.00595867 ... 0.00164268 0.00177911 0.0047781 ]\n",
      "[ 0.00879431  0.00402151  0.00923612 ... -0.00132012 -0.00480074\n",
      " -0.00550729]\n",
      "[ 0.00812091  0.00352184  0.00545422 ...  0.00077628  0.00114374\n",
      " -0.00576554]\n",
      "[ 0.00512857  0.00494274  0.00169858 ...  0.00159787 -0.00048169\n",
      " -0.0042462 ]\n",
      "[ 0.00383971  0.00125059  0.00385125 ...  0.00394294 -0.00079893\n",
      "  0.00387691]\n",
      "[ 0.00531169  0.00497184  0.00846108 ...  0.00042918  0.00274672\n",
      " -0.00485941]\n",
      "[ 0.00736933  0.00353653  0.008181   ...  0.00115601  0.00773015\n",
      " -0.00571043]\n",
      "[ 9.14599764e-03  9.69130338e-03  1.00342407e-02 ...  1.14116685e-05\n",
      " -7.61457048e-04 -1.25898624e-02]\n"
     ]
    }
   ],
   "source": [
    "movieList = list(TS.keys())\n",
    "modelWeights = []\n",
    "for movie in movieList:\n",
    "    yMasked = createYMask(movie, y_train)\n",
    "    W = descent(X_train, yMasked)\n",
    "    modelWeights.append(W)"
   ]
  },
  {
   "cell_type": "code",
   "execution_count": 69,
   "metadata": {},
   "outputs": [
    {
     "name": "stdout",
     "output_type": "stream",
     "text": [
      "0.9722222222222222\n"
     ]
    }
   ],
   "source": [
    "def sigmoid(X, W):\n",
    "    return 1 / (1 + np.exp(-np.dot(X, W)))\n",
    "\n",
    "predY = []\n",
    "for x in X_test:\n",
    "    probList = [sigmoid(x, W) for W in modelWeights]\n",
    "    predY.append(movieList[probList.index(max(probList))])\n",
    "\n",
    "pMask = y_test == predY # create mask for values where predicted is correct\n",
    "acc = sum(pMask) / len(pMask)\n",
    "print(acc)"
   ]
  }
 ],
 "metadata": {
  "kernelspec": {
   "display_name": "Python 3.10.5 64-bit",
   "language": "python",
   "name": "python3"
  },
  "language_info": {
   "codemirror_mode": {
    "name": "ipython",
    "version": 3
   },
   "file_extension": ".py",
   "mimetype": "text/x-python",
   "name": "python",
   "nbconvert_exporter": "python",
   "pygments_lexer": "ipython3",
   "version": "3.10.5"
  },
  "vscode": {
   "interpreter": {
    "hash": "5d8d8f94dc29cf6517d9b951f40e6c965bcb2efc4a5d0d869ef8b359fa785960"
   }
  }
 },
 "nbformat": 4,
 "nbformat_minor": 2
}