{
 "cells": [
  {
   "cell_type": "code",
   "execution_count": 1,
   "metadata": {},
   "outputs": [],
   "source": [
    "import numpy as np\n",
    "import pickle\n",
    "import time\n",
    "from matplotlib import pyplot as plt\n",
    "import torch\n",
    "from torch import nn\n",
    "import torch.nn.functional as F\n",
    "import torch.optim as optim\n",
    "\n",
    "from lstm_data_prep import prep\n",
    "from eval_model import epoch_time, find_lens"
   ]
  },
  {
   "cell_type": "code",
   "execution_count": 2,
   "metadata": {},
   "outputs": [
    {
     "name": "stderr",
     "output_type": "stream",
     "text": [
      "C:\\Users\\Anna\\Documents\\GitHub\\srp-lab-notebook\\hcp_data\\lstm_data_prep.py:59: VisibleDeprecationWarning: Creating an ndarray from ragged nested sequences (which is a list-or-tuple of lists-or-tuples-or ndarrays with different lengths or shapes) is deprecated. If you meant to do this, you must specify 'dtype=object' when creating the ndarray.\n",
      "  X_padded = paddingArr(np.array(X_arr), pad=pad)\n"
     ]
    }
   ],
   "source": [
    "device = \"cuda\" if torch.cuda.is_available() else \"cpu\"\n",
    "with open('HCP_movie_watching.pkl','rb') as f:\n",
    "    TS = pickle.load(f)\n",
    "\n",
    "train_loader, _ = prep(TS, pad=0.)"
   ]
  },
  {
   "cell_type": "code",
   "execution_count": 3,
   "metadata": {},
   "outputs": [],
   "source": [
    "class Attention(nn.Module):\n",
    "    def __init__(self, n_input, n_hidden, n_out, seq_len, drop):\n",
    "        self.n_input = n_input\n",
    "        self.n_hidden = n_hidden\n",
    "        self.n_out = n_out\n",
    "        self.num_gru_layers = 1\n",
    "\n",
    "        super().__init__()\n",
    "        self.dropout = nn.Dropout(drop)\n",
    "        self.gru = nn.GRU(input_size=n_input, hidden_size=n_hidden, num_layers=1, batch_first=True)\n",
    "        self.fc = nn.Linear(n_hidden, n_out)\n",
    "\n",
    "        self.fc_h = nn.Linear(n_hidden, n_hidden, bias=False)\n",
    "        self.fc_out = nn.Linear(n_hidden, n_hidden, bias=False)\n",
    "        self.weight = nn.Parameter(torch.FloatTensor(n_hidden))\n",
    "\n",
    "    def forward(self, x, x_lens, h):\n",
    "        batch_size = x.shape[0]\n",
    "\n",
    "        x_packed = torch.nn.utils.rnn.pack_padded_sequence(x, x_lens, batch_first=True, enforce_sorted=False)\n",
    "        \n",
    "        out, hidden = self.gru(x_packed, h)\n",
    "    \n",
    "        out, _ = torch.nn.utils.rnn.pad_packed_sequence(out, batch_first=True, padding_value=0)\n",
    "\n",
    "        # attention\n",
    "        # (batch_size, seq_len, seq_len)\n",
    "        e = torch.zeros((batch_size, out.shape[1], out.shape[1]), device=device)\n",
    "        V = self.weight.repeat(batch_size, 1).unsqueeze(1)\n",
    "        for i in range(out.shape[1]):\n",
    "            r = torch.zeros(out.shape, device=device)\n",
    "            for j in range(out.shape[1]):\n",
    "                # (batch_size, seq_len, hidden_size)\n",
    "                z = torch.tanh(self.fc_h(out[:, i, :]) + self.fc_out(out[:, j, :]))\n",
    "                r[:, j, :] = z\n",
    "            r = r.permute(0, 2, 1)\n",
    "            \n",
    "            a = torch.bmm(V, r).squeeze(1)\n",
    "            e[:, i, :] = a\n",
    "        att_weights = F.log_softmax(e, dim=-1)\n",
    "\n",
    "        context_vector = torch.bmm(att_weights, out)\n",
    "        \n",
    "        y_hat = self.fc(context_vector)\n",
    "        return y_hat\n",
    "\n",
    "    def init_hidden(self, batch_size):\n",
    "        return torch.zeros(self.num_gru_layers, batch_size, self.n_hidden, device=device)"
   ]
  },
  {
   "cell_type": "code",
   "execution_count": 4,
   "metadata": {},
   "outputs": [],
   "source": [
    "def train(model, loss_fn, train_loader, epochs=10, learning=1e-2):\n",
    "    train_loss = []\n",
    "    best_loss = 1e10\n",
    "    optimizer = optim.Adam(model.parameters(), lr=learning)\n",
    "\n",
    "    model.train()\n",
    "    for i in range(epochs):\n",
    "        start = time.time()\n",
    "        avg_loss = 0.\n",
    "        for X, y in train_loader:\n",
    "            loss = 0.\n",
    "            curr_batch_size = X.shape[0]\n",
    "            h = model.init_hidden(curr_batch_size)\n",
    "            X, y = X.to(device), y.to(device)\n",
    "            optimizer.zero_grad()\n",
    "\n",
    "            X_lens = find_lens(X)\n",
    "\n",
    "            output = model(X, X_lens, h)\n",
    "\n",
    "            out = output.permute(0, 2, 1)\n",
    "            target = y.permute(0, 2, 1)\n",
    "\n",
    "            loss += loss_fn(out, target)\n",
    "            \n",
    "            loss.backward()\n",
    "            optimizer.step()\n",
    "            avg_loss += loss.item()\n",
    "\n",
    "        end = time.time()\n",
    "        epoch_mins, epoch_secs = epoch_time(start, end)\n",
    "        if best_loss > avg_loss:\n",
    "            best_loss = avg_loss\n",
    "            torch.save({\"attention\": model.state_dict(), \"att_optimizer\": optimizer.state_dict()}, 'attention-model.pt')\n",
    "\n",
    "        print(\"Epoch \" + str(i + 1) + \"/\" + str(epochs))\n",
    "        print(\"Time: \" + str(epoch_mins) + \" minutes \" + str(epoch_secs) + \" seconds\")\n",
    "        print(\"Training loss: \" + str(avg_loss))\n",
    "        print()\n",
    "        train_loss.append(avg_loss)\n",
    "    return train_loss"
   ]
  },
  {
   "cell_type": "code",
   "execution_count": 5,
   "metadata": {},
   "outputs": [
    {
     "name": "stdout",
     "output_type": "stream",
     "text": [
      "Epoch 1/20\n",
      "Time: 29 minutes 25 seconds\n",
      "Training loss: 1285.0732378959656\n",
      "\n",
      "Epoch 2/20\n",
      "Time: 28 minutes 41 seconds\n",
      "Training loss: 273.7205154299736\n",
      "\n",
      "Epoch 3/20\n",
      "Time: 28 minutes 22 seconds\n",
      "Training loss: 184.9106590896845\n",
      "\n",
      "Epoch 4/20\n",
      "Time: 28 minutes 56 seconds\n",
      "Training loss: 176.85619628429413\n",
      "\n",
      "Epoch 5/20\n",
      "Time: 28 minutes 46 seconds\n",
      "Training loss: 153.6290947459638\n",
      "\n",
      "Epoch 6/20\n",
      "Time: 29 minutes 12 seconds\n",
      "Training loss: 147.550477524288\n",
      "\n",
      "Epoch 7/20\n",
      "Time: 29 minutes 6 seconds\n",
      "Training loss: 159.52882766351104\n",
      "\n",
      "Epoch 8/20\n",
      "Time: 28 minutes 28 seconds\n",
      "Training loss: 112.32506143767387\n",
      "\n",
      "Epoch 9/20\n",
      "Time: 27 minutes 4 seconds\n",
      "Training loss: 87.94720020000369\n",
      "\n",
      "Epoch 10/20\n",
      "Time: 28 minutes 46 seconds\n",
      "Training loss: 108.10457845856737\n",
      "\n",
      "Epoch 11/20\n",
      "Time: 29 minutes 19 seconds\n",
      "Training loss: 169.91652993371503\n",
      "\n",
      "Epoch 12/20\n",
      "Time: 29 minutes 3 seconds\n",
      "Training loss: 176.26134404550797\n",
      "\n",
      "Epoch 13/20\n",
      "Time: 29 minutes 43 seconds\n",
      "Training loss: 105.91512038401561\n",
      "\n",
      "Epoch 14/20\n",
      "Time: 28 minutes 43 seconds\n",
      "Training loss: 132.75374535837648\n",
      "\n",
      "Epoch 15/20\n",
      "Time: 21 minutes 20 seconds\n",
      "Training loss: 185.57741662606924\n",
      "\n",
      "Epoch 16/20\n",
      "Time: 28 minutes 30 seconds\n",
      "Training loss: 166.7678654731418\n",
      "\n",
      "Epoch 17/20\n",
      "Time: 29 minutes 7 seconds\n",
      "Training loss: 140.61724404871984\n",
      "\n",
      "Epoch 18/20\n",
      "Time: 28 minutes 51 seconds\n",
      "Training loss: 151.2202190132051\n",
      "\n",
      "Epoch 19/20\n",
      "Time: 29 minutes 25 seconds\n",
      "Training loss: 177.05541453586397\n",
      "\n",
      "Epoch 20/20\n",
      "Time: 41 minutes 32 seconds\n",
      "Training loss: 112.10562808026137\n",
      "\n"
     ]
    }
   ],
   "source": [
    "n_input = 300\n",
    "n_hidden = 32\n",
    "n_out = 15\n",
    "seq_len = 90\n",
    "drop = 0.01\n",
    "EPOCHS = 20\n",
    "\n",
    "attention = Attention(n_input, n_hidden, n_out, seq_len, drop).to(device)\n",
    "loss_fn = nn.CrossEntropyLoss()\n",
    "\n",
    "train_loss = train(attention, loss_fn, train_loader, EPOCHS)"
   ]
  },
  {
   "cell_type": "code",
   "execution_count": 7,
   "metadata": {},
   "outputs": [
    {
     "data": {
      "image/png": "[encoded data removed]",
      "text/plain": [
       "<Figure size 432x288 with 1 Axes>"
      ]
     },
     "metadata": {
      "filenames": {
       "image/png": "C:\\Users\\Anna\\Documents\\GitHub\\srp-lab-notebook\\_build\\jupyter_execute\\hcp_data\\train_attention_5_0.png"
      },
      "needs_background": "light"
     },
     "output_type": "display_data"
    }
   ],
   "source": [
    "xAx = [i for i in range(1, EPOCHS+1)]\n",
    "plt.plot(xAx, train_loss)\n",
    "plt.xlabel(\"Epoch\")\n",
    "plt.ylabel(\"Cross Entropy Loss\")\n",
    "plt.xlim(0, EPOCHS)\n",
    "plt.xticks([2*j for j in range(EPOCHS // 2)])\n",
    "plt.title(\"Training Loss\")\n",
    "plt.show()"
   ]
  }
 ],
 "metadata": {
  "kernelspec": {
   "display_name": "Python 3.10.5 64-bit",
   "language": "python",
   "name": "python3"
  },
  "language_info": {
   "codemirror_mode": {
    "name": "ipython",
    "version": 3
   },
   "file_extension": ".py",
   "mimetype": "text/x-python",
   "name": "python",
   "nbconvert_exporter": "python",
   "pygments_lexer": "ipython3",
   "version": "3.9.13"
  },
  "vscode": {
   "interpreter": {
    "hash": "5d8d8f94dc29cf6517d9b951f40e6c965bcb2efc4a5d0d869ef8b359fa785960"
   }
  }
 },
 "nbformat": 4,
 "nbformat_minor": 2
}