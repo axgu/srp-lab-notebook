{
 "cells": [
  {
   "cell_type": "code",
   "execution_count": 1,
   "metadata": {},
   "outputs": [],
   "source": [
    "import pickle\n",
    "import numpy as np\n",
    "import torch\n",
    "import random\n",
    "from matplotlib import pyplot as plt\n",
    "\n",
    "from lstm_data_prep import prep\n",
    "from rnn_perm_test import iterateSeq, test_random_labels, test_random_column_labels, test_random_features\n",
    "from attention import test_model, initialize_encoder_decoder"
   ]
  },
  {
   "cell_type": "code",
   "execution_count": 2,
   "metadata": {},
   "outputs": [],
   "source": [
    "device = \"cuda\" if torch.cuda.is_available() else \"cpu\"\n",
    "with open('HCP_movie_watching.pkl','rb') as f:\n",
    "    TS = pickle.load(f)\n",
    "\n",
    "input_size = 300\n",
    "hidden_size = 32\n",
    "n_layers = 1\n",
    "seq_len = 90\n",
    "class_num = 15\n",
    "\n",
    "_, test_loader = prep(TS)"
   ]
  },
  {
   "cell_type": "code",
   "execution_count": 3,
   "metadata": {},
   "outputs": [
    {
     "name": "stderr",
     "output_type": "stream",
     "text": [
      "c:\\Users\\Anna&Megan\\Documents\\GitHub\\srp-lab-notebook\\hcp_data\\attention.py:187: UserWarning: To copy construct from a tensor, it is recommended to use sourceTensor.clone().detach() or sourceTensor.clone().detach().requires_grad_(True), rather than torch.tensor(sourceTensor).\n",
      "  decoder_input = torch.tensor(new_input, device=device)\n",
      "c:\\Users\\Anna&Megan\\Documents\\GitHub\\srp-lab-notebook\\hcp_data\\attention.py:189: UserWarning: To copy construct from a tensor, it is recommended to use sourceTensor.clone().detach() or sourceTensor.clone().detach().requires_grad_(True), rather than torch.tensor(sourceTensor).\n",
      "  test_loss += loss_fn(decoder_output.view(curr_batch_size,-1), torch.tensor(y[:, j, :], device=device)).item()\n",
      "c:\\Users\\Anna&Megan\\Documents\\GitHub\\srp-lab-notebook\\hcp_data\\attention.py:192: UserWarning: To copy construct from a tensor, it is recommended to use sourceTensor.clone().detach() or sourceTensor.clone().detach().requires_grad_(True), rather than torch.tensor(sourceTensor).\n",
      "  output = torch.tensor(new_input.unsqueeze(1))\n"
     ]
    }
   ],
   "source": [
    "encoder, attent, decoder, encoder_optimizer, decoder_optimizer, loss_fn = initialize_encoder_decoder(input_size, hidden_size, class_num)\n",
    "\n",
    "check = torch.load(\"encoder-decoder.pt\")\n",
    "encoder.load_state_dict(check[\"encoder\"])\n",
    "decoder.load_state_dict(check[\"decoder\"])\n",
    "\n",
    "encoder.eval()\n",
    "decoder.eval()\n",
    "\n",
    "attention_accuracy, loss_val = test_model(encoder, decoder, test_loader, seq_len, loss_fn)"
   ]
  },
  {
   "cell_type": "code",
   "execution_count": 9,
   "metadata": {},
   "outputs": [],
   "source": [
    "test_permutation_acc = iterateSeq(encoder, decoder, loss_fn, TS, numSamples = 3)\n",
    "random_feature_acc = test_random_features(encoder, decoder, loss_fn, TS, num_samples = 3)"
   ]
  },
  {
   "cell_type": "code",
   "execution_count": 5,
   "metadata": {},
   "outputs": [],
   "source": [
    "# Test with random labels\n",
    "# random_labels_samples_accuracy, _ = test_random_labels(encoder, decoder, loss_fn, TS)"
   ]
  },
  {
   "cell_type": "code",
   "execution_count": 6,
   "metadata": {},
   "outputs": [],
   "source": [
    "random_batch_labels_accuracy, _ = test_random_column_labels(encoder, decoder, loss_fn, TS, num_samples = 1)"
   ]
  },
  {
   "cell_type": "code",
   "execution_count": 10,
   "metadata": {},
   "outputs": [
    {
     "data": {
      "image/png": "[encoded data removed]",
      "text/plain": [
       "<Figure size 432x288 with 1 Axes>"
      ]
     },
     "metadata": {
      "filenames": {
       "image/png": "C:\\Users\\Anna&Megan\\Documents\\GitHub\\srp-lab-notebook\\_build\\jupyter_execute\\hcp_data\\attention-book_6_0.png"
      },
      "needs_background": "light"
     },
     "output_type": "display_data"
    }
   ],
   "source": [
    "# Compare accuracies\n",
    "xAx = [i for i in range(0,90)]\n",
    "plt.plot(xAx, attention_accuracy, label=\"attention-encoder-decoder\")\n",
    "# plt.plot(xAx, attention_permutation_accuracy, label=\"permutation\")\n",
    "\"\"\"\n",
    "# Test with randomly generated label for each (batch, time step)\n",
    "for i, plot in enumerate(random_labels_samples_accuracy):\n",
    "    plot = np.insert(plot, 0, plot[0])\n",
    "    plt.plot(xAx, plot, label=\"random-\" + str(i+1))\n",
    "\"\"\"\n",
    "\n",
    "# Test with randomly generated label for each batch, same across time steps within batch\n",
    "for i, plot in enumerate(random_batch_labels_accuracy):\n",
    "    plt.plot(xAx, plot, label=\"random-labels-\" + str(i+1))\n",
    "\n",
    "# Test with permuted inputs\n",
    "for i, plot in enumerate(test_permutation_acc):\n",
    "    plt.plot(xAx, plot, label=\"permutation-\" + str(i+1))\n",
    "\n",
    "# Test with randomly generated inputs\n",
    "for i, plot in enumerate(random_feature_acc):\n",
    "    plt.plot(xAx, plot, label=\"random-inputs\" + str(i+1))\n",
    "plt.xlabel(\"Time (s)\")\n",
    "plt.ylabel(\"Accuracy\")\n",
    "plt.ylim(0,1)\n",
    "plt.xlim(0,90)\n",
    "plt.title(\"Time-varying Classification Accuracy\")\n",
    "plt.legend()\n",
    "plt.show()"
   ]
  },
  {
   "cell_type": "code",
   "execution_count": 8,
   "metadata": {},
   "outputs": [
    {
     "name": "stdout",
     "output_type": "stream",
     "text": [
      "Stored 'attention_accuracy' (ndarray)\n"
     ]
    }
   ],
   "source": [
    "%store attention_accuracy"
   ]
  }
 ],
 "metadata": {
  "kernelspec": {
   "display_name": "Python 3.10.5 64-bit",
   "language": "python",
   "name": "python3"
  },
  "language_info": {
   "codemirror_mode": {
    "name": "ipython",
    "version": 3
   },
   "file_extension": ".py",
   "mimetype": "text/x-python",
   "name": "python",
   "nbconvert_exporter": "python",
   "pygments_lexer": "ipython3",
   "version": "3.10.5"
  },
  "vscode": {
   "interpreter": {
    "hash": "5d8d8f94dc29cf6517d9b951f40e6c965bcb2efc4a5d0d869ef8b359fa785960"
   }
  }
 },
 "nbformat": 4,
 "nbformat_minor": 2
}