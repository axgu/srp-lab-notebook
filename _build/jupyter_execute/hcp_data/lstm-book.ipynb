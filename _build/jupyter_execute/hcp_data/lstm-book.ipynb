{
 "cells": [
  {
   "cell_type": "code",
   "execution_count": 1,
   "metadata": {},
   "outputs": [],
   "source": [
    "import pickle\n",
    "import numpy as np\n",
    "import torch\n",
    "import random\n",
    "from matplotlib import pyplot as plt\n",
    "from torch.utils.data import TensorDataset, DataLoader\n",
    "\n",
    "from lstm_data_prep import prep, numpy_prep\n",
    "from rnn_perm_test import iterateLSTM, create_permutation_3d\n",
    "from lstm import test_model_lstm, initialize_lstm"
   ]
  },
  {
   "cell_type": "code",
   "execution_count": 2,
   "metadata": {},
   "outputs": [],
   "source": [
    "device = \"cuda\" if torch.cuda.is_available() else \"cpu\"\n",
    "with open('HCP_movie_watching.pkl','rb') as f:\n",
    "    TS = pickle.load(f)\n",
    "\n",
    "input_size = 300\n",
    "hidden_size = 32\n",
    "n_layers = 1\n",
    "seq_len = 90\n",
    "class_num = 15\n",
    "\n",
    "_, test_loader = prep(TS)"
   ]
  },
  {
   "cell_type": "code",
   "execution_count": 12,
   "metadata": {},
   "outputs": [],
   "source": [
    "lstmModel, lstmOptim, lstmLoss = initialize_lstm(input_size, hidden_size, seq_len)\n",
    "\n",
    "check = torch.load(\"lstm-model.pt\")\n",
    "lstmModel.load_state_dict(check[\"lstm\"])\n",
    "lstmOptim.load_state_dict(check[\"lstm_optimizer\"])\n",
    "\n",
    "lstmModel.eval()\n",
    "\n",
    "lstm_accuracy = test_model_lstm(lstmModel, test_loader, lstmLoss, seq_len)"
   ]
  },
  {
   "cell_type": "code",
   "execution_count": 21,
   "metadata": {},
   "outputs": [],
   "source": [
    "# Run permutation test on model\n",
    "permutation_lstm_accuracy = iterateLSTM(lstmModel, lstmLoss, TS, num_samples=1)"
   ]
  },
  {
   "cell_type": "code",
   "execution_count": 16,
   "metadata": {},
   "outputs": [],
   "source": [
    "def generate_random_features(X_lens, num_batches, num_seq = 90, num_features = 300):\n",
    "    X_random = []\n",
    "    for i in range(num_batches):\n",
    "        X_batch = np.random.normal(size=(X_lens[i], num_features))\n",
    "        if X_lens[i] < num_seq:\n",
    "            X_pad = np.array([[-100.]*300]*(num_seq - X_lens[i]))\n",
    "            X_batch = np.append(X_batch, X_pad, axis=0)\n",
    "        X_random.append(X_batch)\n",
    "    X_random = np.array(X_random)\n",
    "    return X_random\n",
    "\n",
    "def test_random_features(model, loss, dictionary, seq_len = 90, num_samples = 1, batch_size = 32):\n",
    "    _, _, X, y = numpy_prep(dictionary)\n",
    "    X_lens = find_lens(X)\n",
    "    random_features_acc = []\n",
    "    for i in range(num_samples):\n",
    "        X_random = generate_random_features(X_lens, X.shape[0])\n",
    "        X_random_data = TensorDataset(torch.from_numpy(X_random).float(), torch.from_numpy(y).float())\n",
    "        X_random_loader = DataLoader(X_random_data, shuffle=True, batch_size=batch_size)\n",
    "        sample_acc = test_model_lstm(model, X_random_loader, loss, seq_len)\n",
    "        random_features_acc.append(sample_acc)\n",
    "    return random_features_acc"
   ]
  },
  {
   "cell_type": "code",
   "execution_count": 10,
   "metadata": {},
   "outputs": [],
   "source": [
    "def find_lens(X):\n",
    "    X_lens = []\n",
    "    for batch in X:\n",
    "        count = 0\n",
    "        for time in batch:\n",
    "            if time[0] == -100.:\n",
    "                break\n",
    "            else:\n",
    "                count += 1\n",
    "        X_lens.append(count)\n",
    "    return X_lens"
   ]
  },
  {
   "cell_type": "code",
   "execution_count": 17,
   "metadata": {},
   "outputs": [
    {
     "name": "stderr",
     "output_type": "stream",
     "text": [
      "c:\\Users\\Anna&Megan\\Documents\\GitHub\\srp-lab-notebook\\hcp_data\\lstm_data_prep.py:59: VisibleDeprecationWarning: Creating an ndarray from ragged nested sequences (which is a list-or-tuple of lists-or-tuples-or ndarrays with different lengths or shapes) is deprecated. If you meant to do this, you must specify 'dtype=object' when creating the ndarray.\n",
      "  X_padded = paddingArr(np.array(X_arr))\n"
     ]
    }
   ],
   "source": [
    "rand_acc = test_random_features(lstmModel, lstmLoss, TS)"
   ]
  },
  {
   "cell_type": "code",
   "execution_count": 5,
   "metadata": {},
   "outputs": [
    {
     "name": "stdout",
     "output_type": "stream",
     "text": [
      "Stored 'permutation_lstm_accuracy' (ndarray)\n"
     ]
    }
   ],
   "source": [
    "%store permutation_lstm_accuracy"
   ]
  },
  {
   "cell_type": "code",
   "execution_count": 22,
   "metadata": {},
   "outputs": [
    {
     "data": {
      "image/png": "[encoded data removed]",
      "text/plain": [
       "<Figure size 432x288 with 1 Axes>"
      ]
     },
     "metadata": {
      "filenames": {
       "image/png": "C:\\Users\\Anna&Megan\\Documents\\GitHub\\srp-lab-notebook\\_build\\jupyter_execute\\hcp_data\\lstm-book_8_0.png"
      },
      "needs_background": "light"
     },
     "output_type": "display_data"
    }
   ],
   "source": [
    "# Compare accuracies\n",
    "xAx = [i for i in range(0,90)]\n",
    "plt.plot(xAx, lstm_accuracy, label=\"lstm\")\n",
    "plt.plot(xAx, permutation_lstm_accuracy, label=\"permutation\")\n",
    "plt.plot(xAx, rand_acc[0], label=\"random\")\n",
    "plt.xlabel(\"Time (s)\")\n",
    "plt.ylabel(\"Accuracy\")\n",
    "plt.ylim(0,1)\n",
    "plt.xlim(0,90)\n",
    "plt.title(\"Time-varying Classification Accuracy\")\n",
    "plt.legend()\n",
    "plt.show()"
   ]
  },
  {
   "cell_type": "code",
   "execution_count": 7,
   "metadata": {},
   "outputs": [
    {
     "name": "stdout",
     "output_type": "stream",
     "text": [
      "Stored 'lstm_accuracy' (ndarray)\n"
     ]
    }
   ],
   "source": [
    "%store lstm_accuracy"
   ]
  }
 ],
 "metadata": {
  "kernelspec": {
   "display_name": "Python 3.10.5 64-bit",
   "language": "python",
   "name": "python3"
  },
  "language_info": {
   "codemirror_mode": {
    "name": "ipython",
    "version": 3
   },
   "file_extension": ".py",
   "mimetype": "text/x-python",
   "name": "python",
   "nbconvert_exporter": "python",
   "pygments_lexer": "ipython3",
   "version": "3.10.5"
  },
  "vscode": {
   "interpreter": {
    "hash": "5d8d8f94dc29cf6517d9b951f40e6c965bcb2efc4a5d0d869ef8b359fa785960"
   }
  }
 },
 "nbformat": 4,
 "nbformat_minor": 2
}