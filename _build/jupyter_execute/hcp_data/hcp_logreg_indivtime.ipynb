{
 "cells": [
  {
   "cell_type": "markdown",
   "metadata": {},
   "source": [
    "## Logistic Regression - ROI Features"
   ]
  },
  {
   "cell_type": "code",
   "execution_count": 1,
   "metadata": {},
   "outputs": [],
   "source": [
    "import numpy as np\n",
    "import pickle\n",
    "import scipy as scp\n",
    "import sklearn\n",
    "from sklearn.linear_model import LogisticRegression\n",
    "\n",
    "with open('HCP_movie_watching.pkl','rb') as f:\n",
    "    TS = pickle.load(f)\n"
   ]
  },
  {
   "cell_type": "code",
   "execution_count": 2,
   "metadata": {},
   "outputs": [
    {
     "name": "stdout",
     "output_type": "stream",
     "text": [
      "Stored 'testIndex' (ndarray)\n"
     ]
    }
   ],
   "source": [
    "index = np.arange(176)\n",
    "np.random.seed(0)\n",
    "np.random.shuffle(index)\n",
    "testIndex = index[:76]\n",
    "\n",
    "%store testIndex"
   ]
  },
  {
   "cell_type": "code",
   "execution_count": 3,
   "metadata": {},
   "outputs": [],
   "source": [
    "def splitData(tList):\n",
    "    X_train = []\n",
    "    X_test = []\n",
    "    y_train = []\n",
    "    y_test = []\n",
    "    for row in tList:\n",
    "        if row[-1] in testIndex:\n",
    "            X_test.append(row[:-3])\n",
    "            y_test.append(row[-3:-1])\n",
    "        else:\n",
    "            X_train.append(row[:-3])\n",
    "            y_train.append(row[-3:-1])\n",
    "\n",
    "    X_train = np.array(X_train).astype(float)\n",
    "    X_train = (X_train - np.mean(X_train)) / np.std(X_train)\n",
    "\n",
    "    X_test = np.array(X_test).astype(float)\n",
    "    X_test = (X_test - np.mean(X_test)) / np.std(X_test)\n",
    "    \n",
    "    y_train = np.array(y_train)\n",
    "    y_test = np.array(y_test)\n",
    "    return X_train, X_test, y_train, y_test\n",
    "    "
   ]
  },
  {
   "cell_type": "code",
   "execution_count": 4,
   "metadata": {},
   "outputs": [],
   "source": [
    "def reshapeData(dict):  \n",
    "    arr = []\n",
    "    for k in range(90):\n",
    "        for key, val in dict.items():\n",
    "            if val.shape[-2] > k:   # Account for clips with less than 90 time points\n",
    "                if key == 'testretest':\n",
    "                    for i in range(val.shape[0]):\n",
    "                        for j in range(val.shape[-3]):\n",
    "                            subj = []       # Create new row\n",
    "                            for l in range(val.shape[-1]):\n",
    "                                subj.append(val[i][j][k][l])\n",
    "                            subj.append(key)    # Add movie\n",
    "                            subj.append(k)\n",
    "                            subj.append(j)      # Add participant number\n",
    "                            arr.append(subj)     # Add new row to array\n",
    "                else:\n",
    "                    for j in range(val.shape[-3]):\n",
    "                        subj = []\n",
    "                        for l in range(val.shape[-1]):\n",
    "                            subj.append(val[j][k][l])\n",
    "                        subj.append(key)\n",
    "                        subj.append(k)\n",
    "                        subj.append(j)\n",
    "                        arr.append(subj)\n",
    "    return arr"
   ]
  },
  {
   "cell_type": "code",
   "execution_count": 5,
   "metadata": {},
   "outputs": [
    {
     "ename": "KeyboardInterrupt",
     "evalue": "",
     "output_type": "error",
     "traceback": [
      "\u001b[1;31m---------------------------------------------------------------------------\u001b[0m",
      "\u001b[1;31mKeyboardInterrupt\u001b[0m                         Traceback (most recent call last)",
      "Input \u001b[1;32mIn [5]\u001b[0m, in \u001b[0;36m<cell line: 1>\u001b[1;34m()\u001b[0m\n\u001b[1;32m----> 1\u001b[0m X_train, X_test, y_train, y_test \u001b[38;5;241m=\u001b[39m splitData(\u001b[43mreshapeData\u001b[49m\u001b[43m(\u001b[49m\u001b[43mTS\u001b[49m\u001b[43m)\u001b[49m)\n\u001b[0;32m      2\u001b[0m get_ipython()\u001b[38;5;241m.\u001b[39mrun_line_magic(\u001b[38;5;124m'\u001b[39m\u001b[38;5;124mstore\u001b[39m\u001b[38;5;124m'\u001b[39m, \u001b[38;5;124m'\u001b[39m\u001b[38;5;124mX_test\u001b[39m\u001b[38;5;124m'\u001b[39m)\n\u001b[0;32m      3\u001b[0m get_ipython()\u001b[38;5;241m.\u001b[39mrun_line_magic(\u001b[38;5;124m'\u001b[39m\u001b[38;5;124mstore\u001b[39m\u001b[38;5;124m'\u001b[39m, \u001b[38;5;124m'\u001b[39m\u001b[38;5;124my_test\u001b[39m\u001b[38;5;124m'\u001b[39m)\n",
      "Input \u001b[1;32mIn [4]\u001b[0m, in \u001b[0;36mreshapeData\u001b[1;34m(dict)\u001b[0m\n\u001b[0;32m     18\u001b[0m subj \u001b[38;5;241m=\u001b[39m []\n\u001b[0;32m     19\u001b[0m \u001b[38;5;28;01mfor\u001b[39;00m l \u001b[38;5;129;01min\u001b[39;00m \u001b[38;5;28mrange\u001b[39m(val\u001b[38;5;241m.\u001b[39mshape[\u001b[38;5;241m-\u001b[39m\u001b[38;5;241m1\u001b[39m]):\n\u001b[1;32m---> 20\u001b[0m     subj\u001b[38;5;241m.\u001b[39mappend(val[j][k][l])\n\u001b[0;32m     21\u001b[0m subj\u001b[38;5;241m.\u001b[39mappend(key)\n\u001b[0;32m     22\u001b[0m subj\u001b[38;5;241m.\u001b[39mappend(k)\n",
      "\u001b[1;31mKeyboardInterrupt\u001b[0m: "
     ]
    }
   ],
   "source": [
    "X_train, X_test, y_train, y_test = splitData(reshapeData(TS))\n",
    "%store X_test\n",
    "%store y_test\n",
    "\n",
    "logmodel = LogisticRegression(max_iter = 1000)\n",
    "logmodel.fit(X_train, y_train[:, 0])\n",
    "\n",
    "%store logmodel"
   ]
  },
  {
   "cell_type": "code",
   "execution_count": 6,
   "metadata": {},
   "outputs": [
    {
     "name": "stdout",
     "output_type": "stream",
     "text": [
      "Stored 'logperformAcc' (list)\n"
     ]
    }
   ],
   "source": [
    "logperformAcc = []\n",
    "startindex = 0\n",
    "endindex = 0\n",
    "for t in range(90):\n",
    "    while endindex < y_test.shape[0] and int(y_test[endindex, 1]) == t:\n",
    "        endindex += 1\n",
    "    acc = logmodel.score(X_test[startindex:endindex,], y_test[startindex:endindex, 0])\n",
    "    logperformAcc.append(acc)\n",
    "    startindex = endindex\n",
    "\n",
    "%store logperformAcc"
   ]
  }
 ],
 "metadata": {
  "kernelspec": {
   "display_name": "Python 3.10.5 64-bit",
   "language": "python",
   "name": "python3"
  },
  "language_info": {
   "codemirror_mode": {
    "name": "ipython",
    "version": 3
   },
   "file_extension": ".py",
   "mimetype": "text/x-python",
   "name": "python",
   "nbconvert_exporter": "python",
   "pygments_lexer": "ipython3",
   "version": "3.10.5"
  },
  "vscode": {
   "interpreter": {
    "hash": "5d8d8f94dc29cf6517d9b951f40e6c965bcb2efc4a5d0d869ef8b359fa785960"
   }
  }
 },
 "nbformat": 4,
 "nbformat_minor": 2
}