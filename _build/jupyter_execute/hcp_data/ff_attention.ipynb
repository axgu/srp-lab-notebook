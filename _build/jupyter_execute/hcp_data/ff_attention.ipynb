{
 "cells": [
  {
   "cell_type": "markdown",
   "metadata": {},
   "source": [
    "# Feedforward with Attention"
   ]
  },
  {
   "cell_type": "code",
   "execution_count": 1,
   "metadata": {},
   "outputs": [],
   "source": [
    "import pickle\n",
    "import time\n",
    "import numpy as np\n",
    "import torch\n",
    "from torch import nn\n",
    "import torch.nn.functional as F\n",
    "import torch.optim as optim\n",
    "from torch.utils.data import TensorDataset, DataLoader\n",
    "from matplotlib import pyplot as plt\n",
    "import math\n",
    "\n",
    "from lstm_data_prep import numpy_prep\n",
    "from eval_model import accuracy, find_lens, epoch_time\n",
    "device = \"cuda\" if torch.cuda.is_available() else \"cpu\""
   ]
  },
  {
   "cell_type": "code",
   "execution_count": 2,
   "metadata": {},
   "outputs": [],
   "source": [
    "class FF(nn.Module):\n",
    "  def __init__(self, n_inputs, n_hidden, n_outputs):\n",
    "    super().__init__()\n",
    "    self.in_layer = nn.Linear(n_inputs, n_hidden)\n",
    "    self.out_layer = nn.Linear(n_hidden, n_outputs)\n",
    "\n",
    "    self.fc_h = nn.Linear(n_hidden, n_hidden, bias=False)\n",
    "    self.fc_out = nn.Linear(n_hidden, n_hidden, bias=False)\n",
    "    self.weight = nn.Parameter(torch.FloatTensor(n_hidden))\n",
    "    # self.fc_h = nn.Parameter(torch.FloatTensor(n_hidden, n_hidden))\n",
    "    # self.fc_out = nn.Parameter(torch.FloatTensor(n_hidden, n_hidden))\n",
    "\n",
    "  def forward(self, x, batch_size):\n",
    "    y = self.in_layer(x)\n",
    "\n",
    "    # attention\n",
    "    # (batch_size, seq_len, seq_len)\n",
    "    e = torch.zeros((batch_size, y.shape[1], y.shape[1]), device=device)\n",
    "    V = self.weight.repeat(batch_size, 1).unsqueeze(1)\n",
    "    # W = self.fc_h.repeat(batch_size, 1, 1)\n",
    "    # U = self.fc_out.repeat(batch_size, 1, 1)\n",
    "    for i in range(y.shape[1]):\n",
    "      r = torch.zeros(y.shape, device=device)\n",
    "      for j in range(y.shape[1]):\n",
    "        # (batch_size, seq_len, hidden_size)\n",
    "        # z = torch.tanh(torch.bmm(W, y[:, i, :].unsqueeze(1).permute(0, 2, 1)) + torch.bmm(U, y[:, j, :].unsqueeze(1).permute(0, 2, 1)))\n",
    "        z = torch.tanh(self.fc_h(y[:, i, :]) + self.fc_out(y[:, j, :]))\n",
    "        r[:, j, :] = z\n",
    "      r = r.permute(0, 2, 1)\n",
    "            \n",
    "      a = torch.bmm(V, r).squeeze(1)\n",
    "      e[:, i, :] = a.squeeze(1)\n",
    "    att_weights = F.log_softmax(e, dim=-1)\n",
    "\n",
    "    context_vector = torch.bmm(att_weights, y)\n",
    "        \n",
    "    y_hat = self.out_layer(context_vector)\n",
    "\n",
    "    return y_hat"
   ]
  },
  {
   "cell_type": "code",
   "execution_count": 3,
   "metadata": {},
   "outputs": [],
   "source": [
    "class FFModel:\n",
    "  def __init__(self, model, loss_fn, optimizer, seq_len):\n",
    "    self.model = model\n",
    "    self.loss_fn = loss_fn\n",
    "    self.optimizer = optimizer\n",
    "    self.seq_len = seq_len\n",
    "    \n",
    "  def train(self, train_loader, n_epochs=500):\n",
    "    train_loss = []\n",
    "    best_loss = 1e10\n",
    "    self.model.train()\n",
    "    for i in range(n_epochs):\n",
    "      start = time.time()\n",
    "      avg_loss = 0.\n",
    "      for X, y in train_loader:\n",
    "        loss = 0.\n",
    "        curr_batch_size = X.shape[0]\n",
    "        X, y = X.to(device), y.to(device)\n",
    "        self.optimizer.zero_grad()\n",
    "\n",
    "        X_lens = find_lens(X)\n",
    "\n",
    "        output = self.model(X, curr_batch_size)\n",
    "\n",
    "        out = output.permute(0, 2, 1)\n",
    "        target = y.permute(0, 2, 1)\n",
    "\n",
    "        loss += self.loss_fn(out, target)\n",
    "            \n",
    "        loss.backward()\n",
    "        self.optimizer.step()\n",
    "        avg_loss += loss.item()\n",
    "\n",
    "      end = time.time()\n",
    "\n",
    "      epoch_mins, epoch_secs = epoch_time(start, end)\n",
    "      if best_loss > avg_loss:\n",
    "        best_loss = avg_loss\n",
    "        torch.save({\"ff_attention\": self.model.state_dict(), \"ff_att_optimizer\": self.optimizer.state_dict()}, 'ff-attention-model.pt')\n",
    "\n",
    "      # print(\"Epoch \" + str(i + 1) + \"/\" + str(n_epochs))\n",
    "      # print(\"Time: \" + str(epoch_mins) + \" minutes \" + str(epoch_secs) + \" seconds\")\n",
    "      # print(\"Training loss: \" + str(loss.item()))\n",
    "      # print()\n",
    "\n",
    "      train_loss.append(avg_loss)\n",
    "        \n",
    "    return train_loss\n",
    "\n",
    "  def eval(self, x, y):\n",
    "    check = torch.load(\"ff-attention-model.pt\")\n",
    "    self.model.load_state_dict(check[\"ff_attention\"])\n",
    "    self.optimizer.load_state_dict(check[\"ff_att_optimizer\"])\n",
    "    with torch.no_grad():\n",
    "      correct = np.zeros(self.seq_len)\n",
    "      total = np.zeros(self.seq_len)\n",
    "      self.model.eval()\n",
    "      loss = 0.\n",
    "      curr_batch_size = x.shape[0]\n",
    "      X, Y = x.to(device), y.to(device)\n",
    "      X_lens = find_lens(X)\n",
    "\n",
    "      out = self.model(X, curr_batch_size)\n",
    "\n",
    "      top_value, top_index = out.topk(1)\n",
    "\n",
    "      final = torch.zeros(y.shape).to(device)\n",
    "      for clip in range(y.shape[0]):\n",
    "        for step in range(y.shape[1]):\n",
    "          final[clip][step][top_index[clip][step]] = 1\n",
    "            \n",
    "      correct, total = accuracy(y.cpu().numpy(), final.cpu().numpy(), correct, total)\n",
    "      ff_accuracy = correct / total\n",
    "    return ff_accuracy, loss\n",
    "  \n",
    "  def random_samples(self, X, pad=0.):\n",
    "    X_random = []\n",
    "    X_lens = find_lens(X)\n",
    "    for i in range(X.shape[0]):\n",
    "      X_batch = np.random.normal(size=(X_lens[i], X.shape[-1]))\n",
    "      if X_lens[i] < self.seq_len:\n",
    "        X_pad = np.array([[pad]*X.shape[-1]]*(self.seq_len - X_lens[i]))\n",
    "        X_batch = np.append(X_batch, X_pad, axis=0)\n",
    "      X_random.append(X_batch)\n",
    "    X_random = np.array(X_random)\n",
    "    return X_random\n",
    "    \n",
    "  def rand_test(self, X, y_test, n_samples=20, percentile=90):\n",
    "    rand_acc_array = []\n",
    "    for sample in range(n_samples):\n",
    "      X_random = torch.from_numpy(self.random_samples(X)).float().to(device)\n",
    "      gru_rand_acc, _ = self.eval(X_random, y_test)\n",
    "      rand_acc_array.append(gru_rand_acc)\n",
    "    plot = np.percentile(np.sort(np.array(rand_acc_array), axis=0), percentile, axis=0)\n",
    "    return plot\n"
   ]
  },
  {
   "cell_type": "code",
   "execution_count": 4,
   "metadata": {},
   "outputs": [],
   "source": [
    "with open('HCP_movie_watching.pkl','rb') as f:\n",
    "    TS = pickle.load(f)\n",
    "\n",
    "X_train, y_train, X_t, y_t = numpy_prep(TS, pad = 0.)\n",
    "batch_size = 32\n",
    "\n",
    "train_data = TensorDataset(torch.from_numpy(X_train).float(), torch.from_numpy(y_train).float())\n",
    "train_loader = DataLoader(train_data, shuffle=True, batch_size=batch_size)\n",
    "\n",
    "X_test = torch.from_numpy(X_t).float().to(device)\n",
    "y_test = torch.from_numpy(y_t).float().to(device)"
   ]
  },
  {
   "cell_type": "code",
   "execution_count": 20,
   "metadata": {},
   "outputs": [],
   "source": [
    "EPOCHS = 15\n",
    "n_input = 300\n",
    "n_hidden = 32\n",
    "n_output = 15\n",
    "learning_rate = 5e-3\n",
    "seq_len = 90\n",
    "\n",
    "ff_attention = FF(n_input, n_hidden, n_output).to(device)\n",
    "loss_fn = nn.CrossEntropyLoss()\n",
    "optimizer = optim.Adam(ff_attention.parameters(), lr=learning_rate)\n",
    "\n",
    "model = FFModel(ff_attention, loss_fn, optimizer, seq_len)"
   ]
  },
  {
   "cell_type": "code",
   "execution_count": null,
   "metadata": {},
   "outputs": [],
   "source": [
    "train_loss = model.train(train_loader, n_epochs=EPOCHS)"
   ]
  },
  {
   "cell_type": "code",
   "execution_count": 13,
   "metadata": {},
   "outputs": [],
   "source": [
    "ff_accuracy, loss = model.eval(X_test, y_test)"
   ]
  },
  {
   "cell_type": "code",
   "execution_count": 14,
   "metadata": {},
   "outputs": [],
   "source": [
    "ff_rand_acc = model.rand_test(X_test, y_test)"
   ]
  },
  {
   "cell_type": "code",
   "execution_count": 15,
   "metadata": {},
   "outputs": [
    {
     "data": {
      "image/png": "[encoded data removed]",
      "text/plain": [
       "<Figure size 432x288 with 1 Axes>"
      ]
     },
     "metadata": {
      "filenames": {
       "image/png": "C:\\Users\\Anna\\Documents\\GitHub\\srp-lab-notebook\\_build\\jupyter_execute\\hcp_data\\ff_attention_9_0.png"
      },
      "needs_background": "light"
     },
     "output_type": "display_data"
    }
   ],
   "source": [
    "xAx = [i for i in range(0,90)]\n",
    "plt.plot(xAx, ff_accuracy, label=\"ff-attention\")\n",
    "plt.plot(xAx, ff_rand_acc, label=\"ff-att-random\")\n",
    "plt.xlabel(\"Time (s)\")\n",
    "plt.ylabel(\"Accuracy\")\n",
    "plt.ylim(0,1)\n",
    "plt.xlim(0,90)\n",
    "plt.title(\"Time-varying Classification Accuracy\")\n",
    "plt.legend()\n",
    "plt.show()"
   ]
  }
 ],
 "metadata": {
  "kernelspec": {
   "display_name": "Python 3.9.13 64-bit",
   "language": "python",
   "name": "python3"
  },
  "language_info": {
   "codemirror_mode": {
    "name": "ipython",
    "version": 3
   },
   "file_extension": ".py",
   "mimetype": "text/x-python",
   "name": "python",
   "nbconvert_exporter": "python",
   "pygments_lexer": "ipython3",
   "version": "3.9.13"
  },
  "vscode": {
   "interpreter": {
    "hash": "4f240839814783c86679b97dc90219b8a3d3e14ea65e88be68ce87d6dbf01a50"
   }
  }
 },
 "nbformat": 4,
 "nbformat_minor": 2
}