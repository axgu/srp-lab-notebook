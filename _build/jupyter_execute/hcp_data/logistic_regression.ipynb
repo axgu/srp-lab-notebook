{
 "cells": [
  {
   "cell_type": "markdown",
   "metadata": {},
   "source": [
    "# Logistic Regression"
   ]
  },
  {
   "cell_type": "code",
   "execution_count": 1,
   "metadata": {},
   "outputs": [],
   "source": [
    "import pickle\n",
    "import time\n",
    "import numpy as np\n",
    "import torch\n",
    "from torch import nn\n",
    "import torch.optim as optim\n",
    "from matplotlib import pyplot as plt\n",
    "import math\n",
    "\n",
    "from lstm_data_prep import numpy_prep\n",
    "from eval_model import accuracy, find_lens\n",
    "device = \"cuda\" if torch.cuda.is_available() else \"cpu\""
   ]
  },
  {
   "cell_type": "code",
   "execution_count": 2,
   "metadata": {},
   "outputs": [],
   "source": [
    "class LogReg(nn.Module):\n",
    "    def __init__(self, n_inputs, n_outputs):\n",
    "        super().__init__()\n",
    "        self.n_inputs = n_inputs\n",
    "        self.n_outputs = n_outputs\n",
    "        \n",
    "        self.layer = nn.Linear(n_inputs, n_outputs)\n",
    "    \n",
    "    def forward(self, x):\n",
    "        y = self.layer(x)\n",
    "        return y"
   ]
  },
  {
   "cell_type": "code",
   "execution_count": 3,
   "metadata": {},
   "outputs": [],
   "source": [
    "class Model:\n",
    "    def __init__(self, model, loss_fn, optimizer, n_input, n_out):\n",
    "        self.model = model\n",
    "        self.loss_fn = loss_fn\n",
    "        self.optim = optimizer\n",
    "        self.n_input = n_input\n",
    "        self.n_out = n_out\n",
    "    \n",
    "    def train(self, train_data, train_labels, test_data, test_labels, n_epochs=500, rand_test=False):\n",
    "        classification_acc = []\n",
    "        rand_acc = []\n",
    "        for time_step in range(train_data.shape[0]):\n",
    "            for layer in self.model.children():\n",
    "                if hasattr(layer, 'reset_parameters'):\n",
    "                    layer.reset_parameters()\n",
    "            for i in range(n_epochs):\n",
    "                out = self.model(train_data[time_step])\n",
    "\n",
    "                loss = self.loss_fn(out, train_labels[time_step])\n",
    "    \n",
    "                self.optim.zero_grad()\n",
    "                loss.backward()\n",
    "                self.optim.step()\n",
    "            \n",
    "            torch.save({\"ff\": self.model.state_dict(), \"ff_optimizer\": self.optim.state_dict()}, 'ff-model.pt')\n",
    "            classification_acc.append(self.eval(test_data[time_step], test_labels[time_step]))\n",
    "\n",
    "            if rand_test:\n",
    "                rand_acc.append(self.rand_test(test_data[time_step], test_labels[time_step]))\n",
    "\n",
    "        return classification_acc, rand_acc\n",
    "    \n",
    "    def eval(self, data, labels):\n",
    "        check = torch.load(\"ff-model.pt\")\n",
    "        self.model.load_state_dict(check[\"ff\"])\n",
    "        self.optim.load_state_dict(check[\"ff_optimizer\"])\n",
    "        data = data.to(device)\n",
    "        labels = labels.to(device)\n",
    "        out = self.model(data)\n",
    "        loss = self.loss_fn(out, labels)\n",
    "        top_value, top_index = out.topk(1)\n",
    "\n",
    "        final = torch.zeros(data.shape)\n",
    "        for clip in range(data.shape[0]):\n",
    "            final[clip][top_index[clip]] = 1\n",
    "\n",
    "        correct = 0\n",
    "        total = 0\n",
    "        \n",
    "        for j in range(out.shape[0]):\n",
    "            if np.count_nonzero(labels[j].cpu().numpy())!= 0:\n",
    "                if self.findIndex(1., labels[j]) == self.findIndex(torch.max(final[j]), final[j]):\n",
    "                    correct += 1\n",
    "                total += 1\n",
    "        \n",
    "        return correct / total\n",
    "\n",
    "    def findIndex(self, val, arr):\n",
    "        index = -1\n",
    "        for x in range(arr.shape[0]):\n",
    "            if val == arr[x].item():\n",
    "                index = x\n",
    "                break\n",
    "        return index\n",
    "    \n",
    "    def random_samples(self, X, num_seq=90, pad=0.):\n",
    "        X_random = []\n",
    "        for i in range(X.shape[0]):\n",
    "            X_batch = np.random.normal(size=X.shape[-1])\n",
    "            #if X_lens[i] < num_seq:\n",
    "                #X_pad = np.array([[pad]*300]*(num_seq - X_lens[i]))\n",
    "                #X_batch = np.append(X_batch, X_pad, axis=0)\n",
    "            X_random.append(X_batch)\n",
    "        X_random = np.array(X_random)\n",
    "        return X_random\n",
    "    \n",
    "    def rand_test(self, X, y_test, n_samples=20, percentile=90):\n",
    "        rand_acc_array = []\n",
    "        for sample in range(n_samples):\n",
    "            X_random = torch.from_numpy(self.random_samples(X)).float().to(device)\n",
    "            ff_rand_acc = self.eval(X_random, y_test)\n",
    "            rand_acc_array.append(ff_rand_acc)\n",
    "        \n",
    "        plot = np.percentile(np.sort(np.array(rand_acc_array), axis=0), percentile, axis=0)\n",
    "        return plot.squeeze(0)"
   ]
  },
  {
   "cell_type": "code",
   "execution_count": 4,
   "metadata": {},
   "outputs": [],
   "source": [
    "with open('HCP_movie_watching.pkl','rb') as f:\n",
    "    TS = pickle.load(f)\n",
    "\n",
    "X_train, y_train, X_t, y_t = numpy_prep(TS, pad = 0.)\n",
    "\n",
    "X_train = torch.from_numpy(X_train).float().to(device).permute(1, 0, 2)\n",
    "y_train = torch.from_numpy(y_train).float().to(device).permute(1, 0, 2)\n",
    "X_test = torch.from_numpy(X_t).float().to(device).permute(1, 0, 2)\n",
    "y_test = torch.from_numpy(y_t).float().to(device).permute(1, 0, 2)"
   ]
  },
  {
   "cell_type": "code",
   "execution_count": 14,
   "metadata": {},
   "outputs": [],
   "source": [
    "EPOCHS = 500\n",
    "n_input = 300\n",
    "n_output = 15\n",
    "learning_rate = 1e-3\n",
    "\n",
    "logreg = LogReg(n_input, n_output).to(device)\n",
    "\n",
    "loss_fn = nn.CrossEntropyLoss()\n",
    "\n",
    "optimizer = optim.Adam(logreg.parameters(), lr=learning_rate)\n",
    "\n",
    "model = Model(logreg, loss_fn, optimizer, n_input, n_output)\n",
    "\n",
    "ff_accuracy, rand_acc = model.train(X_train, y_train, X_test, y_test, rand_test=True)"
   ]
  },
  {
   "cell_type": "code",
   "execution_count": 16,
   "metadata": {},
   "outputs": [
    {
     "data": {
      "image/png": "[encoded data removed]",
      "text/plain": [
       "<Figure size 432x288 with 1 Axes>"
      ]
     },
     "metadata": {
      "filenames": {
       "image/png": "C:\\Users\\Anna\\Documents\\GitHub\\srp-lab-notebook\\_build\\jupyter_execute\\hcp_data\\logistic_regression_6_0.png"
      },
      "needs_background": "light"
     },
     "output_type": "display_data"
    }
   ],
   "source": [
    "xAx = [i for i in range(0,90)]\n",
    "plt.plot(xAx, ff_accuracy, label=\"log-reg\")\n",
    "plt.plot(xAx, rand_acc, label=\"random\")\n",
    "plt.xlabel(\"Time (s)\")\n",
    "plt.ylabel(\"Accuracy\")\n",
    "plt.ylim(0,1)\n",
    "plt.xlim(0,90)\n",
    "plt.title(\"Time-varying Classification Accuracy\")\n",
    "plt.legend()\n",
    "plt.show()"
   ]
  }
 ],
 "metadata": {
  "kernelspec": {
   "display_name": "Python 3.9.13 64-bit",
   "language": "python",
   "name": "python3"
  },
  "language_info": {
   "codemirror_mode": {
    "name": "ipython",
    "version": 3
   },
   "file_extension": ".py",
   "mimetype": "text/x-python",
   "name": "python",
   "nbconvert_exporter": "python",
   "pygments_lexer": "ipython3",
   "version": "3.9.13"
  },
  "vscode": {
   "interpreter": {
    "hash": "4f240839814783c86679b97dc90219b8a3d3e14ea65e88be68ce87d6dbf01a50"
   }
  }
 },
 "nbformat": 4,
 "nbformat_minor": 2
}