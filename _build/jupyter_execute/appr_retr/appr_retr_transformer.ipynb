{
 "cells": [
  {
   "cell_type": "markdown",
   "metadata": {},
   "source": [
    "# Moving Circles Transformer"
   ]
  },
  {
   "cell_type": "code",
   "execution_count": 1,
   "metadata": {},
   "outputs": [],
   "source": [
    "import numpy as np\n",
    "import pickle\n",
    "import time\n",
    "from matplotlib import pyplot as plt\n",
    "import gc\n",
    "import torch\n",
    "from torch import nn\n",
    "import torch.nn.functional as F\n",
    "import torch.optim as optim\n",
    "from torch.utils.data import TensorDataset, DataLoader\n",
    "from sklearn.metrics import confusion_matrix\n",
    "\n",
    "device = \"cuda\" if torch.cuda.is_available() else \"cpu\"\n",
    "#device = \"cpu\""
   ]
  },
  {
   "cell_type": "code",
   "execution_count": 2,
   "metadata": {},
   "outputs": [],
   "source": [
    "class Transformer(nn.Module):\n",
    "    def __init__(self, n_input, n_output, seq_len, n_head, dim_ff, num_layers, position_encoding):\n",
    "        super().__init__()\n",
    "\n",
    "        self.n_input = n_input\n",
    "        self.n_output = n_output\n",
    "        self.n_head = n_head\n",
    "        self.dim_ff = dim_ff\n",
    "        self.num_layers = num_layers\n",
    "        self.position_encoding = position_encoding\n",
    "        self.seq_len = seq_len\n",
    "\n",
    "        self.transformerlayer = nn.TransformerEncoderLayer(n_input, n_head, dim_feedforward=dim_ff, batch_first=True)\n",
    "        self.transformer_encoder = nn.TransformerEncoder(self.transformerlayer, num_layers)\n",
    "        self.fc = nn.Linear(n_input, n_output)\n",
    "\n",
    "    def position_encode(self):\n",
    "        pe = torch.zeros(self.seq_len, self.n_input).to(device)\n",
    "        pos = torch.arange(0, self.seq_len, dtype=torch.float).unsqueeze(1)\n",
    "        div_term = torch.exp(torch.arange(0, self.n_input, 2).float() * (-np.log(10000.0) / self.n_input))\n",
    "\n",
    "        pe[:, 0::2] = torch.sin(pos * div_term)\n",
    "        pe[:, 1::2] = torch.cos(pos * div_term)\n",
    "        pe = pe.unsqueeze(0)\n",
    "        return pe\n",
    "    \n",
    "    def forward(self, X):\n",
    "        x = X.to(device)\n",
    "        if self.position_encoding:\n",
    "            pe = self.position_encode()\n",
    "            pe = pe.expand(X.size(0), -1, -1)\n",
    "            x = X + pe\n",
    "        y = self.transformer_encoder(x)\n",
    "        y = self.fc(y)\n",
    "        return y"
   ]
  },
  {
   "cell_type": "code",
   "execution_count": 3,
   "metadata": {},
   "outputs": [],
   "source": [
    "class TransformerModel:\n",
    "    def __init__(self, lstm, loss_fn, optimizer, seq_len, n_output, model_name=\"transformer\"):\n",
    "        self.model = lstm\n",
    "        self.loss_fn = loss_fn\n",
    "        self.optim = optimizer\n",
    "        self.seq_len = seq_len\n",
    "        self.n_output = n_output\n",
    "        self.model_name = model_name\n",
    "\n",
    "    def train(self, train_loader, n_epochs=10, learning=1e-2):\n",
    "        train_loss = []\n",
    "        best_loss = 1e10\n",
    "\n",
    "        self.model.train()\n",
    "        \n",
    "        for i in range(n_epochs):\n",
    "            start = time.time()\n",
    "            avg_loss = 0.\n",
    "            for X, y in train_loader:\n",
    "                loss = 0.\n",
    "                curr_batch_size = X.shape[0]\n",
    "\n",
    "                X, y = X.to(device), y.to(device)\n",
    "                self.optim.zero_grad()\n",
    "\n",
    "                output = self.model(X)\n",
    "\n",
    "                output = torch.transpose(output, 1, 2)\n",
    "                y = torch.transpose(y, 1, 2)\n",
    "\n",
    "                loss += self.loss_fn(output, y)\n",
    "                \n",
    "                loss.backward()\n",
    "                self.optim.step()\n",
    "                avg_loss += loss.item()\n",
    "\n",
    "            end = time.time()\n",
    "            epoch_mins, epoch_secs = self.epoch_time(start, end)\n",
    "            if best_loss > avg_loss:\n",
    "                best_loss = avg_loss\n",
    "                torch.save({self.model_name: self.model.state_dict(), self.model_name+\"_optimizer\": self.optim.state_dict()}, self.model_name+'-model.pt')\n",
    "\n",
    "            train_loss.append(avg_loss)\n",
    "            \n",
    "            print(\"Epoch \" + str(i + 1) + \"/\" + str(n_epochs))\n",
    "            print(\"Time: \" + str(epoch_mins) + \" minutes \" + str(epoch_secs) + \" seconds\")\n",
    "            print(\"Training loss: \" + str(avg_loss))\n",
    "            print()\n",
    "\n",
    "        return train_loss\n",
    "    \n",
    "    def epoch_time(self, start_time, end_time):\n",
    "        elapsed = end_time - start_time\n",
    "        elapsed_mins = int(elapsed / 60)\n",
    "        elapsed_secs = int(elapsed - (elapsed_mins * 60))\n",
    "        return elapsed_mins, elapsed_secs\n",
    "\n",
    "    def find_lens(self, X):\n",
    "        X_lens = []\n",
    "        for batch in X:\n",
    "            count = 0\n",
    "            for time in batch:\n",
    "                if torch.count_nonzero(time) == 0:\n",
    "                    break\n",
    "                else:\n",
    "                    count += 1\n",
    "            X_lens.append(count)\n",
    "        return X_lens\n",
    "\n",
    "    def eval(self, test_loader):\n",
    "        check = torch.load(self.model_name+\"-model.pt\")\n",
    "        self.model.load_state_dict(check[self.model_name])\n",
    "\n",
    "        confusion = np.zeros((self.n_output, self.n_output))\n",
    "\n",
    "        gc.collect()\n",
    "        torch.cuda.empty_cache()\n",
    "\n",
    "        with torch.no_grad():\n",
    "            correct = np.zeros(self.seq_len)\n",
    "            total = np.zeros(self.seq_len)\n",
    "            test_loss = 0.\n",
    "            self.model.eval()\n",
    "\n",
    "            for x, y in test_loader:\n",
    "                curr_batch_size = x.shape[0]\n",
    "                X, Y = x.to(device), y.to(device)\n",
    "\n",
    "                output = self.model(X)\n",
    "\n",
    "                X_lens = self.find_lens(X)\n",
    "\n",
    "                top_value, top_index = output.topk(1)\n",
    "                out = torch.zeros(curr_batch_size, self.seq_len, self.n_output).to(device)\n",
    "                for clip in range(curr_batch_size):\n",
    "                    for k in range(self.seq_len):\n",
    "                        out[clip][k][top_index[clip][k].item()] = 1\n",
    "\n",
    "                output = torch.transpose(output, 1, 2)\n",
    "                y_hat = torch.transpose(y, 1, 2).to(device)\n",
    "                test_loss += self.loss_fn(output, y_hat).item()\n",
    "                correct, total = accuracy(y.cpu().numpy(), out.cpu().numpy(), correct, total)\n",
    "\n",
    "                true, pred = devector(y.cpu().numpy(), out.cpu().numpy())\n",
    "\n",
    "                confusion += confusion_matrix(true, pred)\n",
    "        \n",
    "        ff_accuracy = correct / total\n",
    "        return ff_accuracy, confusion\n",
    "    \n",
    "    \n",
    "    def random_samples(self, X, pad=0.):\n",
    "        X_random = []\n",
    "        X_lens = self.find_lens(X)\n",
    "        for i in range(X.shape[0]):\n",
    "            X_batch = np.random.normal(size=(X_lens[i], X.shape[-1]))\n",
    "            if X_lens[i] < self.seq_len:\n",
    "                X_pad = np.array([[pad]*X.shape[-1]]*(self.seq_len - X_lens[i]))\n",
    "                X_batch = np.append(X_batch, X_pad, axis=0)\n",
    "            X_random.append(X_batch)\n",
    "        X_random = np.array(X_random)\n",
    "        return X_random\n",
    "    \n",
    "    def rand_test(self, test_loader, n_samples=20, percentile=90):\n",
    "        rand_acc_array = []\n",
    "        for sample in range(n_samples):\n",
    "            correct = np.zeros(self.seq_len)\n",
    "            total = np.zeros(self.seq_len)\n",
    "            \n",
    "            self.model.eval()\n",
    "\n",
    "            with torch.no_grad():\n",
    "\n",
    "                for x, y in test_loader:\n",
    "                    loss = 0.\n",
    "                    curr_batch_size = x.shape[0]\n",
    "                    X_random = torch.from_numpy(self.random_samples(x)).float().to(device)\n",
    "                    y = y.to(device)\n",
    "\n",
    "                    X_lens = self.find_lens(x)\n",
    "                    output = self.model(X_random)\n",
    "                    top_value, top_index = output.topk(1)\n",
    "                    out = torch.zeros(curr_batch_size, self.seq_len, self.n_output)\n",
    "                    for clip in range(curr_batch_size):\n",
    "                        for k in range(self.seq_len):\n",
    "                            out[clip][k][top_index[clip][k].item()] = 1\n",
    "\n",
    "                    output = torch.transpose(output, 1, 2)\n",
    "                    y_hat = torch.transpose(y, 1, 2).to(device)\n",
    "                    loss += self.loss_fn(output, y_hat).item()\n",
    "                    \n",
    "                    correct, total = accuracy(y.cpu().numpy(), out.cpu().numpy(), correct, total)\n",
    "\n",
    "                    \n",
    "            rand_acc = correct / total\n",
    "            rand_acc_array.append(rand_acc)\n",
    "        plot = np.percentile(np.sort(np.array(rand_acc_array), axis=0), percentile, axis=0)\n",
    "        return plot"
   ]
  },
  {
   "cell_type": "code",
   "execution_count": 4,
   "metadata": {},
   "outputs": [],
   "source": [
    "def findIndex(val, arr):\n",
    "    index = -1\n",
    "    for x in range(arr.size):\n",
    "        if val == arr[x]:\n",
    "            index = x\n",
    "            break\n",
    "    return index\n",
    "\n",
    "def accuracy(target, prob, correct, tot):\n",
    "    for i in range(prob.shape[1]):\n",
    "        correctCount = correct[i]\n",
    "        totalCount = tot[i]\n",
    "        for j in range(prob.shape[0]):\n",
    "            if np.count_nonzero(target[j][i]) != 0:\n",
    "                if findIndex(1., target[j][i]) == findIndex(1., prob[j][i]):\n",
    "                    correctCount += 1\n",
    "                totalCount += 1\n",
    "        correct[i] = correctCount\n",
    "        tot[i] = totalCount\n",
    "    return correct, tot"
   ]
  },
  {
   "cell_type": "code",
   "execution_count": 5,
   "metadata": {},
   "outputs": [],
   "source": [
    "def vectorize(y, c=2):\n",
    "    new_y = np.zeros((y.shape[0], y.shape[1], c))\n",
    "    for batch in range(y.shape[0]):\n",
    "        for time in range(y.shape[1]):\n",
    "            cl = y[batch][time]\n",
    "            if cl < c:\n",
    "                new_y[batch][time][int(cl)] = 1.\n",
    "    return new_y"
   ]
  },
  {
   "cell_type": "code",
   "execution_count": 6,
   "metadata": {},
   "outputs": [],
   "source": [
    "def devector(true, pred):\n",
    "    new_y_true = []\n",
    "    new_y_pred = []\n",
    "    for batch in range(true.shape[0]):\n",
    "        for time in range(true.shape[1]):\n",
    "            if np.count_nonzero(true[batch][time]) != 0:\n",
    "                i = findIndex(1., true[batch][time])\n",
    "                new_y_true.append(i)\n",
    "                j = findIndex(1., pred[batch][time])\n",
    "                new_y_pred.append(j)\n",
    "    return np.array(new_y_true), np.array(new_y_pred)"
   ]
  },
  {
   "cell_type": "code",
   "execution_count": 7,
   "metadata": {},
   "outputs": [],
   "source": [
    "with open(f\"appr_retr_timesegments.pkl\", 'rb') as f:\n",
    "    X_train, y_train, len_train, X_test, y_test, len_test = pickle.load(f)\n",
    "\n",
    "for batch, batch_len in enumerate(len_train):\n",
    "    y_train[batch, batch_len:] = np.array([2]*(y_train.shape[-1] - batch_len))\n",
    "\n",
    "for batch, batch_len in enumerate(len_test):\n",
    "    y_test[batch, batch_len:] = np.array([2]*(y_test.shape[-1] - batch_len))\n",
    "\n",
    "y_train = vectorize(y_train)\n",
    "y_test = vectorize(y_test)\n",
    "\n",
    "batch_size = 32\n",
    "\n",
    "train_data = TensorDataset(torch.from_numpy(X_train).float(), torch.from_numpy(y_train).float())\n",
    "train_loader = DataLoader(train_data, shuffle=True, batch_size=batch_size)\n",
    "test_data = TensorDataset(torch.from_numpy(X_test).float(), torch.from_numpy(y_test).float())\n",
    "test_loader = DataLoader(test_data, shuffle=True, batch_size=batch_size)"
   ]
  },
  {
   "cell_type": "code",
   "execution_count": 8,
   "metadata": {},
   "outputs": [],
   "source": [
    "n_input = 300\n",
    "n_hidden = 32\n",
    "seq_len = 129\n",
    "learning_rate = 5e-4\n",
    "EPOCHS = 100\n",
    "num_head=4\n",
    "num_layers=1\n",
    "n_class = 2\n",
    "\n",
    "transformer_multipos = Transformer(n_input, n_class, seq_len, num_head, n_hidden, num_layers, True).to(device)\n",
    "loss_fn_multipos = nn.CrossEntropyLoss()\n",
    "optimizer_multipos = optim.Adam(transformer_multipos.parameters(), lr=learning_rate)\n",
    "\n",
    "model_multipos = TransformerModel(transformer_multipos, loss_fn_multipos, optimizer_multipos, seq_len, n_class, \"transformer_multipos\")\n"
   ]
  },
  {
   "cell_type": "code",
   "execution_count": 9,
   "metadata": {},
   "outputs": [
    {
     "ename": "NameError",
     "evalue": "name 'train_loss_multipos' is not defined",
     "output_type": "error",
     "traceback": [
      "\u001b[1;31m---------------------------------------------------------------------------\u001b[0m",
      "\u001b[1;31mNameError\u001b[0m                                 Traceback (most recent call last)",
      "Input \u001b[1;32mIn [9]\u001b[0m, in \u001b[0;36m<cell line: 4>\u001b[1;34m()\u001b[0m\n\u001b[0;32m      1\u001b[0m \u001b[38;5;66;03m#train_loss_multipos = model_multipos.train(train_loader, n_epochs=EPOCHS, learning=learning_rate)\u001b[39;00m\n\u001b[0;32m      3\u001b[0m xAx \u001b[38;5;241m=\u001b[39m [i \u001b[38;5;28;01mfor\u001b[39;00m i \u001b[38;5;129;01min\u001b[39;00m \u001b[38;5;28mrange\u001b[39m(\u001b[38;5;241m1\u001b[39m, EPOCHS\u001b[38;5;241m+\u001b[39m\u001b[38;5;241m1\u001b[39m)]\n\u001b[1;32m----> 4\u001b[0m plt\u001b[38;5;241m.\u001b[39mplot(xAx, \u001b[43mtrain_loss_multipos\u001b[49m)\n\u001b[0;32m      5\u001b[0m plt\u001b[38;5;241m.\u001b[39mxlabel(\u001b[38;5;124m\"\u001b[39m\u001b[38;5;124mEpoch\u001b[39m\u001b[38;5;124m\"\u001b[39m)\n\u001b[0;32m      6\u001b[0m plt\u001b[38;5;241m.\u001b[39mylabel(\u001b[38;5;124m\"\u001b[39m\u001b[38;5;124mCross Entropy Loss\u001b[39m\u001b[38;5;124m\"\u001b[39m)\n",
      "\u001b[1;31mNameError\u001b[0m: name 'train_loss_multipos' is not defined"
     ]
    }
   ],
   "source": [
    "#train_loss_multipos = model_multipos.train(train_loader, n_epochs=EPOCHS, learning=learning_rate)\n",
    "\n",
    "xAx = [i for i in range(1, EPOCHS+1)]\n",
    "plt.plot(xAx, train_loss_multipos)\n",
    "plt.xlabel(\"Epoch\")\n",
    "plt.ylabel(\"Cross Entropy Loss\")\n",
    "plt.xlim(0, EPOCHS)\n",
    "plt.xticks([j*20 for j in range(EPOCHS // 20 + 1)])\n",
    "plt.title(\"Training Loss\")\n",
    "plt.show()"
   ]
  },
  {
   "cell_type": "code",
   "execution_count": 9,
   "metadata": {},
   "outputs": [],
   "source": [
    "transformer_multipos_accuracy, confusion = model_multipos.eval(test_loader)"
   ]
  },
  {
   "cell_type": "code",
   "execution_count": 10,
   "metadata": {},
   "outputs": [
    {
     "name": "stdout",
     "output_type": "stream",
     "text": [
      "Stored 'transformer_multipos_accuracy' (ndarray)\n"
     ]
    }
   ],
   "source": [
    "%store transformer_multipos_accuracy"
   ]
  },
  {
   "cell_type": "code",
   "execution_count": 11,
   "metadata": {},
   "outputs": [
    {
     "name": "stdout",
     "output_type": "stream",
     "text": [
      "[[46592.  5862.]\n",
      " [ 6218. 47295.]]\n"
     ]
    }
   ],
   "source": [
    "print(confusion)"
   ]
  },
  {
   "cell_type": "code",
   "execution_count": 14,
   "metadata": {},
   "outputs": [],
   "source": [
    "transformer_multipos_rand_acc = model_multipos.rand_test(test_loader, n_samples=20)"
   ]
  },
  {
   "cell_type": "code",
   "execution_count": 15,
   "metadata": {},
   "outputs": [
    {
     "data": {
      "image/png": "[encoded data removed]",
      "text/plain": [
       "<Figure size 432x288 with 1 Axes>"
      ]
     },
     "metadata": {
      "filenames": {
       "image/png": "C:\\Users\\Anna\\Documents\\GitHub\\srp-lab-notebook\\_build\\jupyter_execute\\appr_retr\\appr_retr_transformer_14_0.png"
      },
      "needs_background": "light"
     },
     "output_type": "display_data"
    }
   ],
   "source": [
    "xAx = [i for i in range(1,130)]\n",
    "plt.plot(xAx, transformer_multipos_accuracy, label=\"transformer-multi-pos\")\n",
    "plt.plot(xAx, transformer_multipos_rand_acc, label=\"random-multi-pos\")\n",
    "plt.xlabel(\"Time (s)\")\n",
    "plt.ylabel(\"Accuracy\")\n",
    "plt.ylim(0,1)\n",
    "plt.xlim(0,130)\n",
    "plt.title(\"Time-varying Classification Accuracy\")\n",
    "plt.legend()\n",
    "plt.show()"
   ]
  }
 ],
 "metadata": {
  "kernelspec": {
   "display_name": "Python 3.9.13 64-bit",
   "language": "python",
   "name": "python3"
  },
  "language_info": {
   "codemirror_mode": {
    "name": "ipython",
    "version": 3
   },
   "file_extension": ".py",
   "mimetype": "text/x-python",
   "name": "python",
   "nbconvert_exporter": "python",
   "pygments_lexer": "ipython3",
   "version": "3.9.13"
  },
  "vscode": {
   "interpreter": {
    "hash": "4f240839814783c86679b97dc90219b8a3d3e14ea65e88be68ce87d6dbf01a50"
   }
  }
 },
 "nbformat": 4,
 "nbformat_minor": 2
}