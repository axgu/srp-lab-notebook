{
 "cells": [
  {
   "cell_type": "markdown",
   "metadata": {},
   "source": [
    "# Moving Circles LSTM"
   ]
  },
  {
   "cell_type": "code",
   "execution_count": 1,
   "metadata": {},
   "outputs": [],
   "source": [
    "import numpy as np\n",
    "import pickle\n",
    "import time\n",
    "from matplotlib import pyplot as plt\n",
    "import gc\n",
    "import torch\n",
    "from torch import nn\n",
    "import torch.nn.functional as F\n",
    "import torch.optim as optim\n",
    "from torch.utils.data import TensorDataset, DataLoader\n",
    "from sklearn.metrics import confusion_matrix\n",
    "\n",
    "device = \"cuda\" if torch.cuda.is_available() else \"cpu\"\n",
    "#device = \"cpu\""
   ]
  },
  {
   "cell_type": "code",
   "execution_count": 2,
   "metadata": {},
   "outputs": [],
   "source": [
    "class LSTMNetwork(nn.Module):\n",
    "    def __init__(self, input_size, hidden_size, seq_length, n_classes, num_layers = 1, drop = 0.1):\n",
    "        self.input_size = input_size\n",
    "        self.hidden_size = hidden_size\n",
    "        self.seq_length = seq_length\n",
    "        self.num_layers = num_layers\n",
    "        self.n_classes = n_classes\n",
    "        \n",
    "        super(LSTMNetwork, self).__init__()\n",
    "        self.dropout = nn.Dropout(drop)\n",
    "        self.lstm = nn.LSTM(input_size=input_size, hidden_size=hidden_size, batch_first=True)\n",
    "        self.fc = nn.Linear(hidden_size, n_classes)\n",
    "    \n",
    "    def forward(self, x, x_len, h):\n",
    "        x = torch.nn.utils.rnn.pack_padded_sequence(x, x_len, batch_first=True, enforce_sorted=False)\n",
    "        lstm_output, hidden = self.lstm(x, h)\n",
    "    \n",
    "        output, _ = torch.nn.utils.rnn.pad_packed_sequence(lstm_output, batch_first=True, padding_value=0., total_length=self.seq_length)\n",
    "\n",
    "        output = output.contiguous().view(-1, self.seq_length, self.hidden_size)\n",
    "        output = self.dropout(output)\n",
    "        output = self.fc(output)\n",
    "        output = output.view(-1, self.seq_length, self.n_classes)\n",
    "        \n",
    "        return output, hidden\n",
    "\n",
    "    def init_hidden(self, batch_size):\n",
    "        return (torch.zeros(self.num_layers, batch_size, self.hidden_size, device=device), torch.zeros(self.num_layers, batch_size, self.hidden_size, device=device))"
   ]
  },
  {
   "cell_type": "code",
   "execution_count": 3,
   "metadata": {},
   "outputs": [],
   "source": [
    "class Model:\n",
    "    def __init__(self, lstm, loss_fn, optimizer, seq_len, n_output):\n",
    "        self.model = lstm\n",
    "        self.loss_fn = loss_fn\n",
    "        self.optim = optimizer\n",
    "        self.seq_len = seq_len\n",
    "        self.n_output = n_output\n",
    "\n",
    "    def train(self, train_loader, n_epochs):\n",
    "        train_loss = []\n",
    "        best_loss = 1e10\n",
    "\n",
    "        self.model.train()\n",
    "        for i in range(n_epochs):\n",
    "            start = time.time()\n",
    "            avg_loss = 0.\n",
    "            for X, y in train_loader:\n",
    "                loss = 0.\n",
    "                curr_batch_size = X.shape[0]\n",
    "                h = self.model.init_hidden(curr_batch_size)\n",
    "                X, y = X.to(device), y.to(device)\n",
    "                self.optim.zero_grad()\n",
    "\n",
    "                X_lens = self.find_lens(X)\n",
    "                output, h = self.model(X, X_lens, h)\n",
    "\n",
    "                output = torch.transpose(output, 1, 2)\n",
    "                y = torch.transpose(y, 1, 2)\n",
    "\n",
    "                loss += self.loss_fn(output, y)\n",
    "                \n",
    "                loss.backward()\n",
    "                self.optim.step()\n",
    "                avg_loss += loss.item()\n",
    "\n",
    "            end = time.time()\n",
    "            epoch_mins, epoch_secs = self.epoch_time(start, end)\n",
    "            if best_loss > avg_loss:\n",
    "                best_loss = avg_loss\n",
    "                self.saveModel()\n",
    "            train_loss.append(avg_loss)\n",
    "\n",
    "            print(\"Epoch \" + str(i + 1) + \"/\" + str(n_epochs))\n",
    "            print(\"Time: \" + str(epoch_mins) + \" minutes \" + str(epoch_secs) + \" seconds\")\n",
    "            print(\"Training loss: \" + str(avg_loss))\n",
    "            print()\n",
    "        \n",
    "        return train_loss\n",
    "\n",
    "    def saveModel(self):\n",
    "        torch.save({\"lstm\": self.model.state_dict(), \"lstm_optimizer\": self.optim.state_dict()}, 'lstm-model.pt')\n",
    "\n",
    "    def epoch_time(self, start_time, end_time):\n",
    "        elapsed = end_time - start_time\n",
    "        elapsed_mins = int(elapsed / 60)\n",
    "        elapsed_secs = int(elapsed - (elapsed_mins * 60))\n",
    "        return elapsed_mins, elapsed_secs\n",
    "    \n",
    "    def find_lens(self, X):\n",
    "        X_lens = []\n",
    "        for batch in X:\n",
    "            count = 0\n",
    "            for time in batch:\n",
    "                if torch.count_nonzero(time) == 0:\n",
    "                    break\n",
    "                else:\n",
    "                    count += 1\n",
    "            X_lens.append(count)\n",
    "        return X_lens\n",
    "\n",
    "    def eval(self, test_loader):\n",
    "        self.model.eval()\n",
    "        test_loss = 0.\n",
    "        correct = np.zeros(self.seq_len)\n",
    "        total = np.zeros(self.seq_len)\n",
    "\n",
    "        confusion = np.zeros((self.n_output, self.n_output))\n",
    "\n",
    "        with torch.no_grad():\n",
    "            for X, y in test_loader:\n",
    "                curr_batch_size = X.shape[0]\n",
    "                h = self.model.init_hidden(curr_batch_size)\n",
    "                X, y = X.to(device), y.to(device)\n",
    "\n",
    "                X_lens = self.find_lens(X)\n",
    "\n",
    "                output, h = self.model(X, X_lens, h)\n",
    "                \n",
    "                top_value, top_index = output.topk(1)\n",
    "                out = torch.zeros(curr_batch_size, self.seq_len, self.n_output)\n",
    "                for clip in range(curr_batch_size):\n",
    "                    for k in range(self.seq_len):\n",
    "                        out[clip][k][top_index[clip][k].item()] = 1\n",
    "\n",
    "                output = torch.transpose(output, 1, 2)\n",
    "                y_hat = torch.transpose(y, 1, 2)\n",
    "                test_loss += self.loss_fn(output, y_hat).item()\n",
    "                \n",
    "                correct, total = accuracy(y.cpu().numpy(), out.cpu().numpy(), correct, total)\n",
    "\n",
    "                true, pred = devector(y.cpu().numpy(), out.cpu().numpy())\n",
    "\n",
    "                confusion += confusion_matrix(true, pred)\n",
    "\n",
    "        accArr = correct / total\n",
    "        return accArr, confusion\n",
    "\n",
    "    \n",
    "    def random_samples(self, X, pad=0.):\n",
    "        X_random = []\n",
    "        X_lens = self.find_lens(X)\n",
    "        for i in range(X.shape[0]):\n",
    "            X_batch = np.random.normal(size=(X_lens[i], X.shape[-1]))\n",
    "            if X_lens[i] < self.seq_len:\n",
    "                X_pad = np.array([[pad]*X.shape[-1]]*(self.seq_len - X_lens[i]))\n",
    "                X_batch = np.append(X_batch, X_pad, axis=0)\n",
    "            X_random.append(X_batch)\n",
    "        X_random = np.array(X_random)\n",
    "        return X_random\n",
    "    \n",
    "    def rand_test(self, test_loader, n_samples=20, percentile=90):\n",
    "        rand_acc_array = []\n",
    "        for sample in range(n_samples):\n",
    "            correct = np.zeros(self.seq_len)\n",
    "            total = np.zeros(self.seq_len)\n",
    "            \n",
    "            self.model.eval()\n",
    "\n",
    "            with torch.no_grad():\n",
    "\n",
    "                for x, y in test_loader:\n",
    "                    loss = 0.\n",
    "                    curr_batch_size = x.shape[0]\n",
    "                    X_random = torch.from_numpy(self.random_samples(x)).float().to(device)\n",
    "                    h = self.model.init_hidden(curr_batch_size)\n",
    "                    y = y.to(device)\n",
    "\n",
    "                    X_lens = self.find_lens(x)\n",
    "                    output, h = self.model(X_random, X_lens, h)\n",
    "                    top_value, top_index = output.topk(1)\n",
    "                    out = torch.zeros(curr_batch_size, self.seq_len, self.n_output)\n",
    "                    for clip in range(curr_batch_size):\n",
    "                        for k in range(self.seq_len):\n",
    "                            out[clip][k][top_index[clip][k].item()] = 1\n",
    "\n",
    "                    output = torch.transpose(output, 1, 2)\n",
    "                    y_hat = torch.transpose(y, 1, 2)\n",
    "                    loss += self.loss_fn(output, y_hat).item()\n",
    "\n",
    "                    correct, total = accuracy(y.cpu().numpy(), out.cpu().numpy(), correct, total)\n",
    "            lstm_rand_acc = correct / total\n",
    "            \n",
    "            rand_acc_array.append(lstm_rand_acc)\n",
    "        plot = np.percentile(np.sort(np.array(rand_acc_array), axis=0), percentile, axis=0)\n",
    "        return plot"
   ]
  },
  {
   "cell_type": "code",
   "execution_count": 4,
   "metadata": {},
   "outputs": [],
   "source": [
    "def vectorize(y, c=2):\n",
    "    new_y = np.zeros((y.shape[0], y.shape[1], c))\n",
    "    for batch in range(y.shape[0]):\n",
    "        for time in range(y.shape[1]):\n",
    "            cl = y[batch][time]\n",
    "            if cl < c:\n",
    "                new_y[batch][time][int(cl)] = 1.\n",
    "    return new_y"
   ]
  },
  {
   "cell_type": "code",
   "execution_count": 5,
   "metadata": {},
   "outputs": [],
   "source": [
    "def findIndex(val, arr):\n",
    "    index = -1\n",
    "    for x in range(arr.size):\n",
    "        if val == arr[x]:\n",
    "            index = x\n",
    "            break\n",
    "    return index\n",
    "\n",
    "def accuracy(target, prob, correct, tot):\n",
    "    for i in range(prob.shape[1]):\n",
    "        correctCount = correct[i]\n",
    "        totalCount = tot[i]\n",
    "        for j in range(prob.shape[0]):\n",
    "            if np.count_nonzero(target[j][i]) != 0:\n",
    "                if findIndex(1., target[j][i]) == findIndex(1., prob[j][i]):\n",
    "                    correctCount += 1\n",
    "                totalCount += 1\n",
    "        correct[i] = correctCount\n",
    "        tot[i] = totalCount\n",
    "    return correct, tot"
   ]
  },
  {
   "cell_type": "code",
   "execution_count": 6,
   "metadata": {},
   "outputs": [],
   "source": [
    "def devector(true, pred):\n",
    "    new_y_true = []\n",
    "    new_y_pred = []\n",
    "    for batch in range(true.shape[0]):\n",
    "        for time in range(true.shape[1]):\n",
    "            if np.count_nonzero(true[batch][time]) != 0:\n",
    "                i = findIndex(1., true[batch][time])\n",
    "                new_y_true.append(i)\n",
    "                j = findIndex(1., pred[batch][time])\n",
    "                new_y_pred.append(j)\n",
    "    return np.array(new_y_true), np.array(new_y_pred)"
   ]
  },
  {
   "cell_type": "code",
   "execution_count": 7,
   "metadata": {},
   "outputs": [],
   "source": [
    "with open(f\"appr_retr_timesegments.pkl\", 'rb') as f:\n",
    "    X_train, y_train, len_train, X_test, y_test, len_test = pickle.load(f)\n",
    "\n",
    "for batch, batch_len in enumerate(len_train):\n",
    "    y_train[batch, batch_len:] = np.array([2]*(y_train.shape[-1] - batch_len))\n",
    "\n",
    "for batch, batch_len in enumerate(len_test):\n",
    "    y_test[batch, batch_len:] = np.array([2]*(y_test.shape[-1] - batch_len))\n",
    "\n",
    "y_train = vectorize(y_train)\n",
    "y_test = vectorize(y_test)\n",
    "\n",
    "batch_size = 32\n",
    "\n",
    "train_data = TensorDataset(torch.from_numpy(X_train).float(), torch.from_numpy(y_train).float())\n",
    "train_loader = DataLoader(train_data, shuffle=True, batch_size=batch_size)\n",
    "test_data = TensorDataset(torch.from_numpy(X_test).float(), torch.from_numpy(y_test).float())\n",
    "test_loader = DataLoader(test_data, shuffle=True, batch_size=batch_size)"
   ]
  },
  {
   "cell_type": "code",
   "execution_count": 8,
   "metadata": {},
   "outputs": [],
   "source": [
    "n_input = 300\n",
    "n_hidden = 32\n",
    "n_classes = 2\n",
    "seq_len = 129\n",
    "learning_rate = 5e-4\n",
    "EPOCHS = 100\n",
    "\n",
    "lstm = LSTMNetwork(n_input, n_hidden, seq_len, n_classes).to(device)\n",
    "loss_fn = nn.CrossEntropyLoss()\n",
    "optimizer = optim.Adam(lstm.parameters(), lr=learning_rate)\n",
    "\n",
    "model = Model(lstm, loss_fn, optimizer, seq_len, n_classes)"
   ]
  },
  {
   "cell_type": "code",
   "execution_count": 9,
   "metadata": {},
   "outputs": [
    {
     "ename": "KeyboardInterrupt",
     "evalue": "",
     "output_type": "error",
     "traceback": [
      "\u001b[1;31m---------------------------------------------------------------------------\u001b[0m",
      "\u001b[1;31mKeyboardInterrupt\u001b[0m                         Traceback (most recent call last)",
      "Input \u001b[1;32mIn [9]\u001b[0m, in \u001b[0;36m<cell line: 1>\u001b[1;34m()\u001b[0m\n\u001b[1;32m----> 1\u001b[0m train_loss \u001b[38;5;241m=\u001b[39m \u001b[43mmodel\u001b[49m\u001b[38;5;241;43m.\u001b[39;49m\u001b[43mtrain\u001b[49m\u001b[43m(\u001b[49m\u001b[43mtrain_loader\u001b[49m\u001b[43m,\u001b[49m\u001b[43m \u001b[49m\u001b[43mEPOCHS\u001b[49m\u001b[43m)\u001b[49m\n",
      "Input \u001b[1;32mIn [3]\u001b[0m, in \u001b[0;36mModel.train\u001b[1;34m(self, train_loader, n_epochs)\u001b[0m\n\u001b[0;32m     21\u001b[0m X, y \u001b[38;5;241m=\u001b[39m X\u001b[38;5;241m.\u001b[39mto(device), y\u001b[38;5;241m.\u001b[39mto(device)\n\u001b[0;32m     22\u001b[0m \u001b[38;5;28mself\u001b[39m\u001b[38;5;241m.\u001b[39moptim\u001b[38;5;241m.\u001b[39mzero_grad()\n\u001b[1;32m---> 24\u001b[0m X_lens \u001b[38;5;241m=\u001b[39m \u001b[38;5;28;43mself\u001b[39;49m\u001b[38;5;241;43m.\u001b[39;49m\u001b[43mfind_lens\u001b[49m\u001b[43m(\u001b[49m\u001b[43mX\u001b[49m\u001b[43m)\u001b[49m\n\u001b[0;32m     25\u001b[0m output, h \u001b[38;5;241m=\u001b[39m \u001b[38;5;28mself\u001b[39m\u001b[38;5;241m.\u001b[39mmodel(X, X_lens, h)\n\u001b[0;32m     27\u001b[0m output \u001b[38;5;241m=\u001b[39m torch\u001b[38;5;241m.\u001b[39mtranspose(output, \u001b[38;5;241m1\u001b[39m, \u001b[38;5;241m2\u001b[39m)\n",
      "Input \u001b[1;32mIn [3]\u001b[0m, in \u001b[0;36mModel.find_lens\u001b[1;34m(self, X)\u001b[0m\n\u001b[0;32m     62\u001b[0m count \u001b[38;5;241m=\u001b[39m \u001b[38;5;241m0\u001b[39m\n\u001b[0;32m     63\u001b[0m \u001b[38;5;28;01mfor\u001b[39;00m time \u001b[38;5;129;01min\u001b[39;00m batch:\n\u001b[1;32m---> 64\u001b[0m     \u001b[38;5;28;01mif\u001b[39;00m \u001b[43mtorch\u001b[49m\u001b[38;5;241;43m.\u001b[39;49m\u001b[43mcount_nonzero\u001b[49m\u001b[43m(\u001b[49m\u001b[43mtime\u001b[49m\u001b[43m)\u001b[49m\u001b[43m \u001b[49m\u001b[38;5;241;43m==\u001b[39;49m\u001b[43m \u001b[49m\u001b[38;5;241;43m0\u001b[39;49m:\n\u001b[0;32m     65\u001b[0m         \u001b[38;5;28;01mbreak\u001b[39;00m\n\u001b[0;32m     66\u001b[0m     \u001b[38;5;28;01melse\u001b[39;00m:\n",
      "\u001b[1;31mKeyboardInterrupt\u001b[0m: "
     ]
    }
   ],
   "source": [
    "train_loss = model.train(train_loader, EPOCHS)"
   ]
  },
  {
   "cell_type": "code",
   "execution_count": 90,
   "metadata": {},
   "outputs": [
    {
     "data": {
      "image/png": "[encoded data removed]",
      "text/plain": [
       "<Figure size 432x288 with 1 Axes>"
      ]
     },
     "metadata": {
      "filenames": {
       "image/png": "C:\\Users\\Anna\\Documents\\GitHub\\srp-lab-notebook\\_build\\jupyter_execute\\appr_retr\\appr_retr_rnn_10_0.png"
      },
      "needs_background": "light"
     },
     "output_type": "display_data"
    }
   ],
   "source": [
    "xAx = [i for i in range(1, EPOCHS+1)]\n",
    "plt.plot(xAx, train_loss)\n",
    "plt.xlabel(\"Epoch\")\n",
    "plt.ylabel(\"Cross Entropy Loss\")\n",
    "plt.xlim(1, EPOCHS)\n",
    "plt.xticks([j*5 for j in range(1, EPOCHS // 5 + 1)])\n",
    "plt.title(\"Training Loss\")\n",
    "plt.show()"
   ]
  },
  {
   "cell_type": "code",
   "execution_count": 12,
   "metadata": {},
   "outputs": [],
   "source": [
    "lstm_accuracy, confusion = model.eval(test_loader)"
   ]
  },
  {
   "cell_type": "code",
   "execution_count": 92,
   "metadata": {},
   "outputs": [
    {
     "name": "stdout",
     "output_type": "stream",
     "text": [
      "[[43063.  9391.]\n",
      " [10846. 42667.]]\n"
     ]
    }
   ],
   "source": [
    "print(confusion)"
   ]
  },
  {
   "cell_type": "code",
   "execution_count": 16,
   "metadata": {},
   "outputs": [],
   "source": [
    "lstm_rand_acc = model.rand_test(test_loader, n_samples=20)"
   ]
  },
  {
   "cell_type": "code",
   "execution_count": 17,
   "metadata": {},
   "outputs": [
    {
     "data": {
      "image/png": "[encoded data removed]",
      "text/plain": [
       "<Figure size 432x288 with 1 Axes>"
      ]
     },
     "metadata": {
      "filenames": {
       "image/png": "C:\\Users\\Anna\\Documents\\GitHub\\srp-lab-notebook\\_build\\jupyter_execute\\appr_retr\\appr_retr_rnn_14_0.png"
      },
      "needs_background": "light"
     },
     "output_type": "display_data"
    }
   ],
   "source": [
    "xAx = [i for i in range(1,130)]\n",
    "plt.plot(xAx, lstm_accuracy, label=\"lstm\")\n",
    "plt.plot(xAx, lstm_rand_acc, label=\"random\")\n",
    "plt.xlabel(\"Time (s)\")\n",
    "plt.ylabel(\"Accuracy\")\n",
    "plt.ylim(0,1)\n",
    "plt.xlim(0,130)\n",
    "plt.title(\"Time-varying Classification Accuracy\")\n",
    "plt.legend()\n",
    "plt.show()"
   ]
  }
 ],
 "metadata": {
  "kernelspec": {
   "display_name": "Python 3.9.13 64-bit",
   "language": "python",
   "name": "python3"
  },
  "language_info": {
   "codemirror_mode": {
    "name": "ipython",
    "version": 3
   },
   "file_extension": ".py",
   "mimetype": "text/x-python",
   "name": "python",
   "nbconvert_exporter": "python",
   "pygments_lexer": "ipython3",
   "version": "3.9.13"
  },
  "vscode": {
   "interpreter": {
    "hash": "4f240839814783c86679b97dc90219b8a3d3e14ea65e88be68ce87d6dbf01a50"
   }
  }
 },
 "nbformat": 4,
 "nbformat_minor": 2
}