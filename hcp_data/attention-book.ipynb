{
 "cells": [
  {
   "cell_type": "code",
   "execution_count": 4,
   "metadata": {},
   "outputs": [],
   "source": [
    "import pickle\n",
    "import numpy as np\n",
    "import torch\n",
    "import random\n",
    "from matplotlib import pyplot as plt\n",
    "\n",
    "from lstm_data_prep import prep\n",
    "from rnn_perm_test import iterateSeq, test_random_labels, test_random_column_labels, test_random_features\n",
    "from attention import test_model, initialize_encoder_decoder"
   ]
  },
  {
   "cell_type": "code",
   "execution_count": 5,
   "metadata": {},
   "outputs": [],
   "source": [
    "device = \"cuda\" if torch.cuda.is_available() else \"cpu\"\n",
    "with open('HCP_movie_watching.pkl','rb') as f:\n",
    "    TS = pickle.load(f)\n",
    "\n",
    "input_size = 300\n",
    "hidden_size = 32\n",
    "n_layers = 1\n",
    "seq_len = 90\n",
    "class_num = 15\n",
    "\n",
    "_, test_loader = prep(TS)"
   ]
  },
  {
   "cell_type": "code",
   "execution_count": null,
   "metadata": {},
   "outputs": [
    {
     "name": "stderr",
     "output_type": "stream",
     "text": [
      "c:\\Users\\Anna&Megan\\Documents\\GitHub\\srp-lab-notebook\\hcp_data\\attention.py:187: UserWarning: To copy construct from a tensor, it is recommended to use sourceTensor.clone().detach() or sourceTensor.clone().detach().requires_grad_(True), rather than torch.tensor(sourceTensor).\n",
      "  decoder_input = torch.tensor(new_input, device=device)\n",
      "c:\\Users\\Anna&Megan\\Documents\\GitHub\\srp-lab-notebook\\hcp_data\\attention.py:189: UserWarning: To copy construct from a tensor, it is recommended to use sourceTensor.clone().detach() or sourceTensor.clone().detach().requires_grad_(True), rather than torch.tensor(sourceTensor).\n",
      "  test_loss += loss_fn(decoder_output.view(curr_batch_size,-1), torch.tensor(y[:, j, :], device=device)).item()\n"
     ]
    },
    {
     "ename": "UnboundLocalError",
     "evalue": "local variable 'output' referenced before assignment",
     "output_type": "error",
     "traceback": [
      "\u001b[1;31m---------------------------------------------------------------------------\u001b[0m",
      "\u001b[1;31mUnboundLocalError\u001b[0m                         Traceback (most recent call last)",
      "\u001b[1;32mc:\\Users\\Anna&Megan\\Documents\\GitHub\\srp-lab-notebook\\hcp_data\\attention-book.ipynb Cell 3\u001b[0m in \u001b[0;36m<cell line: 10>\u001b[1;34m()\u001b[0m\n\u001b[0;32m      <a href='vscode-notebook-cell:/c%3A/Users/Anna%26Megan/Documents/GitHub/srp-lab-notebook/hcp_data/attention-book.ipynb#ch0000002?line=6'>7</a>\u001b[0m encoder\u001b[39m.\u001b[39meval()\n\u001b[0;32m      <a href='vscode-notebook-cell:/c%3A/Users/Anna%26Megan/Documents/GitHub/srp-lab-notebook/hcp_data/attention-book.ipynb#ch0000002?line=7'>8</a>\u001b[0m decoder\u001b[39m.\u001b[39meval()\n\u001b[1;32m---> <a href='vscode-notebook-cell:/c%3A/Users/Anna%26Megan/Documents/GitHub/srp-lab-notebook/hcp_data/attention-book.ipynb#ch0000002?line=9'>10</a>\u001b[0m attention_accuracy \u001b[39m=\u001b[39m test_model(encoder, decoder, test_loader, seq_len, loss_fn)\n\u001b[0;32m     <a href='vscode-notebook-cell:/c%3A/Users/Anna%26Megan/Documents/GitHub/srp-lab-notebook/hcp_data/attention-book.ipynb#ch0000002?line=10'>11</a>\u001b[0m attention_accuracy \u001b[39m=\u001b[39m np\u001b[39m.\u001b[39minsert(attention_accuracy, \u001b[39m0\u001b[39m, attention_accuracy[\u001b[39m0\u001b[39m])\n\u001b[0;32m     <a href='vscode-notebook-cell:/c%3A/Users/Anna%26Megan/Documents/GitHub/srp-lab-notebook/hcp_data/attention-book.ipynb#ch0000002?line=11'>12</a>\u001b[0m \u001b[39mprint\u001b[39m(test_loss)\n",
      "File \u001b[1;32mc:\\Users\\Anna&Megan\\Documents\\GitHub\\srp-lab-notebook\\hcp_data\\attention.py:194\u001b[0m, in \u001b[0;36mtest_model\u001b[1;34m(encoder, decoder, test_loader, seq_len, loss_fn)\u001b[0m\n\u001b[0;32m    192\u001b[0m                 output \u001b[39m=\u001b[39m torch\u001b[39m.\u001b[39mtensor(new_input\u001b[39m.\u001b[39munsqueeze(\u001b[39m1\u001b[39m))\n\u001b[0;32m    193\u001b[0m             \u001b[39melse\u001b[39;00m:\n\u001b[1;32m--> 194\u001b[0m                 output \u001b[39m=\u001b[39m torch\u001b[39m.\u001b[39mcat((output, new_input\u001b[39m.\u001b[39munsqueeze(\u001b[39m1\u001b[39m)), \u001b[39m1\u001b[39m)\n\u001b[0;32m    196\u001b[0m         correct, total \u001b[39m=\u001b[39m accuracy(y\u001b[39m.\u001b[39mnumpy(), output\u001b[39m.\u001b[39mnumpy(), correct, total)\n\u001b[0;32m    197\u001b[0m test_loss \u001b[39m/\u001b[39m\u001b[39m=\u001b[39m \u001b[39mlen\u001b[39m(test_loader)\n",
      "\u001b[1;31mUnboundLocalError\u001b[0m: local variable 'output' referenced before assignment"
     ]
    }
   ],
   "source": [
    "encoder, attent, decoder, encoder_optimizer, decoder_optimizer, loss_fn = initialize_encoder_decoder(input_size, hidden_size, class_num)\n",
    "\n",
    "check = torch.load(\"encoder-decoder.pt\")\n",
    "encoder.load_state_dict(check[\"encoder\"])\n",
    "decoder.load_state_dict(check[\"decoder\"])\n",
    "\n",
    "encoder.eval()\n",
    "decoder.eval()\n",
    "\n",
    "attention_accuracy = test_model(encoder, decoder, test_loader, seq_len, loss_fn)\n",
    "attention_accuracy = np.insert(attention_accuracy, 0, attention_accuracy[0])\n",
    "print(test_loss)"
   ]
  },
  {
   "cell_type": "code",
   "execution_count": null,
   "metadata": {},
   "outputs": [],
   "source": [
    "test_permutation_acc, _ = iterateSeq(encoder, decoder, loss_fn, TS, numSamples = 1)\n",
    "random_feature_acc, _ = test_random_features(encoder, decoder, loss_fn, TS, numSamples = 1)"
   ]
  },
  {
   "cell_type": "code",
   "execution_count": null,
   "metadata": {},
   "outputs": [],
   "source": [
    "# Test with random labels\n",
    "# random_labels_samples_accuracy, l_loss = test_random_labels(encoder, decoder, loss_fn, TS)"
   ]
  },
  {
   "cell_type": "code",
   "execution_count": null,
   "metadata": {},
   "outputs": [
    {
     "name": "stderr",
     "output_type": "stream",
     "text": [
      "c:\\Users\\Anna&Megan\\Documents\\GitHub\\srp-lab-notebook\\hcp_data\\lstm_data_prep.py:59: VisibleDeprecationWarning: Creating an ndarray from ragged nested sequences (which is a list-or-tuple of lists-or-tuples-or ndarrays with different lengths or shapes) is deprecated. If you meant to do this, you must specify 'dtype=object' when creating the ndarray.\n",
      "  X_padded = paddingArr(np.array(X_arr))\n",
      "c:\\Users\\Anna&Megan\\Documents\\GitHub\\srp-lab-notebook\\hcp_data\\attention.py:178: UserWarning: To copy construct from a tensor, it is recommended to use sourceTensor.clone().detach() or sourceTensor.clone().detach().requires_grad_(True), rather than torch.tensor(sourceTensor).\n",
      "  decoder_input = torch.tensor(y[:, 0, :], device=device)\n",
      "c:\\Users\\Anna&Megan\\Documents\\GitHub\\srp-lab-notebook\\hcp_data\\attention.py:189: UserWarning: To copy construct from a tensor, it is recommended to use sourceTensor.clone().detach() or sourceTensor.clone().detach().requires_grad_(True), rather than torch.tensor(sourceTensor).\n",
      "  decoder_input = torch.tensor(new_input, device=device)\n",
      "c:\\Users\\Anna&Megan\\Documents\\GitHub\\srp-lab-notebook\\hcp_data\\attention.py:191: UserWarning: To copy construct from a tensor, it is recommended to use sourceTensor.clone().detach() or sourceTensor.clone().detach().requires_grad_(True), rather than torch.tensor(sourceTensor).\n",
      "  test_loss += loss_fn(decoder_output.view(curr_batch_size,-1), torch.tensor(y[:, j, :], device=device)).item()\n",
      "c:\\Users\\Anna&Megan\\Documents\\GitHub\\srp-lab-notebook\\hcp_data\\attention.py:194: UserWarning: To copy construct from a tensor, it is recommended to use sourceTensor.clone().detach() or sourceTensor.clone().detach().requires_grad_(True), rather than torch.tensor(sourceTensor).\n",
      "  output = torch.tensor(new_input.unsqueeze(1))\n"
     ]
    }
   ],
   "source": [
    "random_batch_labels_accuracy, _ = test_random_column_labels(encoder, decoder, loss_fn, TS, numSamples = 1)"
   ]
  },
  {
   "cell_type": "code",
   "execution_count": null,
   "metadata": {},
   "outputs": [
    {
     "ename": "ValueError",
     "evalue": "x and y must have same first dimension, but have shapes (90,) and (89,)",
     "output_type": "error",
     "traceback": [
      "\u001b[1;31m---------------------------------------------------------------------------\u001b[0m",
      "\u001b[1;31mValueError\u001b[0m                                Traceback (most recent call last)",
      "\u001b[1;32mc:\\Users\\Anna&Megan\\Documents\\GitHub\\srp-lab-notebook\\hcp_data\\attention.ipynb Cell 8\u001b[0m in \u001b[0;36m<cell line: 13>\u001b[1;34m()\u001b[0m\n\u001b[0;32m     <a href='vscode-notebook-cell:/c%3A/Users/Anna%26Megan/Documents/GitHub/srp-lab-notebook/hcp_data/attention.ipynb#ch0000009?line=11'>12</a>\u001b[0m \u001b[39m# Test with randomly generated label for each batch, same across time steps within batch\u001b[39;00m\n\u001b[0;32m     <a href='vscode-notebook-cell:/c%3A/Users/Anna%26Megan/Documents/GitHub/srp-lab-notebook/hcp_data/attention.ipynb#ch0000009?line=12'>13</a>\u001b[0m \u001b[39mfor\u001b[39;00m i, plot \u001b[39min\u001b[39;00m \u001b[39menumerate\u001b[39m(random_batch_labels_accuracy):\n\u001b[1;32m---> <a href='vscode-notebook-cell:/c%3A/Users/Anna%26Megan/Documents/GitHub/srp-lab-notebook/hcp_data/attention.ipynb#ch0000009?line=13'>14</a>\u001b[0m     plt\u001b[39m.\u001b[39;49mplot(xAx, plot, label\u001b[39m=\u001b[39;49m\u001b[39m\"\u001b[39;49m\u001b[39mrandom-labels-\u001b[39;49m\u001b[39m\"\u001b[39;49m \u001b[39m+\u001b[39;49m \u001b[39mstr\u001b[39;49m(i\u001b[39m+\u001b[39;49m\u001b[39m1\u001b[39;49m))\n\u001b[0;32m     <a href='vscode-notebook-cell:/c%3A/Users/Anna%26Megan/Documents/GitHub/srp-lab-notebook/hcp_data/attention.ipynb#ch0000009?line=15'>16</a>\u001b[0m \u001b[39m# Test with permuted inputs\u001b[39;00m\n\u001b[0;32m     <a href='vscode-notebook-cell:/c%3A/Users/Anna%26Megan/Documents/GitHub/srp-lab-notebook/hcp_data/attention.ipynb#ch0000009?line=16'>17</a>\u001b[0m \u001b[39mfor\u001b[39;00m i, plot \u001b[39min\u001b[39;00m \u001b[39menumerate\u001b[39m(test_permutation_acc):\n",
      "File \u001b[1;32mc:\\Users\\Anna&Megan\\AppData\\Local\\Programs\\Python\\Python310\\lib\\site-packages\\matplotlib\\pyplot.py:2769\u001b[0m, in \u001b[0;36mplot\u001b[1;34m(scalex, scaley, data, *args, **kwargs)\u001b[0m\n\u001b[0;32m   2767\u001b[0m \u001b[39m@_copy_docstring_and_deprecators\u001b[39m(Axes\u001b[39m.\u001b[39mplot)\n\u001b[0;32m   2768\u001b[0m \u001b[39mdef\u001b[39;00m \u001b[39mplot\u001b[39m(\u001b[39m*\u001b[39margs, scalex\u001b[39m=\u001b[39m\u001b[39mTrue\u001b[39;00m, scaley\u001b[39m=\u001b[39m\u001b[39mTrue\u001b[39;00m, data\u001b[39m=\u001b[39m\u001b[39mNone\u001b[39;00m, \u001b[39m*\u001b[39m\u001b[39m*\u001b[39mkwargs):\n\u001b[1;32m-> 2769\u001b[0m     \u001b[39mreturn\u001b[39;00m gca()\u001b[39m.\u001b[39mplot(\n\u001b[0;32m   2770\u001b[0m         \u001b[39m*\u001b[39margs, scalex\u001b[39m=\u001b[39mscalex, scaley\u001b[39m=\u001b[39mscaley,\n\u001b[0;32m   2771\u001b[0m         \u001b[39m*\u001b[39m\u001b[39m*\u001b[39m({\u001b[39m\"\u001b[39m\u001b[39mdata\u001b[39m\u001b[39m\"\u001b[39m: data} \u001b[39mif\u001b[39;00m data \u001b[39mis\u001b[39;00m \u001b[39mnot\u001b[39;00m \u001b[39mNone\u001b[39;00m \u001b[39melse\u001b[39;00m {}), \u001b[39m*\u001b[39m\u001b[39m*\u001b[39mkwargs)\n",
      "File \u001b[1;32mc:\\Users\\Anna&Megan\\AppData\\Local\\Programs\\Python\\Python310\\lib\\site-packages\\matplotlib\\axes\\_axes.py:1632\u001b[0m, in \u001b[0;36mAxes.plot\u001b[1;34m(self, scalex, scaley, data, *args, **kwargs)\u001b[0m\n\u001b[0;32m   1390\u001b[0m \u001b[39m\"\"\"\u001b[39;00m\n\u001b[0;32m   1391\u001b[0m \u001b[39mPlot y versus x as lines and/or markers.\u001b[39;00m\n\u001b[0;32m   1392\u001b[0m \n\u001b[1;32m   (...)\u001b[0m\n\u001b[0;32m   1629\u001b[0m \u001b[39m(``'green'``) or hex strings (``'#008000'``).\u001b[39;00m\n\u001b[0;32m   1630\u001b[0m \u001b[39m\"\"\"\u001b[39;00m\n\u001b[0;32m   1631\u001b[0m kwargs \u001b[39m=\u001b[39m cbook\u001b[39m.\u001b[39mnormalize_kwargs(kwargs, mlines\u001b[39m.\u001b[39mLine2D)\n\u001b[1;32m-> 1632\u001b[0m lines \u001b[39m=\u001b[39m [\u001b[39m*\u001b[39m\u001b[39mself\u001b[39m\u001b[39m.\u001b[39m_get_lines(\u001b[39m*\u001b[39margs, data\u001b[39m=\u001b[39mdata, \u001b[39m*\u001b[39m\u001b[39m*\u001b[39mkwargs)]\n\u001b[0;32m   1633\u001b[0m \u001b[39mfor\u001b[39;00m line \u001b[39min\u001b[39;00m lines:\n\u001b[0;32m   1634\u001b[0m     \u001b[39mself\u001b[39m\u001b[39m.\u001b[39madd_line(line)\n",
      "File \u001b[1;32mc:\\Users\\Anna&Megan\\AppData\\Local\\Programs\\Python\\Python310\\lib\\site-packages\\matplotlib\\axes\\_base.py:312\u001b[0m, in \u001b[0;36m_process_plot_var_args.__call__\u001b[1;34m(self, data, *args, **kwargs)\u001b[0m\n\u001b[0;32m    310\u001b[0m     this \u001b[39m+\u001b[39m\u001b[39m=\u001b[39m args[\u001b[39m0\u001b[39m],\n\u001b[0;32m    311\u001b[0m     args \u001b[39m=\u001b[39m args[\u001b[39m1\u001b[39m:]\n\u001b[1;32m--> 312\u001b[0m \u001b[39myield from\u001b[39;00m \u001b[39mself\u001b[39;49m\u001b[39m.\u001b[39;49m_plot_args(this, kwargs)\n",
      "File \u001b[1;32mc:\\Users\\Anna&Megan\\AppData\\Local\\Programs\\Python\\Python310\\lib\\site-packages\\matplotlib\\axes\\_base.py:498\u001b[0m, in \u001b[0;36m_process_plot_var_args._plot_args\u001b[1;34m(self, tup, kwargs, return_kwargs)\u001b[0m\n\u001b[0;32m    495\u001b[0m     \u001b[39mself\u001b[39m\u001b[39m.\u001b[39maxes\u001b[39m.\u001b[39myaxis\u001b[39m.\u001b[39mupdate_units(y)\n\u001b[0;32m    497\u001b[0m \u001b[39mif\u001b[39;00m x\u001b[39m.\u001b[39mshape[\u001b[39m0\u001b[39m] \u001b[39m!=\u001b[39m y\u001b[39m.\u001b[39mshape[\u001b[39m0\u001b[39m]:\n\u001b[1;32m--> 498\u001b[0m     \u001b[39mraise\u001b[39;00m \u001b[39mValueError\u001b[39;00m(\u001b[39mf\u001b[39m\u001b[39m\"\u001b[39m\u001b[39mx and y must have same first dimension, but \u001b[39m\u001b[39m\"\u001b[39m\n\u001b[0;32m    499\u001b[0m                      \u001b[39mf\u001b[39m\u001b[39m\"\u001b[39m\u001b[39mhave shapes \u001b[39m\u001b[39m{\u001b[39;00mx\u001b[39m.\u001b[39mshape\u001b[39m}\u001b[39;00m\u001b[39m and \u001b[39m\u001b[39m{\u001b[39;00my\u001b[39m.\u001b[39mshape\u001b[39m}\u001b[39;00m\u001b[39m\"\u001b[39m)\n\u001b[0;32m    500\u001b[0m \u001b[39mif\u001b[39;00m x\u001b[39m.\u001b[39mndim \u001b[39m>\u001b[39m \u001b[39m2\u001b[39m \u001b[39mor\u001b[39;00m y\u001b[39m.\u001b[39mndim \u001b[39m>\u001b[39m \u001b[39m2\u001b[39m:\n\u001b[0;32m    501\u001b[0m     \u001b[39mraise\u001b[39;00m \u001b[39mValueError\u001b[39;00m(\u001b[39mf\u001b[39m\u001b[39m\"\u001b[39m\u001b[39mx and y can be no greater than 2D, but have \u001b[39m\u001b[39m\"\u001b[39m\n\u001b[0;32m    502\u001b[0m                      \u001b[39mf\u001b[39m\u001b[39m\"\u001b[39m\u001b[39mshapes \u001b[39m\u001b[39m{\u001b[39;00mx\u001b[39m.\u001b[39mshape\u001b[39m}\u001b[39;00m\u001b[39m and \u001b[39m\u001b[39m{\u001b[39;00my\u001b[39m.\u001b[39mshape\u001b[39m}\u001b[39;00m\u001b[39m\"\u001b[39m)\n",
      "\u001b[1;31mValueError\u001b[0m: x and y must have same first dimension, but have shapes (90,) and (89,)"
     ]
    },
    {
     "data": {
      "image/png": "[encoded data removed]",
      "text/plain": [
       "<Figure size 432x288 with 1 Axes>"
      ]
     },
     "metadata": {
      "needs_background": "light"
     },
     "output_type": "display_data"
    }
   ],
   "source": [
    "# Compare accuracies\n",
    "xAx = [i for i in range(0,90)]\n",
    "plt.plot(xAx, attention_accuracy, label=\"attention-encoder-decoder\")\n",
    "# plt.plot(xAx, attention_permutation_accuracy, label=\"permutation\")\n",
    "\"\"\"\n",
    "# Test with randomly generated label for each (batch, time step)\n",
    "for i, plot in enumerate(random_labels_samples_accuracy):\n",
    "    plot = np.insert(plot, 0, plot[0])\n",
    "    plt.plot(xAx, plot, label=\"random-\" + str(i+1))\n",
    "\"\"\"\n",
    "\n",
    "# Test with randomly generated label for each batch, same across time steps within batch\n",
    "for i, plot in enumerate(random_batch_labels_accuracy):\n",
    "    plt.plot(xAx, plot, label=\"random-labels-\" + str(i+1))\n",
    "\n",
    "# Test with permuted inputs\n",
    "for i, plot in enumerate(test_permutation_acc):\n",
    "    plt.plot(xAx, plot, label=\"permutation-\" + str(i+1))\n",
    "\n",
    "# Test with randomly generated inputs\n",
    "for i, plot in enumerate(random_feature_acc):\n",
    "    plot = np.insert (plot, 0, plot[0])\n",
    "    plt.plot(xAx, plot, label=\"\")\n",
    "plt.xlabel(\"Time (s)\")\n",
    "plt.ylabel(\"Accuracy\")\n",
    "plt.ylim(0,1)\n",
    "plt.xlim(0,90)\n",
    "plt.title(\"Time-varying Classification Accuracy\")\n",
    "plt.legend()\n",
    "plt.show()"
   ]
  },
  {
   "cell_type": "code",
   "execution_count": null,
   "metadata": {},
   "outputs": [
    {
     "name": "stdout",
     "output_type": "stream",
     "text": [
      "Stored 'attention_accuracy' (ndarray)\n"
     ]
    }
   ],
   "source": [
    "%store attention_accuracy"
   ]
  }
 ],
 "metadata": {
  "kernelspec": {
   "display_name": "Python 3.10.5 64-bit",
   "language": "python",
   "name": "python3"
  },
  "language_info": {
   "codemirror_mode": {
    "name": "ipython",
    "version": 3
   },
   "file_extension": ".py",
   "mimetype": "text/x-python",
   "name": "python",
   "nbconvert_exporter": "python",
   "pygments_lexer": "ipython3",
   "version": "3.10.5"
  },
  "orig_nbformat": 4,
  "vscode": {
   "interpreter": {
    "hash": "5d8d8f94dc29cf6517d9b951f40e6c965bcb2efc4a5d0d869ef8b359fa785960"
   }
  }
 },
 "nbformat": 4,
 "nbformat_minor": 2
}
