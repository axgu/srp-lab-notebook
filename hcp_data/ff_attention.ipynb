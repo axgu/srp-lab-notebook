{
 "cells": [
  {
   "cell_type": "markdown",
   "metadata": {},
   "source": [
    "# Feedforward with Attention"
   ]
  },
  {
   "cell_type": "code",
   "execution_count": 1,
   "metadata": {},
   "outputs": [],
   "source": [
    "import pickle\n",
    "import time\n",
    "import numpy as np\n",
    "import torch\n",
    "from torch import nn\n",
    "import torch.nn.functional as F\n",
    "import torch.optim as optim\n",
    "from torch.utils.data import TensorDataset, DataLoader\n",
    "from matplotlib import pyplot as plt\n",
    "import math\n",
    "\n",
    "from lstm_data_prep import numpy_prep\n",
    "from eval_model import accuracy, find_lens, epoch_time\n",
    "device = \"cuda\" if torch.cuda.is_available() else \"cpu\""
   ]
  },
  {
   "cell_type": "code",
   "execution_count": 2,
   "metadata": {},
   "outputs": [],
   "source": [
    "class FF(nn.Module):\n",
    "  def __init__(self, n_inputs, n_hidden, n_outputs):\n",
    "    super().__init__()\n",
    "    self.in_layer = nn.Linear(n_inputs, n_hidden)\n",
    "    self.out_layer = nn.Linear(n_hidden, n_outputs)\n",
    "\n",
    "    self.fc_h = nn.Linear(n_hidden, n_hidden, bias=False)\n",
    "    self.fc_out = nn.Linear(n_hidden, n_hidden, bias=False)\n",
    "    self.weight = nn.Parameter(torch.FloatTensor(n_hidden))\n",
    "\n",
    "  def forward(self, x, batch_size):\n",
    "    y = self.in_layer(x)\n",
    "\n",
    "    # attention\n",
    "    # (batch_size, seq_len, seq_len)\n",
    "    e = torch.zeros((batch_size, y.shape[1], y.shape[1]), device=device)\n",
    "    V = self.weight.repeat(batch_size, 1).unsqueeze(1)\n",
    "    for i in range(y.shape[1]):\n",
    "      r = torch.zeros(y.shape, device=device)\n",
    "      for j in range(y.shape[1]):\n",
    "        z = torch.tanh(self.fc_h(y[:, i, :]) + self.fc_out(y[:, j, :]))\n",
    "        r[:, j, :] = z\n",
    "      r = r.permute(0, 2, 1)\n",
    "            \n",
    "      a = torch.bmm(V, r).squeeze(1)\n",
    "      e[:, i, :] = a.squeeze(1)\n",
    "    att_weights = F.log_softmax(e, dim=-1)\n",
    "\n",
    "    context_vector = torch.bmm(att_weights, y)\n",
    "        \n",
    "    y_hat = self.out_layer(context_vector)\n",
    "\n",
    "    return y_hat"
   ]
  },
  {
   "cell_type": "code",
   "execution_count": 9,
   "metadata": {},
   "outputs": [],
   "source": [
    "class FFModel:\n",
    "  def __init__(self, model, loss_fn, optimizer, seq_len):\n",
    "    self.model = model\n",
    "    self.loss_fn = loss_fn\n",
    "    self.optim = optimizer\n",
    "    self.seq_len = seq_len\n",
    "    \n",
    "    total_params = sum(p.numel() for p in self.model.parameters())\n",
    "    print(total_params)\n",
    "    \n",
    "  def train(self, train_loader, n_epochs=500):\n",
    "    train_loss = []\n",
    "    best_loss = 1e10\n",
    "    self.model.train()\n",
    "    for i in range(n_epochs):\n",
    "      start = time.time()\n",
    "      avg_loss = 0.\n",
    "      for X, y in train_loader:\n",
    "        loss = 0.\n",
    "        curr_batch_size = X.shape[0]\n",
    "        X, y = X.to(device), y.to(device)\n",
    "        self.optim.zero_grad()\n",
    "\n",
    "        X_lens = find_lens(X)\n",
    "\n",
    "        output = self.model(X, curr_batch_size)\n",
    "\n",
    "        out = output.permute(0, 2, 1)\n",
    "        target = y.permute(0, 2, 1)\n",
    "\n",
    "        loss += self.loss_fn(out, target)\n",
    "            \n",
    "        loss.backward()\n",
    "        self.optim.step()\n",
    "        avg_loss += loss.item()\n",
    "\n",
    "      end = time.time()\n",
    "\n",
    "      epoch_mins, epoch_secs = epoch_time(start, end)\n",
    "      if best_loss > avg_loss:\n",
    "        best_loss = avg_loss\n",
    "        torch.save({\"ff_attention\": self.model.state_dict(), \"ff_att_optimizer\": self.optim.state_dict()}, 'ff-attention-model.pt')\n",
    "\n",
    "      print(\"Epoch \" + str(i + 1) + \"/\" + str(n_epochs))\n",
    "      print(\"Time: \" + str(epoch_mins) + \" minutes \" + str(epoch_secs) + \" seconds\")\n",
    "      print(\"Training loss: \" + str(loss.item()))\n",
    "      print()\n",
    "\n",
    "      train_loss.append(avg_loss)\n",
    "        \n",
    "    return train_loss\n",
    "\n",
    "  def eval(self, x, y):\n",
    "    check = torch.load(\"ff-attention-model.pt\")\n",
    "    self.model.load_state_dict(check[\"ff_attention\"])\n",
    "    self.optim.load_state_dict(check[\"ff_att_optimizer\"])\n",
    "    with torch.no_grad():\n",
    "      correct = np.zeros(self.seq_len)\n",
    "      total = np.zeros(self.seq_len)\n",
    "      self.model.eval()\n",
    "      loss = 0.\n",
    "      curr_batch_size = x.shape[0]\n",
    "      X, Y = x.to(device), y.to(device)\n",
    "      X_lens = find_lens(X)\n",
    "\n",
    "      out = self.model(X, curr_batch_size)\n",
    "\n",
    "      top_value, top_index = out.topk(1)\n",
    "\n",
    "      final = torch.zeros(y.shape).to(device)\n",
    "      for clip in range(y.shape[0]):\n",
    "        for step in range(y.shape[1]):\n",
    "          final[clip][step][top_index[clip][step]] = 1\n",
    "            \n",
    "      correct, total = accuracy(y.cpu().numpy(), final.cpu().numpy(), correct, total)\n",
    "      ff_accuracy = correct / total\n",
    "    return ff_accuracy, loss\n",
    "  \n",
    "  def random_samples(self, X, pad=0.):\n",
    "    X_random = []\n",
    "    X_lens = find_lens(X)\n",
    "    for i in range(X.shape[0]):\n",
    "      X_batch = np.random.normal(size=(X_lens[i], X.shape[-1]))\n",
    "      if X_lens[i] < self.seq_len:\n",
    "        X_pad = np.array([[pad]*X.shape[-1]]*(self.seq_len - X_lens[i]))\n",
    "        X_batch = np.append(X_batch, X_pad, axis=0)\n",
    "      X_random.append(X_batch)\n",
    "    X_random = np.array(X_random)\n",
    "    return X_random\n",
    "    \n",
    "  def rand_test(self, X, y_test, n_samples=100, percentile=90):\n",
    "    rand_acc_array = []\n",
    "    for sample in range(n_samples):\n",
    "      X_random = torch.from_numpy(self.random_samples(X)).float().to(device)\n",
    "      gru_rand_acc, _ = self.eval(X_random, y_test)\n",
    "      rand_acc_array.append(gru_rand_acc)\n",
    "    plot = np.percentile(np.sort(np.array(rand_acc_array), axis=0), percentile, axis=0)\n",
    "    return plot\n"
   ]
  },
  {
   "cell_type": "code",
   "execution_count": 4,
   "metadata": {},
   "outputs": [
    {
     "name": "stderr",
     "output_type": "stream",
     "text": [
      "c:\\Users\\Anna\\Documents\\GitHub\\srp-lab-notebook\\hcp_data\\lstm_data_prep.py:58: VisibleDeprecationWarning: Creating an ndarray from ragged nested sequences (which is a list-or-tuple of lists-or-tuples-or ndarrays with different lengths or shapes) is deprecated. If you meant to do this, you must specify 'dtype=object' when creating the ndarray.\n",
      "  X_padded = paddingArr(np.array(X_arr), pad=pad)\n"
     ]
    }
   ],
   "source": [
    "with open('HCP_movie_watching.pkl','rb') as f:\n",
    "    TS = pickle.load(f)\n",
    "\n",
    "X_train, y_train, X_t, y_t = numpy_prep(TS, pad = 0.)\n",
    "batch_size = 32\n",
    "\n",
    "train_data = TensorDataset(torch.from_numpy(X_train).float(), torch.from_numpy(y_train).float())\n",
    "train_loader = DataLoader(train_data, shuffle=True, batch_size=batch_size)\n",
    "\n",
    "X_test = torch.from_numpy(X_t).float().to(device)\n",
    "y_test = torch.from_numpy(y_t).float().to(device)"
   ]
  },
  {
   "cell_type": "code",
   "execution_count": 11,
   "metadata": {},
   "outputs": [
    {
     "name": "stdout",
     "output_type": "stream",
     "text": [
      "32604\n"
     ]
    }
   ],
   "source": [
    "EPOCHS = 15\n",
    "n_input = 300\n",
    "n_hidden = 71\n",
    "n_output = 15\n",
    "learning_rate = 2e-3\n",
    "seq_len = 90\n",
    "\n",
    "ff_attention = FF(n_input, n_hidden, n_output).to(device)\n",
    "loss_fn = nn.CrossEntropyLoss()\n",
    "\n",
    "optimizer = optim.Adam(ff_attention.parameters(), lr=learning_rate)\n",
    "\n",
    "model = FFModel(ff_attention, loss_fn, optimizer, seq_len)"
   ]
  },
  {
   "cell_type": "code",
   "execution_count": 6,
   "metadata": {},
   "outputs": [
    {
     "name": "stdout",
     "output_type": "stream",
     "text": [
      "Epoch 1/15\n",
      "Time: 16 minutes 14 seconds\n",
      "Training loss: 6.71056604385376\n",
      "\n",
      "Epoch 2/15\n",
      "Time: 19 minutes 39 seconds\n",
      "Training loss: 12.01547622680664\n",
      "\n",
      "Epoch 3/15\n",
      "Time: 24 minutes 50 seconds\n",
      "Training loss: 4.723359107971191\n",
      "\n",
      "Epoch 4/15\n",
      "Time: 21 minutes 35 seconds\n",
      "Training loss: 0.915844738483429\n",
      "\n",
      "Epoch 5/15\n",
      "Time: 31 minutes 15 seconds\n",
      "Training loss: 2.0823943614959717\n",
      "\n",
      "Epoch 6/15\n",
      "Time: 24 minutes 7 seconds\n",
      "Training loss: 2.3220090866088867\n",
      "\n",
      "Epoch 7/15\n",
      "Time: 18 minutes 50 seconds\n",
      "Training loss: 0.00828540325164795\n",
      "\n",
      "Epoch 8/15\n",
      "Time: 18 minutes 47 seconds\n",
      "Training loss: 2.5280344486236572\n",
      "\n",
      "Epoch 9/15\n",
      "Time: 18 minutes 10 seconds\n",
      "Training loss: 8.36748218536377\n",
      "\n",
      "Epoch 10/15\n",
      "Time: 24 minutes 27 seconds\n",
      "Training loss: 7.859212200855836e-05\n",
      "\n",
      "Epoch 11/15\n",
      "Time: 18 minutes 26 seconds\n",
      "Training loss: 1.4768700395961787e-07\n",
      "\n",
      "Epoch 12/15\n",
      "Time: 28 minutes 53 seconds\n",
      "Training loss: 2.372572680542362e-06\n",
      "\n"
     ]
    },
    {
     "ename": "KeyboardInterrupt",
     "evalue": "",
     "output_type": "error",
     "traceback": [
      "\u001b[1;31m---------------------------------------------------------------------------\u001b[0m",
      "\u001b[1;31mKeyboardInterrupt\u001b[0m                         Traceback (most recent call last)",
      "\u001b[1;32mc:\\Users\\Anna\\Documents\\GitHub\\srp-lab-notebook\\hcp_data\\ff_attention.ipynb Cell 7\u001b[0m in \u001b[0;36m<cell line: 1>\u001b[1;34m()\u001b[0m\n\u001b[1;32m----> <a href='vscode-notebook-cell:/c%3A/Users/Anna/Documents/GitHub/srp-lab-notebook/hcp_data/ff_attention.ipynb#W6sZmlsZQ%3D%3D?line=0'>1</a>\u001b[0m train_loss \u001b[39m=\u001b[39m model\u001b[39m.\u001b[39;49mtrain(train_loader, n_epochs\u001b[39m=\u001b[39;49mEPOCHS)\n",
      "\u001b[1;32mc:\\Users\\Anna\\Documents\\GitHub\\srp-lab-notebook\\hcp_data\\ff_attention.ipynb Cell 7\u001b[0m in \u001b[0;36mFFModel.train\u001b[1;34m(self, train_loader, n_epochs)\u001b[0m\n\u001b[0;32m     <a href='vscode-notebook-cell:/c%3A/Users/Anna/Documents/GitHub/srp-lab-notebook/hcp_data/ff_attention.ipynb#W6sZmlsZQ%3D%3D?line=28'>29</a>\u001b[0m target \u001b[39m=\u001b[39m y\u001b[39m.\u001b[39mpermute(\u001b[39m0\u001b[39m, \u001b[39m2\u001b[39m, \u001b[39m1\u001b[39m)\n\u001b[0;32m     <a href='vscode-notebook-cell:/c%3A/Users/Anna/Documents/GitHub/srp-lab-notebook/hcp_data/ff_attention.ipynb#W6sZmlsZQ%3D%3D?line=30'>31</a>\u001b[0m loss \u001b[39m+\u001b[39m\u001b[39m=\u001b[39m \u001b[39mself\u001b[39m\u001b[39m.\u001b[39mloss_fn(out, target)\n\u001b[1;32m---> <a href='vscode-notebook-cell:/c%3A/Users/Anna/Documents/GitHub/srp-lab-notebook/hcp_data/ff_attention.ipynb#W6sZmlsZQ%3D%3D?line=32'>33</a>\u001b[0m loss\u001b[39m.\u001b[39;49mbackward()\n\u001b[0;32m     <a href='vscode-notebook-cell:/c%3A/Users/Anna/Documents/GitHub/srp-lab-notebook/hcp_data/ff_attention.ipynb#W6sZmlsZQ%3D%3D?line=33'>34</a>\u001b[0m \u001b[39mself\u001b[39m\u001b[39m.\u001b[39moptim\u001b[39m.\u001b[39mstep()\n\u001b[0;32m     <a href='vscode-notebook-cell:/c%3A/Users/Anna/Documents/GitHub/srp-lab-notebook/hcp_data/ff_attention.ipynb#W6sZmlsZQ%3D%3D?line=34'>35</a>\u001b[0m avg_loss \u001b[39m+\u001b[39m\u001b[39m=\u001b[39m loss\u001b[39m.\u001b[39mitem()\n",
      "File \u001b[1;32mc:\\Users\\Anna\\AppData\\Local\\Programs\\Python\\Python39\\lib\\site-packages\\torch\\_tensor.py:396\u001b[0m, in \u001b[0;36mTensor.backward\u001b[1;34m(self, gradient, retain_graph, create_graph, inputs)\u001b[0m\n\u001b[0;32m    387\u001b[0m \u001b[39mif\u001b[39;00m has_torch_function_unary(\u001b[39mself\u001b[39m):\n\u001b[0;32m    388\u001b[0m     \u001b[39mreturn\u001b[39;00m handle_torch_function(\n\u001b[0;32m    389\u001b[0m         Tensor\u001b[39m.\u001b[39mbackward,\n\u001b[0;32m    390\u001b[0m         (\u001b[39mself\u001b[39m,),\n\u001b[1;32m   (...)\u001b[0m\n\u001b[0;32m    394\u001b[0m         create_graph\u001b[39m=\u001b[39mcreate_graph,\n\u001b[0;32m    395\u001b[0m         inputs\u001b[39m=\u001b[39minputs)\n\u001b[1;32m--> 396\u001b[0m torch\u001b[39m.\u001b[39;49mautograd\u001b[39m.\u001b[39;49mbackward(\u001b[39mself\u001b[39;49m, gradient, retain_graph, create_graph, inputs\u001b[39m=\u001b[39;49minputs)\n",
      "File \u001b[1;32mc:\\Users\\Anna\\AppData\\Local\\Programs\\Python\\Python39\\lib\\site-packages\\torch\\autograd\\__init__.py:173\u001b[0m, in \u001b[0;36mbackward\u001b[1;34m(tensors, grad_tensors, retain_graph, create_graph, grad_variables, inputs)\u001b[0m\n\u001b[0;32m    168\u001b[0m     retain_graph \u001b[39m=\u001b[39m create_graph\n\u001b[0;32m    170\u001b[0m \u001b[39m# The reason we repeat same the comment below is that\u001b[39;00m\n\u001b[0;32m    171\u001b[0m \u001b[39m# some Python versions print out the first line of a multi-line function\u001b[39;00m\n\u001b[0;32m    172\u001b[0m \u001b[39m# calls in the traceback and some print out the last line\u001b[39;00m\n\u001b[1;32m--> 173\u001b[0m Variable\u001b[39m.\u001b[39;49m_execution_engine\u001b[39m.\u001b[39;49mrun_backward(  \u001b[39m# Calls into the C++ engine to run the backward pass\u001b[39;49;00m\n\u001b[0;32m    174\u001b[0m     tensors, grad_tensors_, retain_graph, create_graph, inputs,\n\u001b[0;32m    175\u001b[0m     allow_unreachable\u001b[39m=\u001b[39;49m\u001b[39mTrue\u001b[39;49;00m, accumulate_grad\u001b[39m=\u001b[39;49m\u001b[39mTrue\u001b[39;49;00m)\n",
      "\u001b[1;31mKeyboardInterrupt\u001b[0m: "
     ]
    }
   ],
   "source": [
    "train_loss = model.train(train_loader, n_epochs=EPOCHS)"
   ]
  },
  {
   "cell_type": "code",
   "execution_count": null,
   "metadata": {},
   "outputs": [
    {
     "data": {
      "image/png": "[encoded data removed]",
      "text/plain": [
       "<Figure size 432x288 with 1 Axes>"
      ]
     },
     "metadata": {
      "needs_background": "light"
     },
     "output_type": "display_data"
    }
   ],
   "source": [
    "xAx = [i for i in range(1, EPOCHS+1)]\n",
    "plt.plot(xAx, train_loss)\n",
    "plt.xlabel(\"Epoch\")\n",
    "plt.ylabel(\"Cross Entropy Loss\")\n",
    "plt.xlim(0, EPOCHS)\n",
    "plt.xticks([j for j in range(EPOCHS)])\n",
    "plt.title(\"Training Loss\")\n",
    "plt.show()"
   ]
  },
  {
   "cell_type": "code",
   "execution_count": 7,
   "metadata": {},
   "outputs": [
    {
     "name": "stdout",
     "output_type": "stream",
     "text": [
      "Stored 'ff_attention_acc' (ndarray)\n"
     ]
    }
   ],
   "source": [
    "ff_attention_acc, loss = model.eval(X_test, y_test)\n",
    "%store ff_attention_acc"
   ]
  },
  {
   "cell_type": "code",
   "execution_count": 12,
   "metadata": {},
   "outputs": [
    {
     "name": "stdout",
     "output_type": "stream",
     "text": [
      "Stored 'ff_rand_acc' (ndarray)\n"
     ]
    }
   ],
   "source": [
    "ff_rand_acc = model.rand_test(X_test, y_test)\n",
    "%store ff_rand_acc"
   ]
  },
  {
   "cell_type": "code",
   "execution_count": 13,
   "metadata": {},
   "outputs": [
    {
     "data": {
      "image/png": "[encoded data removed]",
      "text/plain": [
       "<Figure size 432x288 with 1 Axes>"
      ]
     },
     "metadata": {
      "needs_background": "light"
     },
     "output_type": "display_data"
    }
   ],
   "source": [
    "xAx = [i for i in range(0,90)]\n",
    "plt.plot(xAx, ff_attention_acc, label=\"ff-attention\")\n",
    "#plt.plot(xAx, ff_rand_acc, label=\"ff-att-random\")\n",
    "plt.xlabel(\"Time (s)\")\n",
    "plt.ylabel(\"Accuracy\")\n",
    "plt.ylim(0,1)\n",
    "plt.xlim(0,90)\n",
    "plt.title(\"Time-varying Classification Accuracy\")\n",
    "plt.legend()\n",
    "plt.show()"
   ]
  }
 ],
 "metadata": {
  "kernelspec": {
   "display_name": "Python 3.9.13 64-bit",
   "language": "python",
   "name": "python3"
  },
  "language_info": {
   "codemirror_mode": {
    "name": "ipython",
    "version": 3
   },
   "file_extension": ".py",
   "mimetype": "text/x-python",
   "name": "python",
   "nbconvert_exporter": "python",
   "pygments_lexer": "ipython3",
   "version": "3.9.13"
  },
  "orig_nbformat": 4,
  "vscode": {
   "interpreter": {
    "hash": "4f240839814783c86679b97dc90219b8a3d3e14ea65e88be68ce87d6dbf01a50"
   }
  }
 },
 "nbformat": 4,
 "nbformat_minor": 2
}
