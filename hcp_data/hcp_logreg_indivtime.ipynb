{
 "cells": [
  {
   "cell_type": "markdown",
   "metadata": {},
   "source": [
    "## Logistic Regression - ROI Features"
   ]
  },
  {
   "cell_type": "code",
   "execution_count": 1,
   "metadata": {},
   "outputs": [],
   "source": [
    "import numpy as np\n",
    "import pickle\n",
    "import scipy as scp\n",
    "import sklearn\n",
    "from sklearn.linear_model import LogisticRegression\n",
    "\n",
    "with open('HCP_movie_watching.pkl','rb') as f:\n",
    "    TS = pickle.load(f)\n"
   ]
  },
  {
   "cell_type": "code",
   "execution_count": 2,
   "metadata": {},
   "outputs": [
    {
     "name": "stdout",
     "output_type": "stream",
     "text": [
      "Stored 'testIndex' (ndarray)\n"
     ]
    }
   ],
   "source": [
    "index = np.arange(176)\n",
    "np.random.seed(0)\n",
    "np.random.shuffle(index)\n",
    "testIndex = index[:76]\n",
    "\n",
    "%store testIndex"
   ]
  },
  {
   "cell_type": "code",
   "execution_count": 3,
   "metadata": {},
   "outputs": [],
   "source": [
    "def splitData(tList):\n",
    "    X_train = []\n",
    "    X_test = []\n",
    "    y_train = []\n",
    "    y_test = []\n",
    "    for row in tList:\n",
    "        if row[-1] in testIndex:\n",
    "            X_test.append(row[:-3])\n",
    "            y_test.append(row[-3:-1])\n",
    "        else:\n",
    "            X_train.append(row[:-3])\n",
    "            y_train.append(row[-3:-1])\n",
    "\n",
    "    X_train = np.array(X_train).astype(float)\n",
    "    X_train = (X_train - np.mean(X_train)) / np.std(X_train)\n",
    "\n",
    "    X_test = np.array(X_test).astype(float)\n",
    "    X_test = (X_test - np.mean(X_test)) / np.std(X_test)\n",
    "    \n",
    "    y_train = np.array(y_train)\n",
    "    y_test = np.array(y_test)\n",
    "    return X_train, X_test, y_train, y_test\n",
    "    "
   ]
  },
  {
   "cell_type": "code",
   "execution_count": 4,
   "metadata": {},
   "outputs": [],
   "source": [
    "def reshapeData(dict):  \n",
    "    arr = []\n",
    "    for k in range(90):\n",
    "        for key, val in dict.items():\n",
    "            if val.shape[-2] > k:   # Account for clips with less than 90 time points\n",
    "                if key == 'testretest':\n",
    "                    for i in range(val.shape[0]):\n",
    "                        for j in range(val.shape[-3]):\n",
    "                            subj = []       # Create new row\n",
    "                            for l in range(val.shape[-1]):\n",
    "                                subj.append(val[i][j][k][l])\n",
    "                            subj.append(key)    # Add movie\n",
    "                            subj.append(k)\n",
    "                            subj.append(j)      # Add participant number\n",
    "                            arr.append(subj)     # Add new row to array\n",
    "                else:\n",
    "                    for j in range(val.shape[-3]):\n",
    "                        subj = []\n",
    "                        for l in range(val.shape[-1]):\n",
    "                            subj.append(val[j][k][l])\n",
    "                        subj.append(key)\n",
    "                        subj.append(k)\n",
    "                        subj.append(j)\n",
    "                        arr.append(subj)\n",
    "    return arr"
   ]
  },
  {
   "cell_type": "code",
   "execution_count": 7,
   "metadata": {},
   "outputs": [
    {
     "name": "stdout",
     "output_type": "stream",
     "text": [
      "Stored 'X_test' (ndarray)\n",
      "Stored 'y_test' (ndarray)\n",
      "Stored 'logmodel' (LogisticRegression)\n"
     ]
    }
   ],
   "source": [
    "X_train, X_test, y_train, y_test = splitData(reshapeData(TS))\n",
    "%store X_test\n",
    "%store y_test\n",
    "\n",
    "logmodel = LogisticRegression(max_iter = 1000)\n",
    "logmodel.fit(X_train, y_train[:, 0])\n",
    "\n",
    "%store logmodel"
   ]
  },
  {
   "cell_type": "code",
   "execution_count": 6,
   "metadata": {},
   "outputs": [
    {
     "name": "stdout",
     "output_type": "stream",
     "text": [
      "Stored 'logperformAcc' (list)\n"
     ]
    }
   ],
   "source": [
    "logperformAcc = []\n",
    "startindex = 0\n",
    "endindex = 0\n",
    "for t in range(90):\n",
    "    while endindex < y_test.shape[0] and int(y_test[endindex, 1]) == t:\n",
    "        endindex += 1\n",
    "    acc = logmodel.score(X_test[startindex:endindex,], y_test[startindex:endindex, 0])\n",
    "    logperformAcc.append(acc)\n",
    "    startindex = endindex\n",
    "\n",
    "%store logperformAcc"
   ]
  }
 ],
 "metadata": {
  "kernelspec": {
   "display_name": "Python 3.10.5 64-bit",
   "language": "python",
   "name": "python3"
  },
  "language_info": {
   "codemirror_mode": {
    "name": "ipython",
    "version": 3
   },
   "file_extension": ".py",
   "mimetype": "text/x-python",
   "name": "python",
   "nbconvert_exporter": "python",
   "pygments_lexer": "ipython3",
   "version": "3.10.5"
  },
  "orig_nbformat": 4,
  "vscode": {
   "interpreter": {
    "hash": "5d8d8f94dc29cf6517d9b951f40e6c965bcb2efc4a5d0d869ef8b359fa785960"
   }
  }
 },
 "nbformat": 4,
 "nbformat_minor": 2
}
