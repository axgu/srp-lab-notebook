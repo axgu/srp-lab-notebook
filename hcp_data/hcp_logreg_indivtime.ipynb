{
 "cells": [
  {
   "cell_type": "markdown",
   "metadata": {},
   "source": [
    "## Logistic Regression - ROI Features"
   ]
  },
  {
   "cell_type": "code",
   "execution_count": 27,
   "metadata": {},
   "outputs": [],
   "source": [
    "import numpy as np\n",
    "import pickle\n",
    "import scipy as scp\n",
    "import sklearn\n",
    "from sklearn.model_selection import train_test_split\n",
    "from sklearn.linear_model import LogisticRegression\n",
    "from matplotlib import pyplot as plt"
   ]
  },
  {
   "cell_type": "code",
   "execution_count": 28,
   "metadata": {},
   "outputs": [],
   "source": [
    "with open('HCP_movie_watching.pkl','rb') as f:\n",
    "    TS = pickle.load(f)\n",
    "\n",
    "testIndex = np.random.randint(0, 176, 76)"
   ]
  },
  {
   "cell_type": "code",
   "execution_count": 29,
   "metadata": {},
   "outputs": [],
   "source": [
    "def splitData(tList):\n",
    "    X_train = []\n",
    "    X_test = []\n",
    "    y_train = []\n",
    "    y_test = []\n",
    "    for row in tList:\n",
    "        if row[-1] in testIndex:\n",
    "            X_test.append(row[:-2])\n",
    "            y_test.append(row[-2])\n",
    "        else:\n",
    "            X_train.append(row[:-2])\n",
    "            y_train.append(row[-2])\n",
    "\n",
    "    X_train = np.array(X_train).astype(float)\n",
    "    X_train = (X_train - np.mean(X_train)) / np.std(X_train)\n",
    "\n",
    "    X_test = np.array(X_test).astype(float)\n",
    "    X_test = (X_test - np.mean(X_test)) / np.std(X_test)\n",
    "    \n",
    "    y_train = np.array(y_train)\n",
    "    y_test = np.array(y_test)\n",
    "    return X_train, X_test, y_train, y_test\n",
    "    "
   ]
  },
  {
   "cell_type": "code",
   "execution_count": 30,
   "metadata": {},
   "outputs": [
    {
     "data": {
      "text/plain": [
       "'\\ndef cost(X, Y, W):\\n    h = 1 / (1 + np.exp(-np.dot(X, W))) # hypothesis representation\\n    cost = np.dot(Y, -np.log(h)) + np.dot((1-Y), np.log(1-h)) # cost function\\n    J = -1 / (len(X)) * np.sum(cost) # mean cost\\n    return J\\ndef gradient(X, Y, W):\\n    h = 1 / (1 + np.exp(-np.dot(X, W)))\\n    diff = h - Y\\n    grad = 1 / (len(X)) * np.dot(diff, X)\\n    return grad\\ndef descent(X_train, Y_train, lr = 0.01):\\n    weights = [0]*(len(X_train[0]))\\n    loss = []\\n    loss.append(cost(X_train, Y_train, weights))\\n    count = 0\\n    while count < 1000:\\n        grad = gradient(X_train, Y_train, weights)\\n        weights = weights - lr*grad\\n        loss.append(cost(X_train, Y_train, weights))\\n        count += 1\\n\\n    return weights\\n\\ndef createYMask(movie, Y):\\n    yMasked = np.zeros(Y.shape)\\n    mask = Y == movie\\n    yMasked[mask] = 1\\n    return yMasked\\n\\ndef sigmoid(X, W):\\n    return 1 / (1 + np.exp(-np.dot(X, W)))\\n\\ndef runModel(X_train, X_test, y_train, y_test):\\n    movieList = list(TS.keys())\\n    modelWeights = []\\n    for movie in movieList:\\n        yMasked = createYMask(movie, y_train)\\n        W = descent(X_train, yMasked)\\n        modelWeights.append(W)\\n\\n    predY = []\\n    for x in X_test:\\n        probList = [sigmoid(x, W) for W in modelWeights]\\n        predY.append(movieList[probList.index(max(probList))])\\n\\n    pMask = y_test == predY # create mask for values where predicted is correct\\n    acc = sum(pMask) / len(pMask)\\n    return acc\\n'"
      ]
     },
     "execution_count": 30,
     "metadata": {},
     "output_type": "execute_result"
    }
   ],
   "source": [
    "\"\"\"\n",
    "def cost(X, Y, W):\n",
    "    h = 1 / (1 + np.exp(-np.dot(X, W))) # hypothesis representation\n",
    "    cost = np.dot(Y, -np.log(h)) + np.dot((1-Y), np.log(1-h)) # cost function\n",
    "    J = -1 / (len(X)) * np.sum(cost) # mean cost\n",
    "    return J\n",
    "def gradient(X, Y, W):\n",
    "    h = 1 / (1 + np.exp(-np.dot(X, W)))\n",
    "    diff = h - Y\n",
    "    grad = 1 / (len(X)) * np.dot(diff, X)\n",
    "    return grad\n",
    "def descent(X_train, Y_train, lr = 0.01):\n",
    "    weights = [0]*(len(X_train[0]))\n",
    "    loss = []\n",
    "    loss.append(cost(X_train, Y_train, weights))\n",
    "    count = 0\n",
    "    while count < 1000:\n",
    "        grad = gradient(X_train, Y_train, weights)\n",
    "        weights = weights - lr*grad\n",
    "        loss.append(cost(X_train, Y_train, weights))\n",
    "        count += 1\n",
    "\n",
    "    return weights\n",
    "\n",
    "def createYMask(movie, Y):\n",
    "    yMasked = np.zeros(Y.shape)\n",
    "    mask = Y == movie\n",
    "    yMasked[mask] = 1\n",
    "    return yMasked\n",
    "\n",
    "def sigmoid(X, W):\n",
    "    return 1 / (1 + np.exp(-np.dot(X, W)))\n",
    "\n",
    "def runModel(X_train, X_test, y_train, y_test):\n",
    "    movieList = list(TS.keys())\n",
    "    modelWeights = []\n",
    "    for movie in movieList:\n",
    "        yMasked = createYMask(movie, y_train)\n",
    "        W = descent(X_train, yMasked)\n",
    "        modelWeights.append(W)\n",
    "\n",
    "    predY = []\n",
    "    for x in X_test:\n",
    "        probList = [sigmoid(x, W) for W in modelWeights]\n",
    "        predY.append(movieList[probList.index(max(probList))])\n",
    "\n",
    "    pMask = y_test == predY # create mask for values where predicted is correct\n",
    "    acc = sum(pMask) / len(pMask)\n",
    "    return acc\n",
    "\"\"\""
   ]
  },
  {
   "cell_type": "code",
   "execution_count": 31,
   "metadata": {},
   "outputs": [],
   "source": [
    "performAcc = []\n",
    "\n",
    "# Run log reg for first 90 time points\n",
    "for k in range(90):\n",
    "\n",
    "    # 2d arrays\n",
    "    # Row: (subject, clip) combination\n",
    "    # Column: ROIs at time point, movie clip, participant number\n",
    "    #   - ROIs: features for model\n",
    "    #   - movie clip: label\n",
    "    #   - participant number: to split into test/train sets\n",
    "    timepoints = []     \n",
    "    for key, val in TS.items():\n",
    "        if val.shape[-2] > k:\n",
    "            if key == 'testretest':\n",
    "                for i in range(val.shape[0]):\n",
    "                    for j in range(val.shape[-3]):\n",
    "                        subj = []\n",
    "                        for l in range(val.shape[-1]):\n",
    "                            subj.append(val[i][j][k][l])\n",
    "                        subj.append(key)    # Add movie\n",
    "                        subj.append(j)      # Add participant number\n",
    "                        timepoints.append(subj)     # Add new row to array\n",
    "            else:\n",
    "                for j in range(val.shape[-3]):\n",
    "                    subj = []\n",
    "                    for l in range(val.shape[-1]):\n",
    "                        subj.append(val[j][k][l])\n",
    "                    subj.append(key)\n",
    "                    subj.append(j)\n",
    "                    timepoints.append(subj)\n",
    "        \n",
    "    X_train, X_test, y_train, y_test = splitData(timepoints)\n",
    "\n",
    "    model = LogisticRegression(multi_class='ovr', max_iter = 1000)\n",
    "    model.fit(X_train, y_train)\n",
    "\n",
    "    acc = model.score(X_test, y_test)\n",
    "    #acc = runModel(X_train, X_test, y_train, y_test)\n",
    "    performAcc.append(acc)\n"
   ]
  },
  {
   "cell_type": "code",
   "execution_count": 32,
   "metadata": {},
   "outputs": [
    {
     "data": {
      "image/png": "[encoded data removed]",
      "text/plain": [
       "<Figure size 432x288 with 1 Axes>"
      ]
     },
     "metadata": {
      "needs_background": "light"
     },
     "output_type": "display_data"
    }
   ],
   "source": [
    "xAx = [i for i in range(0,90)]\n",
    "plt.plot(xAx, performAcc, label=\"ovr log-reg\")\n",
    "plt.xlabel(\"Time (s)\")\n",
    "plt.ylabel(\"Accuracy\")\n",
    "plt.ylim(0,1)\n",
    "plt.xlim(0,90)\n",
    "plt.title(\"Time-varying Classification Accuracy\")\n",
    "plt.legend()\n",
    "plt.show()"
   ]
  }
 ],
 "metadata": {
  "kernelspec": {
   "display_name": "Python 3.10.5 64-bit",
   "language": "python",
   "name": "python3"
  },
  "language_info": {
   "codemirror_mode": {
    "name": "ipython",
    "version": 3
   },
   "file_extension": ".py",
   "mimetype": "text/x-python",
   "name": "python",
   "nbconvert_exporter": "python",
   "pygments_lexer": "ipython3",
   "version": "3.10.5"
  },
  "orig_nbformat": 4,
  "vscode": {
   "interpreter": {
    "hash": "5d8d8f94dc29cf6517d9b951f40e6c965bcb2efc4a5d0d869ef8b359fa785960"
   }
  }
 },
 "nbformat": 4,
 "nbformat_minor": 2
}
