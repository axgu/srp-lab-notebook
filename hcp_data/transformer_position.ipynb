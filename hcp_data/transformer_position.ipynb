{
 "cells": [
  {
   "cell_type": "markdown",
   "metadata": {},
   "source": [
    "# Position Encoding"
   ]
  },
  {
   "cell_type": "code",
   "execution_count": 1,
   "metadata": {},
   "outputs": [],
   "source": [
    "import numpy as np\n",
    "import pickle\n",
    "import time\n",
    "from matplotlib import pyplot as plt\n",
    "import gc\n",
    "import torch\n",
    "from torch import nn\n",
    "import torch.nn.functional as F\n",
    "import torch.optim as optim\n",
    "from torch.utils.data import TensorDataset, DataLoader\n",
    "\n",
    "from lstm_data_prep import numpy_prep\n",
    "from eval_model import epoch_time, find_lens, accuracy\n",
    "\n",
    "device = \"cuda\" if torch.cuda.is_available() else \"cpu\""
   ]
  },
  {
   "cell_type": "code",
   "execution_count": 12,
   "metadata": {},
   "outputs": [],
   "source": [
    "class Transformer(nn.Module):\n",
    "    def __init__(self, n_input, n_output, seq_len, n_head, dim_ff, num_layers, position_encoding):\n",
    "        super().__init__()\n",
    "\n",
    "        self.n_input = n_input\n",
    "        self.n_output = n_output\n",
    "        self.n_head = n_head\n",
    "        self.dim_ff = dim_ff\n",
    "        self.num_layers = num_layers\n",
    "        self.position_encoding = position_encoding\n",
    "        self.seq_len = seq_len\n",
    "\n",
    "        self.transformerlayer = nn.TransformerEncoderLayer(n_input, n_head, dim_feedforward=dim_ff, batch_first=True)\n",
    "        self.transformer_encoder = nn.TransformerEncoder(self.transformerlayer, num_layers)\n",
    "        self.fc = nn.Linear(n_input, n_output)\n",
    "\n",
    "    def position_encode(self):\n",
    "        pe = torch.zeros(self.seq_len, self.n_input).to(device)\n",
    "        pos = torch.arange(0, self.seq_len, dtype=torch.float).unsqueeze(1)\n",
    "        div_term = torch.exp(torch.arange(0, self.n_input, 2).float() * (-np.log(10000.0) / self.n_input))\n",
    "\n",
    "        pe[:, 0::2] = torch.sin(pos * div_term)\n",
    "        pe[:, 1::2] = torch.cos(pos * div_term)\n",
    "        pe = pe.unsqueeze(0)\n",
    "        return pe\n",
    "    \n",
    "    def forward(self, X):\n",
    "        x = X.to(device)\n",
    "        if self.position_encoding:\n",
    "            pe = self.position_encode()\n",
    "            pe = pe.expand(X.size(0), -1, -1)\n",
    "            x = X + pe\n",
    "        y = self.transformer_encoder(x)\n",
    "        y = self.fc(y)\n",
    "        return y\n",
    "    "
   ]
  },
  {
   "cell_type": "code",
   "execution_count": 14,
   "metadata": {},
   "outputs": [],
   "source": [
    "class TransformerModel:\n",
    "    def __init__(self, model, loss_fn, optimizer, seq_len, model_name):\n",
    "        self.model = model\n",
    "        self.loss_fn = loss_fn\n",
    "        self.optimizer = optimizer\n",
    "        self.seq_len = seq_len\n",
    "        self.model_name = model_name\n",
    "\n",
    "    def train(self, train_loader, n_epochs, learning):\n",
    "        train_loss = []\n",
    "        best_loss = 1e10\n",
    "\n",
    "        self.model.train()\n",
    "        \n",
    "        for i in range(n_epochs):\n",
    "            start = time.time()\n",
    "            avg_loss = 0.\n",
    "            for X, y in train_loader:\n",
    "                loss = 0.\n",
    "                curr_batch_size = X.shape[0]\n",
    "\n",
    "                X, y = X.to(device), y.to(device)\n",
    "                self.optimizer.zero_grad()\n",
    "\n",
    "                output = self.model(X)\n",
    "\n",
    "                out = output.permute(0, 2, 1)\n",
    "                target = y.permute(0, 2, 1)\n",
    "\n",
    "                loss += self.loss_fn(out, target)\n",
    "                \n",
    "                loss.backward()\n",
    "                self.optimizer.step()\n",
    "                avg_loss += loss.item()\n",
    "\n",
    "            end = time.time()\n",
    "            epoch_mins, epoch_secs = epoch_time(start, end)\n",
    "            if best_loss > avg_loss:\n",
    "                best_loss = avg_loss\n",
    "                torch.save({self.model_name: self.model.state_dict(), self.model_name+\"_optimizer\": self.optimizer.state_dict()}, self.model_name+'-model.pt')\n",
    "\n",
    "            train_loss.append(avg_loss)\n",
    "            \n",
    "        return train_loss\n",
    "    \n",
    "    def eval(self, test_loader):\n",
    "        check = torch.load(self.model_name+\"-model.pt\")\n",
    "        self.model.load_state_dict(check[self.model_name])\n",
    "\n",
    "        gc.collect()\n",
    "        torch.cuda.empty_cache()\n",
    "\n",
    "        with torch.no_grad():\n",
    "            correct = np.zeros(self.seq_len)\n",
    "            total = np.zeros(self.seq_len)\n",
    "            self.model.eval()\n",
    "\n",
    "            for x, y in test_loader:\n",
    "                loss = 0.\n",
    "                curr_batch_size = x.shape[0]\n",
    "                X, Y = x.to(device), y.to(device)\n",
    "\n",
    "                out = self.model(X)\n",
    "\n",
    "                top_value, top_index = out.topk(1)\n",
    "\n",
    "                final = torch.zeros(y.shape).to(device)\n",
    "                for clip in range(y.shape[0]):\n",
    "                    for step in range(y.shape[1]):\n",
    "                        final[clip][step][top_index[clip][step]] = 1\n",
    "                \n",
    "                correct, total = accuracy(y.cpu().numpy(), final.cpu().numpy(), correct, total)\n",
    "        \n",
    "        eval_accuracy = correct / total\n",
    "        return eval_accuracy, loss\n",
    "    \n",
    "    def random_samples(self, X, pad=0.):\n",
    "        X_random = []\n",
    "        X_lens = find_lens(X)\n",
    "        for i in range(X.shape[0]):\n",
    "            X_batch = np.random.normal(size=(X_lens[i], X.shape[-1]))\n",
    "            if X_lens[i] < self.seq_len:\n",
    "                X_pad = np.array([[pad]*X.shape[-1]]*(self.seq_len - X_lens[i]))\n",
    "                X_batch = np.append(X_batch, X_pad, axis=0)\n",
    "            X_random.append(X_batch)\n",
    "        X_random = np.array(X_random)\n",
    "        return X_random\n",
    "    \n",
    "    def rand_test(self, test_loader, n_samples=20, percentile=90):\n",
    "        rand_acc_array = []\n",
    "        for sample in range(n_samples):\n",
    "            correct = np.zeros(self.seq_len)\n",
    "            total = np.zeros(self.seq_len)\n",
    "            \n",
    "            self.model.eval()\n",
    "\n",
    "            for x, y in test_loader:\n",
    "                loss = 0.\n",
    "                curr_batch_size = x.shape[0]\n",
    "                X_random = torch.from_numpy(self.random_samples(x)).float().to(device)\n",
    "                Y = y.to(device)\n",
    "\n",
    "                out = self.model(X_random)\n",
    "\n",
    "                top_value, top_index = out.topk(1)\n",
    "                final = torch.zeros(y.shape).to(device)\n",
    "                for clip in range(y.shape[0]):\n",
    "                    for step in range(y.shape[1]):\n",
    "                        final[clip][step][top_index[clip][step]] = 1\n",
    "                \n",
    "                correct, total = accuracy(y.cpu().numpy(), final.cpu().numpy(), correct, total)\n",
    "            gru_rand_acc = correct / total\n",
    "            rand_acc_array.append(gru_rand_acc)\n",
    "        plot = np.percentile(np.sort(np.array(rand_acc_array), axis=0), percentile, axis=0)\n",
    "        return plot"
   ]
  },
  {
   "cell_type": "code",
   "execution_count": 4,
   "metadata": {},
   "outputs": [
    {
     "name": "stderr",
     "output_type": "stream",
     "text": [
      "c:\\Users\\Anna\\Documents\\GitHub\\srp-lab-notebook\\hcp_data\\lstm_data_prep.py:58: VisibleDeprecationWarning: Creating an ndarray from ragged nested sequences (which is a list-or-tuple of lists-or-tuples-or ndarrays with different lengths or shapes) is deprecated. If you meant to do this, you must specify 'dtype=object' when creating the ndarray.\n",
      "  X_padded = paddingArr(np.array(X_arr), pad=pad)\n"
     ]
    }
   ],
   "source": [
    "with open('HCP_movie_watching.pkl','rb') as f:\n",
    "    TS = pickle.load(f)\n",
    "\n",
    "X_train, y_train, X_t, y_t = numpy_prep(TS, pad = 0.)\n",
    "\n",
    "batch_size = 32\n",
    "\n",
    "train_data = TensorDataset(torch.from_numpy(X_train).float(), torch.from_numpy(y_train).float())\n",
    "train_loader = DataLoader(train_data, shuffle=True, batch_size=batch_size)\n",
    "test_data = TensorDataset(torch.from_numpy(X_t).float(), torch.from_numpy(y_t).float())\n",
    "test_loader = DataLoader(test_data, shuffle=True, batch_size=batch_size)"
   ]
  },
  {
   "cell_type": "code",
   "execution_count": 19,
   "metadata": {},
   "outputs": [],
   "source": [
    "n_input = 300\n",
    "dim_ff = 64\n",
    "n_out = 15\n",
    "seq_len = 90\n",
    "learning_rate = 1e-3\n",
    "EPOCHS = 20\n",
    "position_encoding = True\n",
    "num_head=1\n",
    "num_layers=1\n",
    "\n",
    "transformer_pos = Transformer(n_input, n_out, seq_len, num_head, dim_ff, num_layers, True).to(device)\n",
    "loss_fn_pos = nn.CrossEntropyLoss()\n",
    "optimizer_pos = optim.Adam(transformer_pos.parameters(), lr=learning_rate)\n",
    "\n",
    "model_pos = TransformerModel(transformer_pos, loss_fn_pos, optimizer_pos, seq_len, \"transformer_pos\")"
   ]
  },
  {
   "cell_type": "code",
   "execution_count": 16,
   "metadata": {},
   "outputs": [
    {
     "data": {
      "text/plain": [
       "Text(0.5, 1.0, 'Training Loss')"
      ]
     },
     "execution_count": 16,
     "metadata": {},
     "output_type": "execute_result"
    },
    {
     "data": {
      "image/png": "[encoded data removed]",
      "text/plain": [
       "<Figure size 432x288 with 1 Axes>"
      ]
     },
     "metadata": {
      "needs_background": "light"
     },
     "output_type": "display_data"
    }
   ],
   "source": [
    "train_loss_pos = model_pos.train(train_loader, n_epochs=EPOCHS, learning=learning_rate)\n",
    "\n",
    "xAx = [i for i in range(1, EPOCHS+1)]\n",
    "plt.plot(xAx, train_loss_pos)\n",
    "plt.xlabel(\"Epoch\")\n",
    "plt.ylabel(\"Cross Entropy Loss\")\n",
    "plt.xlim(0, EPOCHS)\n",
    "plt.xticks([j for j in range(EPOCHS)])\n",
    "plt.title(\"Training Loss\")"
   ]
  },
  {
   "cell_type": "code",
   "execution_count": 20,
   "metadata": {},
   "outputs": [
    {
     "name": "stdout",
     "output_type": "stream",
     "text": [
      "Stored 'transformer_pos_acc' (ndarray)\n"
     ]
    }
   ],
   "source": [
    "transformer_pos_acc, loss = model_pos.eval(test_loader)\n",
    "%store transformer_pos_acc"
   ]
  },
  {
   "cell_type": "code",
   "execution_count": null,
   "metadata": {},
   "outputs": [],
   "source": [
    "#transformer_pos_rand_acc = model_pos.rand_test(test_loader)"
   ]
  },
  {
   "cell_type": "code",
   "execution_count": 21,
   "metadata": {},
   "outputs": [
    {
     "data": {
      "image/png": "[encoded data removed]",
      "text/plain": [
       "<Figure size 432x288 with 1 Axes>"
      ]
     },
     "metadata": {
      "needs_background": "light"
     },
     "output_type": "display_data"
    }
   ],
   "source": [
    "learning_rate = 1e-3\n",
    "EPOCHS = 20\n",
    "num_head = 4\n",
    "num_layers=1\n",
    "\n",
    "transformer_multipos = Transformer(n_input, n_out, seq_len, num_head, dim_ff, num_layers, True).to(device)\n",
    "loss_fn_multipos = nn.CrossEntropyLoss()\n",
    "optimizer_multipos = optim.Adam(transformer_multipos.parameters(), lr=learning_rate)\n",
    "\n",
    "model_multipos = TransformerModel(transformer_multipos, loss_fn_multipos, optimizer_multipos, seq_len, \"transformer_multipos\")\n",
    "\n",
    "train_loss_multipos = model_multipos.train(train_loader, n_epochs=EPOCHS, learning=learning_rate)\n",
    "\n",
    "xAx = [i for i in range(1, EPOCHS+1)]\n",
    "plt.plot(xAx, train_loss_multipos)\n",
    "plt.xlabel(\"Epoch\")\n",
    "plt.ylabel(\"Cross Entropy Loss\")\n",
    "plt.xlim(0, EPOCHS)\n",
    "plt.xticks([j*5 + 1 for j in range(EPOCHS // 5)])\n",
    "plt.title(\"Training Loss\")\n",
    "plt.show()"
   ]
  },
  {
   "cell_type": "code",
   "execution_count": 22,
   "metadata": {},
   "outputs": [
    {
     "name": "stdout",
     "output_type": "stream",
     "text": [
      "Stored 'transformer_multipos_acc' (ndarray)\n"
     ]
    }
   ],
   "source": [
    "transformer_multipos_acc, loss = model_multipos.eval(test_loader)\n",
    "%store transformer_multipos_acc"
   ]
  },
  {
   "cell_type": "code",
   "execution_count": null,
   "metadata": {},
   "outputs": [],
   "source": [
    "#transformer_multipos_rand_acc = model_multipos.rand_test(test_loader)"
   ]
  },
  {
   "cell_type": "code",
   "execution_count": 23,
   "metadata": {},
   "outputs": [
    {
     "data": {
      "image/png": "[encoded data removed]",
      "text/plain": [
       "<Figure size 432x288 with 1 Axes>"
      ]
     },
     "metadata": {
      "needs_background": "light"
     },
     "output_type": "display_data"
    }
   ],
   "source": [
    "xAx = [i for i in range(0,90)]\n",
    "plt.plot(xAx, transformer_pos_acc, label=\"transformer-pos\")\n",
    "#plt.plot(xAx, transformer_pos_rand_acc, label=\"random-pos\")\n",
    "plt.xlabel(\"Time (s)\")\n",
    "plt.ylabel(\"Accuracy\")\n",
    "plt.ylim(0,1)\n",
    "plt.xlim(0,90)\n",
    "plt.title(\"Time-varying Classification Accuracy\")\n",
    "plt.legend()\n",
    "plt.show()"
   ]
  },
  {
   "cell_type": "code",
   "execution_count": 24,
   "metadata": {},
   "outputs": [
    {
     "data": {
      "image/png": "[encoded data removed]",
      "text/plain": [
       "<Figure size 432x288 with 1 Axes>"
      ]
     },
     "metadata": {
      "needs_background": "light"
     },
     "output_type": "display_data"
    }
   ],
   "source": [
    "xAx = [i for i in range(0,90)]\n",
    "plt.plot(xAx, transformer_multipos_acc, label=\"transformer-multi-pos\")\n",
    "#plt.plot(xAx, transformer_multipos_rand_acc, label=\"random-multi-pos\")\n",
    "plt.xlabel(\"Time (s)\")\n",
    "plt.ylabel(\"Accuracy\")\n",
    "plt.ylim(0,1)\n",
    "plt.xlim(0,90)\n",
    "plt.title(\"Time-varying Classification Accuracy\")\n",
    "plt.legend()\n",
    "plt.show()"
   ]
  }
 ],
 "metadata": {
  "kernelspec": {
   "display_name": "Python 3.9.13 64-bit",
   "language": "python",
   "name": "python3"
  },
  "language_info": {
   "codemirror_mode": {
    "name": "ipython",
    "version": 3
   },
   "file_extension": ".py",
   "mimetype": "text/x-python",
   "name": "python",
   "nbconvert_exporter": "python",
   "pygments_lexer": "ipython3",
   "version": "3.9.13"
  },
  "orig_nbformat": 4,
  "vscode": {
   "interpreter": {
    "hash": "4f240839814783c86679b97dc90219b8a3d3e14ea65e88be68ce87d6dbf01a50"
   }
  }
 },
 "nbformat": 4,
 "nbformat_minor": 2
}
