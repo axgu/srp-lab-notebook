{
 "cells": [
  {
   "cell_type": "markdown",
   "metadata": {},
   "source": [
    "# Logistic Regression"
   ]
  },
  {
   "cell_type": "code",
   "execution_count": 2,
   "metadata": {},
   "outputs": [],
   "source": [
    "import pickle\n",
    "import time\n",
    "import numpy as np\n",
    "import torch\n",
    "from torch import nn\n",
    "import torch.nn.functional as F\n",
    "import torch.optim as optim\n",
    "from torch.utils.data import TensorDataset, DataLoader\n",
    "from matplotlib import pyplot as plt\n",
    "import math\n",
    "\n",
    "from lstm_data_prep import numpy_prep\n",
    "from eval_model import accuracy, find_lens, epoch_time\n",
    "device = \"cuda\" if torch.cuda.is_available() else \"cpu\""
   ]
  },
  {
   "cell_type": "code",
   "execution_count": 3,
   "metadata": {},
   "outputs": [],
   "source": [
    "class LogReg(nn.Module):\n",
    "    def __init__(self, n_inputs, n_outputs):\n",
    "        super().__init__()\n",
    "        self.n_inputs = n_inputs\n",
    "        self.n_outputs = n_outputs\n",
    "        \n",
    "        self.layer = nn.Linear(n_inputs, n_outputs)\n",
    "    \n",
    "    def forward(self, x):\n",
    "        y = self.layer(x)\n",
    "        return y"
   ]
  },
  {
   "cell_type": "code",
   "execution_count": 4,
   "metadata": {},
   "outputs": [],
   "source": [
    "class Model:\n",
    "    def __init__(self, model, loss_fn, optimizer, seq_len):\n",
    "        self.model = model\n",
    "        self.loss_fn = loss_fn\n",
    "        self.optim = optimizer\n",
    "        self.seq_len = seq_len\n",
    "        \n",
    "        total_params = sum(p.numel() for p in self.model.parameters())\n",
    "        print(total_params)\n",
    "    \n",
    "    def train(self, train_loader, n_epochs):\n",
    "        train_loss = []\n",
    "        best_loss = 1e10\n",
    "        self.model.train()\n",
    "        for i in range(n_epochs):\n",
    "            start = time.time()\n",
    "            avg_loss = 0.\n",
    "            for X, y in train_loader:\n",
    "                loss = 0.\n",
    "                curr_batch_size = X.shape[0]\n",
    "                X, y = X.to(device), y.to(device)\n",
    "                self.optim.zero_grad()\n",
    "\n",
    "                X_lens = find_lens(X)\n",
    "\n",
    "                output = self.model(X)\n",
    "\n",
    "                out = output.permute(0, 2, 1)\n",
    "                target = y.permute(0, 2, 1)\n",
    "\n",
    "                loss += self.loss_fn(out, target)\n",
    "                \n",
    "                loss.backward()\n",
    "                self.optim.step()\n",
    "                avg_loss += loss.item()\n",
    "\n",
    "            end = time.time()\n",
    "\n",
    "            epoch_mins, epoch_secs = epoch_time(start, end)\n",
    "            if best_loss > avg_loss:\n",
    "                best_loss = avg_loss\n",
    "                torch.save({\"logreg\": self.model.state_dict(), \"logreg_optimizer\": self.optim.state_dict()}, 'logreg-model.pt')\n",
    "\n",
    "        print(\"Epoch \" + str(i + 1) + \"/\" + str(n_epochs))\n",
    "        print(\"Time: \" + str(epoch_mins) + \" minutes \" + str(epoch_secs) + \" seconds\")\n",
    "        print(\"Training loss: \" + str(loss.item()))\n",
    "        print()\n",
    "\n",
    "        train_loss.append(avg_loss)\n",
    "            \n",
    "        return train_loss\n",
    "    \n",
    "    def eval(self, x, y):\n",
    "        check = torch.load(\"logreg-model.pt\")\n",
    "        self.model.load_state_dict(check[\"logreg\"])\n",
    "        self.optim.load_state_dict(check[\"logreg_optimizer\"])\n",
    "        with torch.no_grad():\n",
    "            correct = np.zeros(self.seq_len)\n",
    "            total = np.zeros(self.seq_len)\n",
    "            self.model.eval()\n",
    "            loss = 0.\n",
    "            curr_batch_size = x.shape[0]\n",
    "            X, Y = x.to(device), y.to(device)\n",
    "            X_lens = find_lens(X)\n",
    "\n",
    "            out = self.model(X)\n",
    "\n",
    "            top_value, top_index = out.topk(1)\n",
    "\n",
    "            final = torch.zeros(y.shape).to(device)\n",
    "            for clip in range(y.shape[0]):\n",
    "                for step in range(y.shape[1]):\n",
    "                    final[clip][step][top_index[clip][step]] = 1\n",
    "            \n",
    "            correct, total = accuracy(y.cpu().numpy(), final.cpu().numpy(), correct, total)\n",
    "            logreg_accuracy = correct / total\n",
    "        \n",
    "        return logreg_accuracy, loss\n",
    "\n",
    "    def findIndex(self, val, arr):\n",
    "        index = -1\n",
    "        for x in range(arr.shape[0]):\n",
    "            if val == arr[x].item():\n",
    "                index = x\n",
    "                break\n",
    "        return index\n",
    "    \n",
    "    def random_samples(self, X, num_seq=90, pad=0.):\n",
    "        X_random = []\n",
    "        X_lens = find_lens(X)\n",
    "        for i in range(X.shape[0]):\n",
    "            X_batch = np.random.rand(size=(X_lens[i], X.shape[-1]))\n",
    "            if X_lens[i] < self.seq_len:\n",
    "                X_pad = np.array([[pad]*X.shape[-1]]*(self.seq_len - X_lens[i]))\n",
    "                X_batch = np.append(X_batch, X_pad, axis=0)\n",
    "            X_random.append(X_batch)\n",
    "            X_random = np.array(X_random)\n",
    "        return X_random\n",
    "        \n",
    "    def rand_test(self, X, y_test, n_samples=20, percentile=90):\n",
    "        rand_acc_array = []\n",
    "        for sample in range(n_samples):\n",
    "            X_random = torch.from_numpy(self.random_samples(X)).float().to(device)\n",
    "            ff_rand_acc = self.eval(X_random, y_test)\n",
    "            rand_acc_array.append(ff_rand_acc)\n",
    "        \n",
    "        plot = np.percentile(np.sort(np.array(rand_acc_array), axis=0), percentile, axis=0)\n",
    "        return plot.squeeze(0)"
   ]
  },
  {
   "cell_type": "code",
   "execution_count": 5,
   "metadata": {},
   "outputs": [
    {
     "name": "stderr",
     "output_type": "stream",
     "text": [
      "c:\\Users\\annax\\Documents\\GitHub\\srp-lab-notebook\\hcp_data\\lstm_data_prep.py:58: VisibleDeprecationWarning: Creating an ndarray from ragged nested sequences (which is a list-or-tuple of lists-or-tuples-or ndarrays with different lengths or shapes) is deprecated. If you meant to do this, you must specify 'dtype=object' when creating the ndarray.\n",
      "  X_padded = paddingArr(np.array(X_arr), pad=pad)\n"
     ]
    }
   ],
   "source": [
    "with open('HCP_movie_watching.pkl','rb') as f:\n",
    "    TS = pickle.load(f)\n",
    "\n",
    "X_train, y_train, X_t, y_t = numpy_prep(TS, pad = 0.)\n",
    "\n",
    "batch_size = 32\n",
    "\n",
    "train_data = TensorDataset(torch.from_numpy(X_train).float(), torch.from_numpy(y_train).float())\n",
    "train_loader = DataLoader(train_data, shuffle=True, batch_size=batch_size)\n",
    "\n",
    "X_test = torch.from_numpy(X_t).float().to(device)\n",
    "y_test = torch.from_numpy(y_t).float().to(device)"
   ]
  },
  {
   "cell_type": "code",
   "execution_count": 9,
   "metadata": {},
   "outputs": [
    {
     "name": "stdout",
     "output_type": "stream",
     "text": [
      "4515\n"
     ]
    }
   ],
   "source": [
    "EPOCHS = 20\n",
    "n_input = 300\n",
    "n_hidden = 64\n",
    "n_output = 15\n",
    "seq_len = 90\n",
    "learning_rate = 2e-3\n",
    "\n",
    "logreg = LogReg(n_input, n_output).to(device)\n",
    "\n",
    "loss_fn = nn.CrossEntropyLoss()\n",
    "\n",
    "optimizer = optim.Adam(logreg.parameters(), lr=learning_rate)\n",
    "\n",
    "model = Model(logreg, loss_fn, optimizer, seq_len)"
   ]
  },
  {
   "cell_type": "code",
   "execution_count": 11,
   "metadata": {},
   "outputs": [
    {
     "ename": "KeyboardInterrupt",
     "evalue": "",
     "output_type": "error",
     "traceback": [
      "\u001b[1;31m---------------------------------------------------------------------------\u001b[0m",
      "\u001b[1;31mKeyboardInterrupt\u001b[0m                         Traceback (most recent call last)",
      "Cell \u001b[1;32mIn [11], line 1\u001b[0m\n\u001b[1;32m----> 1\u001b[0m train_loss \u001b[38;5;241m=\u001b[39m \u001b[43mmodel\u001b[49m\u001b[38;5;241;43m.\u001b[39;49m\u001b[43mtrain\u001b[49m\u001b[43m(\u001b[49m\u001b[43mtrain_loader\u001b[49m\u001b[43m,\u001b[49m\u001b[43m \u001b[49m\u001b[43mn_epochs\u001b[49m\u001b[38;5;241;43m=\u001b[39;49m\u001b[43mEPOCHS\u001b[49m\u001b[43m)\u001b[49m\n",
      "Cell \u001b[1;32mIn [8], line 21\u001b[0m, in \u001b[0;36mModel.train\u001b[1;34m(self, train_loader, n_epochs)\u001b[0m\n\u001b[0;32m     18\u001b[0m X, y \u001b[38;5;241m=\u001b[39m X\u001b[38;5;241m.\u001b[39mto(device), y\u001b[38;5;241m.\u001b[39mto(device)\n\u001b[0;32m     19\u001b[0m \u001b[38;5;28mself\u001b[39m\u001b[38;5;241m.\u001b[39moptim\u001b[38;5;241m.\u001b[39mzero_grad()\n\u001b[1;32m---> 21\u001b[0m X_lens \u001b[38;5;241m=\u001b[39m \u001b[43mfind_lens\u001b[49m\u001b[43m(\u001b[49m\u001b[43mX\u001b[49m\u001b[43m)\u001b[49m\n\u001b[0;32m     23\u001b[0m output \u001b[38;5;241m=\u001b[39m \u001b[38;5;28mself\u001b[39m\u001b[38;5;241m.\u001b[39mmodel(X)\n\u001b[0;32m     25\u001b[0m out \u001b[38;5;241m=\u001b[39m output\u001b[38;5;241m.\u001b[39mpermute(\u001b[38;5;241m0\u001b[39m, \u001b[38;5;241m2\u001b[39m, \u001b[38;5;241m1\u001b[39m)\n",
      "File \u001b[1;32mc:\\Users\\annax\\Documents\\GitHub\\srp-lab-notebook\\hcp_data\\eval_model.py:35\u001b[0m, in \u001b[0;36mfind_lens\u001b[1;34m(X)\u001b[0m\n\u001b[0;32m     33\u001b[0m count \u001b[39m=\u001b[39m \u001b[39m0\u001b[39m\n\u001b[0;32m     34\u001b[0m \u001b[39mfor\u001b[39;00m time \u001b[39min\u001b[39;00m batch:\n\u001b[1;32m---> 35\u001b[0m     \u001b[39mif\u001b[39;00m time[\u001b[39m0\u001b[39;49m] \u001b[39m==\u001b[39;49m \u001b[39m0.\u001b[39;49m:\n\u001b[0;32m     36\u001b[0m         \u001b[39mbreak\u001b[39;00m\n\u001b[0;32m     37\u001b[0m     \u001b[39melse\u001b[39;00m:\n",
      "\u001b[1;31mKeyboardInterrupt\u001b[0m: "
     ]
    }
   ],
   "source": [
    "train_loss = model.train(train_loader, n_epochs=EPOCHS)"
   ]
  },
  {
   "cell_type": "code",
   "execution_count": 12,
   "metadata": {},
   "outputs": [
    {
     "name": "stdout",
     "output_type": "stream",
     "text": [
      "Stored 'logreg_acc' (ndarray)\n"
     ]
    }
   ],
   "source": [
    "logreg_acc, test_loss = model.eval(X_test, y_test)\n",
    "%store logreg_acc"
   ]
  },
  {
   "cell_type": "code",
   "execution_count": 13,
   "metadata": {},
   "outputs": [
    {
     "data": {
      "image/png": "[encoded data removed]",
      "text/plain": [
       "<Figure size 640x480 with 1 Axes>"
      ]
     },
     "metadata": {},
     "output_type": "display_data"
    }
   ],
   "source": [
    "xAx = [i for i in range(0,90)]\n",
    "plt.plot(xAx, logreg_acc, label=\"log-reg\")\n",
    "#plt.plot(xAx, rand_acc, label=\"random\")\n",
    "plt.xlabel(\"Time (s)\")\n",
    "plt.ylabel(\"Accuracy\")\n",
    "plt.ylim(0,1)\n",
    "plt.xlim(0,90)\n",
    "plt.title(\"Time-varying Classification Accuracy\")\n",
    "plt.legend()\n",
    "plt.show()"
   ]
  }
 ],
 "metadata": {
  "kernelspec": {
   "display_name": "Python 3.9.12 64-bit",
   "language": "python",
   "name": "python3"
  },
  "language_info": {
   "codemirror_mode": {
    "name": "ipython",
    "version": 3
   },
   "file_extension": ".py",
   "mimetype": "text/x-python",
   "name": "python",
   "nbconvert_exporter": "python",
   "pygments_lexer": "ipython3",
   "version": "3.9.12"
  },
  "orig_nbformat": 4,
  "vscode": {
   "interpreter": {
    "hash": "9c291033b9705e575e03d914f367a59dd21db6a6f24c770391083a529f199ff6"
   }
  }
 },
 "nbformat": 4,
 "nbformat_minor": 2
}
