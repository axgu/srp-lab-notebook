{
 "cells": [
  {
   "cell_type": "markdown",
   "metadata": {},
   "source": [
    "# GRU Attention Model"
   ]
  },
  {
   "cell_type": "code",
   "execution_count": 1,
   "metadata": {},
   "outputs": [],
   "source": [
    "import numpy as np\n",
    "import pickle\n",
    "import time\n",
    "from matplotlib import pyplot as plt\n",
    "import torch\n",
    "from torch import nn\n",
    "import torch.nn.functional as F\n",
    "import torch.optim as optim\n",
    "from torch.utils.data import TensorDataset, DataLoader\n",
    "\n",
    "from lstm_data_prep import numpy_prep\n",
    "from eval_model import epoch_time, find_lens, accuracy\n",
    "\n",
    "device = \"cuda\" if torch.cuda.is_available() else \"cpu\""
   ]
  },
  {
   "cell_type": "code",
   "execution_count": 2,
   "metadata": {},
   "outputs": [],
   "source": [
    "class GRUAttention(nn.Module):\n",
    "    def __init__(self, n_input, n_hidden, n_out, seq_len, drop):\n",
    "        self.n_input = n_input\n",
    "        self.n_hidden = n_hidden\n",
    "        self.n_out = n_out\n",
    "        self.num_gru_layers = 1\n",
    "\n",
    "        super().__init__()\n",
    "        self.dropout = nn.Dropout(drop)\n",
    "        self.gru = nn.GRU(input_size=n_input, hidden_size=n_hidden, num_layers=1, batch_first=True)\n",
    "        self.fc = nn.Linear(n_hidden, n_out)\n",
    "\n",
    "        self.fc_h = nn.Linear(n_hidden, n_hidden, bias=False)\n",
    "        self.fc_out = nn.Linear(n_hidden, n_hidden, bias=False)\n",
    "        self.weight = nn.Parameter(torch.FloatTensor(n_hidden))\n",
    "\n",
    "    def forward(self, x, x_lens, h):\n",
    "        batch_size = x.shape[0]\n",
    "\n",
    "        x_packed = torch.nn.utils.rnn.pack_padded_sequence(x, x_lens, batch_first=True, enforce_sorted=False)\n",
    "        \n",
    "        out, hidden = self.gru(x_packed, h)\n",
    "    \n",
    "        out, _ = torch.nn.utils.rnn.pad_packed_sequence(out, batch_first=True, padding_value=0)\n",
    "\n",
    "        out = self.dropout(out)\n",
    "        # attention\n",
    "        # (batch_size, seq_len, seq_len)\n",
    "        e = torch.zeros((batch_size, out.shape[1], out.shape[1]), device=device)\n",
    "        V = self.weight.repeat(batch_size, 1).unsqueeze(1)\n",
    "        for i in range(out.shape[1]):\n",
    "            r = torch.zeros(out.shape, device=device)\n",
    "            for j in range(out.shape[1]):\n",
    "                # (batch_size, seq_len, hidden_size)\n",
    "                z = torch.tanh(self.fc_h(out[:, i, :]) + self.fc_out(out[:, j, :]))\n",
    "                r[:, j, :] = z\n",
    "            r = r.permute(0, 2, 1)\n",
    "            \n",
    "            a = torch.bmm(V, r).squeeze(1)\n",
    "            e[:, i, :] = a\n",
    "        att_weights = F.log_softmax(e, dim=-1)\n",
    "\n",
    "        context_vector = torch.bmm(att_weights, out)\n",
    "        \n",
    "        y_hat = self.fc(context_vector)\n",
    "        return y_hat\n",
    "\n",
    "    def init_hidden(self, batch_size):\n",
    "        return torch.zeros(self.num_gru_layers, batch_size, self.n_hidden, device=device)"
   ]
  },
  {
   "cell_type": "code",
   "execution_count": 3,
   "metadata": {},
   "outputs": [],
   "source": [
    "class GRUModel:\n",
    "    def __init__(self, model, loss_fn, optimizer, seq_len):\n",
    "        self.model = model\n",
    "        self.loss_fn = loss_fn\n",
    "        self.optimizer = optimizer\n",
    "        self.seq_len = seq_len\n",
    "\n",
    "    def train(self, train_loader, n_epochs=10, learning=1e-2):\n",
    "        train_loss = []\n",
    "        best_loss = 1e10\n",
    "\n",
    "        self.model.train()\n",
    "        for i in range(n_epochs):\n",
    "            start = time.time()\n",
    "            avg_loss = 0.\n",
    "            for X, y in train_loader:\n",
    "                loss = 0.\n",
    "                curr_batch_size = X.shape[0]\n",
    "                h = self.model.init_hidden(curr_batch_size)\n",
    "                X, y = X.to(device), y.to(device)\n",
    "                self.optimizer.zero_grad()\n",
    "\n",
    "                X_lens = find_lens(X)\n",
    "\n",
    "                output = self.model(X, X_lens, h)\n",
    "\n",
    "                out = output.permute(0, 2, 1)\n",
    "                target = y.permute(0, 2, 1)\n",
    "\n",
    "                loss += self.loss_fn(out, target)\n",
    "                \n",
    "                loss.backward()\n",
    "                self.optimizer.step()\n",
    "                avg_loss += loss.item()\n",
    "\n",
    "            end = time.time()\n",
    "            epoch_mins, epoch_secs = epoch_time(start, end)\n",
    "            if best_loss > avg_loss:\n",
    "                best_loss = avg_loss\n",
    "                torch.save({\"gru_attention\": self.model.state_dict(), \"gru_att_optimizer\": self.optimizer.state_dict()}, 'gru-attention-model.pt')\n",
    "\n",
    "            print(\"Epoch \" + str(i + 1) + \"/\" + str(n_epochs))\n",
    "            print(\"Time: \" + str(epoch_mins) + \" minutes \" + str(epoch_secs) + \" seconds\")\n",
    "            print(\"Training loss: \" + str(avg_loss))\n",
    "            print()\n",
    "            train_loss.append(avg_loss)\n",
    "        return train_loss\n",
    "    \n",
    "    def eval(self, x, y):\n",
    "        check = torch.load(\"gru-attention-model.pt\")\n",
    "        self.model.load_state_dict(check[\"gru_attention\"])\n",
    "        self.optimizer.load_state_dict(check[\"gru_att_optimizer\"])\n",
    "\n",
    "        with torch.no_grad():\n",
    "            correct = np.zeros(self.seq_len)\n",
    "            total = np.zeros(self.seq_len)\n",
    "            self.model.eval()\n",
    "            loss = 0.\n",
    "            curr_batch_size = x.shape[0]\n",
    "            h = self.model.init_hidden(curr_batch_size)\n",
    "            X, Y = x.to(device), y.to(device)\n",
    "            \n",
    "            X_lens = find_lens(X)\n",
    "\n",
    "            out = self.model(X, X_lens, h)\n",
    "\n",
    "            top_value, top_index = out.topk(1)\n",
    "\n",
    "            final = torch.zeros(y.shape).to(device)\n",
    "            for clip in range(y.shape[0]):\n",
    "                for step in range(y.shape[1]):\n",
    "                    final[clip][step][top_index[clip][step]] = 1\n",
    "                \n",
    "            correct, total = accuracy(y.cpu().numpy(), final.cpu().numpy(), correct, total)\n",
    "        \n",
    "        ff_accuracy = correct / total\n",
    "        return ff_accuracy, loss\n",
    "    \n",
    "    def random_samples(self, X, pad=0.):\n",
    "        X_random = []\n",
    "        X_lens = find_lens(X)\n",
    "        for i in range(X.shape[0]):\n",
    "            X_batch = np.random.normal(size=(X_lens[i], X.shape[-1]))\n",
    "            if X_lens[i] < self.seq_len:\n",
    "                X_pad = np.array([[pad]*X.shape[-1]]*(self.seq_len - X_lens[i]))\n",
    "                X_batch = np.append(X_batch, X_pad, axis=0)\n",
    "            X_random.append(X_batch)\n",
    "        X_random = np.array(X_random)\n",
    "        return X_random\n",
    "    \n",
    "    def rand_test(self, X, y_test, n_samples=20, percentile=90):\n",
    "        rand_acc_array = []\n",
    "        for sample in range(n_samples):\n",
    "            X_random = torch.from_numpy(self.random_samples(X)).float().to(device)\n",
    "            gru_rand_acc, _ = self.eval(X_random, y_test)\n",
    "            rand_acc_array.append(gru_rand_acc)\n",
    "        plot = np.percentile(np.sort(np.array(rand_acc_array), axis=0), percentile, axis=0)\n",
    "        return plot"
   ]
  },
  {
   "cell_type": "code",
   "execution_count": 4,
   "metadata": {},
   "outputs": [
    {
     "name": "stderr",
     "output_type": "stream",
     "text": [
      "c:\\Users\\Anna\\Documents\\GitHub\\srp-lab-notebook\\hcp_data\\lstm_data_prep.py:58: VisibleDeprecationWarning: Creating an ndarray from ragged nested sequences (which is a list-or-tuple of lists-or-tuples-or ndarrays with different lengths or shapes) is deprecated. If you meant to do this, you must specify 'dtype=object' when creating the ndarray.\n",
      "  X_padded = paddingArr(np.array(X_arr), pad=pad)\n"
     ]
    }
   ],
   "source": [
    "with open('HCP_movie_watching.pkl','rb') as f:\n",
    "    TS = pickle.load(f)\n",
    "\n",
    "X_train, y_train, X_t, y_t = numpy_prep(TS, pad = 0.)\n",
    "batch_size = 32\n",
    "\n",
    "train_data = TensorDataset(torch.from_numpy(X_train).float(), torch.from_numpy(y_train).float())\n",
    "train_loader = DataLoader(train_data, shuffle=True, batch_size=batch_size)\n",
    "\n",
    "X_test = torch.from_numpy(X_t).float().to(device)\n",
    "y_test = torch.from_numpy(y_t).float().to(device)"
   ]
  },
  {
   "cell_type": "code",
   "execution_count": 5,
   "metadata": {},
   "outputs": [],
   "source": [
    "n_input = 300\n",
    "n_hidden = 32\n",
    "n_out = 15\n",
    "seq_len = 90\n",
    "drop = 0.1\n",
    "EPOCHS = 15\n",
    "learning_rate = 2e-3\n",
    "\n",
    "gru_attention = GRUAttention(n_input, n_hidden, n_out, seq_len, drop).to(device)\n",
    "loss_fn = nn.CrossEntropyLoss()\n",
    "optimizer = optim.Adam(gru_attention.parameters(), lr=learning_rate)\n",
    "\n",
    "model = GRUModel(gru_attention, loss_fn, optimizer, seq_len)"
   ]
  },
  {
   "cell_type": "code",
   "execution_count": 6,
   "metadata": {},
   "outputs": [
    {
     "name": "stdout",
     "output_type": "stream",
     "text": [
      "Epoch 1/15\n",
      "Time: 23 minutes 2 seconds\n",
      "Training loss: 1150.190538406372\n",
      "\n",
      "Epoch 2/15\n",
      "Time: 31 minutes 33 seconds\n",
      "Training loss: 212.35464516282082\n",
      "\n",
      "Epoch 3/15\n",
      "Time: 31 minutes 20 seconds\n",
      "Training loss: 111.98589664325118\n",
      "\n",
      "Epoch 4/15\n",
      "Time: 31 minutes 26 seconds\n",
      "Training loss: 60.836203437931545\n",
      "\n",
      "Epoch 5/15\n",
      "Time: 30 minutes 54 seconds\n",
      "Training loss: 35.63492381286551\n",
      "\n",
      "Epoch 6/15\n",
      "Time: 31 minutes 29 seconds\n",
      "Training loss: 22.67644791306555\n",
      "\n",
      "Epoch 7/15\n",
      "Time: 24 minutes 39 seconds\n",
      "Training loss: 15.429812059300641\n",
      "\n",
      "Epoch 8/15\n",
      "Time: 30 minutes 54 seconds\n",
      "Training loss: 17.52004030515151\n",
      "\n",
      "Epoch 9/15\n",
      "Time: 31 minutes 12 seconds\n",
      "Training loss: 27.502825306720077\n",
      "\n",
      "Epoch 10/15\n",
      "Time: 31 minutes 35 seconds\n",
      "Training loss: 17.35996262261215\n",
      "\n",
      "Epoch 11/15\n",
      "Time: 30 minutes 39 seconds\n",
      "Training loss: 43.69726203688299\n",
      "\n",
      "Epoch 12/15\n",
      "Time: 29 minutes 14 seconds\n",
      "Training loss: 53.0432640068193\n",
      "\n",
      "Epoch 13/15\n",
      "Time: 26 minutes 13 seconds\n",
      "Training loss: 67.22272726829512\n",
      "\n",
      "Epoch 14/15\n",
      "Time: 25 minutes 36 seconds\n",
      "Training loss: 56.81051081002447\n",
      "\n",
      "Epoch 15/15\n",
      "Time: 25 minutes 59 seconds\n",
      "Training loss: 40.181433456177075\n",
      "\n"
     ]
    }
   ],
   "source": [
    "train_loss = model.train(train_loader, n_epochs=EPOCHS, learning=learning_rate)"
   ]
  },
  {
   "cell_type": "code",
   "execution_count": 9,
   "metadata": {},
   "outputs": [
    {
     "data": {
      "image/png": "[encoded data removed]",
      "text/plain": [
       "<Figure size 432x288 with 1 Axes>"
      ]
     },
     "metadata": {
      "needs_background": "light"
     },
     "output_type": "display_data"
    }
   ],
   "source": [
    "xAx = [i for i in range(1, EPOCHS+1)]\n",
    "plt.plot(xAx, train_loss)\n",
    "plt.xlabel(\"Epoch\")\n",
    "plt.ylabel(\"Cross Entropy Loss\")\n",
    "plt.xlim(0, EPOCHS)\n",
    "plt.xticks([2*j for j in range(EPOCHS // 2)])\n",
    "plt.title(\"Training Loss\")\n",
    "plt.show()"
   ]
  },
  {
   "cell_type": "code",
   "execution_count": 10,
   "metadata": {},
   "outputs": [
    {
     "name": "stdout",
     "output_type": "stream",
     "text": [
      "Stored 'gru_attention_acc' (ndarray)\n"
     ]
    }
   ],
   "source": [
    "gru_attention_acc, loss = model.eval(X_test, y_test)\n",
    "%store gru_attention_acc"
   ]
  },
  {
   "cell_type": "code",
   "execution_count": 39,
   "metadata": {},
   "outputs": [],
   "source": [
    "gru_rand_acc = model.rand_test(X_test, y_test)"
   ]
  },
  {
   "cell_type": "code",
   "execution_count": 12,
   "metadata": {},
   "outputs": [
    {
     "data": {
      "image/png": "[encoded data removed]",
      "text/plain": [
       "<Figure size 432x288 with 1 Axes>"
      ]
     },
     "metadata": {
      "needs_background": "light"
     },
     "output_type": "display_data"
    }
   ],
   "source": [
    "xAx = [i for i in range(0,90)]\n",
    "plt.plot(xAx, gru_attention_acc, label=\"gru-attention\")\n",
    "#plt.plot(xAx, gru_rand_acc, label=\"random\")\n",
    "plt.xlabel(\"Time (s)\")\n",
    "plt.ylabel(\"Accuracy\")\n",
    "plt.ylim(0,1)\n",
    "plt.xlim(0,90)\n",
    "plt.title(\"Time-varying Classification Accuracy\")\n",
    "plt.legend()\n",
    "plt.show()"
   ]
  }
 ],
 "metadata": {
  "kernelspec": {
   "display_name": "Python 3.9.12 64-bit",
   "language": "python",
   "name": "python3"
  },
  "language_info": {
   "codemirror_mode": {
    "name": "ipython",
    "version": 3
   },
   "file_extension": ".py",
   "mimetype": "text/x-python",
   "name": "python",
   "nbconvert_exporter": "python",
   "pygments_lexer": "ipython3",
   "version": "3.9.12"
  },
  "orig_nbformat": 4,
  "vscode": {
   "interpreter": {
    "hash": "9c291033b9705e575e03d914f367a59dd21db6a6f24c770391083a529f199ff6"
   }
  }
 },
 "nbformat": 4,
 "nbformat_minor": 2
}
