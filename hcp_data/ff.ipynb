{
 "cells": [
  {
   "cell_type": "markdown",
   "metadata": {},
   "source": [
    "# Feedforward Neural Network"
   ]
  },
  {
   "cell_type": "code",
   "execution_count": 1,
   "metadata": {},
   "outputs": [],
   "source": [
    "import pickle\n",
    "import time\n",
    "import numpy as np\n",
    "import torch\n",
    "from torch import nn\n",
    "import torch.optim as optim\n",
    "from matplotlib import pyplot as plt\n",
    "import math\n",
    "\n",
    "from lstm_data_prep import numpy_prep\n",
    "from eval_model import accuracy, find_lens\n",
    "device = \"cuda\" if torch.cuda.is_available() else \"cpu\""
   ]
  },
  {
   "cell_type": "code",
   "execution_count": 2,
   "metadata": {},
   "outputs": [],
   "source": [
    "class FF(nn.Module):\n",
    "  def __init__(self, n_inputs, n_hidden, n_outputs):\n",
    "    super().__init__()\n",
    "    self.in_layer = nn.Linear(n_inputs, n_hidden)\n",
    "    self.out_layer = nn.Linear(n_hidden, n_outputs)\n",
    "\n",
    "  def forward(self, x):\n",
    "    y = torch.tanh(self.in_layer(x))\n",
    "    y = torch.relu(self.out_layer(y))\n",
    "\n",
    "    return y"
   ]
  },
  {
   "cell_type": "code",
   "execution_count": 3,
   "metadata": {},
   "outputs": [],
   "source": [
    "class Model:\n",
    "    def __init__(self, model, loss_fn, optimizer, n_input, n_hidden, n_out):\n",
    "        self.model = model\n",
    "        self.loss_fn = loss_fn\n",
    "        self.optim = optimizer\n",
    "        self.n_input = n_input\n",
    "        self.n_hidden = n_hidden\n",
    "        self.n_out = n_out\n",
    "    \n",
    "    def train(self, train_data, train_labels, test_data, test_labels, n_epochs=500, rand_test=False):\n",
    "        classification_acc = []\n",
    "        rand_acc = []\n",
    "        for time_step in range(train_data.shape[0]):\n",
    "            for layer in self.model.children():\n",
    "                if hasattr(layer, 'reset_parameters'):\n",
    "                    layer.reset_parameters()\n",
    "            for i in range(n_epochs):\n",
    "                out = self.model(train_data[time_step])\n",
    "\n",
    "                loss = self.loss_fn(out, train_labels[time_step])\n",
    "    \n",
    "                self.optim.zero_grad()\n",
    "                loss.backward()\n",
    "                self.optim.step()\n",
    "            \n",
    "            torch.save({\"ff\": self.model.state_dict(), \"ff_optimizer\": self.optim.state_dict()}, 'ff-model.pt')\n",
    "            classification_acc.append(self.eval(test_data[time_step], test_labels[time_step]))\n",
    "\n",
    "            if rand_test:\n",
    "                rand_acc.append(self.rand_test(test_data[time_step], test_labels[time_step]))\n",
    "\n",
    "        return classification_acc, rand_acc\n",
    "    \n",
    "    def eval(self, data, labels):\n",
    "        check = torch.load(\"ff-model.pt\")\n",
    "        self.model.load_state_dict(check[\"ff\"])\n",
    "        self.optim.load_state_dict(check[\"ff_optimizer\"])\n",
    "        data = data.to(device)\n",
    "        labels = labels.to(device)\n",
    "        out = self.model(data)\n",
    "        loss = self.loss_fn(out, labels)\n",
    "        top_value, top_index = out.topk(1)\n",
    "\n",
    "        final = torch.zeros(data.shape)\n",
    "        for clip in range(data.shape[0]):\n",
    "            final[clip][top_index[clip]] = 1\n",
    "\n",
    "        correct = 0\n",
    "        total = 0\n",
    "        \n",
    "        for j in range(out.shape[0]):\n",
    "            if np.count_nonzero(labels[j].cpu().numpy())!= 0:\n",
    "                if self.findIndex(1., labels[j]) == self.findIndex(torch.max(final[j]), final[j]):\n",
    "                    correct += 1\n",
    "                total += 1\n",
    "        \n",
    "        return correct / total\n",
    "\n",
    "    def findIndex(self, val, arr):\n",
    "        index = -1\n",
    "        for x in range(arr.shape[0]):\n",
    "            if val == arr[x].item():\n",
    "                index = x\n",
    "                break\n",
    "        return index\n",
    "    \n",
    "    def random_samples(self, X, num_seq=90, pad=0.):\n",
    "        X_random = []\n",
    "        for i in range(X.shape[0]):\n",
    "            X_batch = np.random.normal(size=X.shape[-1])\n",
    "            #if X_lens[i] < num_seq:\n",
    "                #X_pad = np.array([[pad]*300]*(num_seq - X_lens[i]))\n",
    "                #X_batch = np.append(X_batch, X_pad, axis=0)\n",
    "            X_random.append(X_batch)\n",
    "        X_random = np.array(X_random)\n",
    "        return X_random\n",
    "    \n",
    "    def rand_test(self, X, y_test, n_samples=20, percentile=90):\n",
    "        rand_acc_array = []\n",
    "        for sample in range(n_samples):\n",
    "            X_random = torch.from_numpy(self.random_samples(X)).float().to(device)\n",
    "            ff_rand_acc = self.eval(X_random, y_test)\n",
    "            rand_acc_array.append(ff_rand_acc)\n",
    "        \n",
    "        plot = np.percentile(np.sort(np.array(rand_acc_array), axis=0), percentile, axis=0)\n",
    "        return plot.squeeze(0)"
   ]
  },
  {
   "cell_type": "code",
   "execution_count": 4,
   "metadata": {},
   "outputs": [
    {
     "name": "stderr",
     "output_type": "stream",
     "text": [
      "c:\\Users\\Anna\\Documents\\GitHub\\srp-lab-notebook\\hcp_data\\lstm_data_prep.py:57: VisibleDeprecationWarning: Creating an ndarray from ragged nested sequences (which is a list-or-tuple of lists-or-tuples-or ndarrays with different lengths or shapes) is deprecated. If you meant to do this, you must specify 'dtype=object' when creating the ndarray.\n",
      "  X_padded = paddingArr(np.array(X_arr), pad=pad)\n"
     ]
    },
    {
     "ename": "MemoryError",
     "evalue": "Unable to allocate 282. MiB for an array with shape (1368, 90, 300) and data type float64",
     "output_type": "error",
     "traceback": [
      "\u001b[1;31m---------------------------------------------------------------------------\u001b[0m",
      "\u001b[1;31mMemoryError\u001b[0m                               Traceback (most recent call last)",
      "\u001b[1;32mc:\\Users\\Anna\\Documents\\GitHub\\srp-lab-notebook\\hcp_data\\ff.ipynb Cell 5\u001b[0m in \u001b[0;36m<cell line: 4>\u001b[1;34m()\u001b[0m\n\u001b[0;32m      <a href='vscode-notebook-cell:/c%3A/Users/Anna/Documents/GitHub/srp-lab-notebook/hcp_data/ff.ipynb#W4sZmlsZQ%3D%3D?line=0'>1</a>\u001b[0m \u001b[39mwith\u001b[39;00m \u001b[39mopen\u001b[39m(\u001b[39m'\u001b[39m\u001b[39mHCP_movie_watching.pkl\u001b[39m\u001b[39m'\u001b[39m,\u001b[39m'\u001b[39m\u001b[39mrb\u001b[39m\u001b[39m'\u001b[39m) \u001b[39mas\u001b[39;00m f:\n\u001b[0;32m      <a href='vscode-notebook-cell:/c%3A/Users/Anna/Documents/GitHub/srp-lab-notebook/hcp_data/ff.ipynb#W4sZmlsZQ%3D%3D?line=1'>2</a>\u001b[0m     TS \u001b[39m=\u001b[39m pickle\u001b[39m.\u001b[39mload(f)\n\u001b[1;32m----> <a href='vscode-notebook-cell:/c%3A/Users/Anna/Documents/GitHub/srp-lab-notebook/hcp_data/ff.ipynb#W4sZmlsZQ%3D%3D?line=3'>4</a>\u001b[0m X_train, y_train, X_t, y_t \u001b[39m=\u001b[39m numpy_prep(TS, pad \u001b[39m=\u001b[39;49m \u001b[39m0.\u001b[39;49m)\n\u001b[0;32m      <a href='vscode-notebook-cell:/c%3A/Users/Anna/Documents/GitHub/srp-lab-notebook/hcp_data/ff.ipynb#W4sZmlsZQ%3D%3D?line=5'>6</a>\u001b[0m X_train \u001b[39m=\u001b[39m torch\u001b[39m.\u001b[39mfrom_numpy(X_train)\u001b[39m.\u001b[39mfloat()\u001b[39m.\u001b[39mto(device)\u001b[39m.\u001b[39mpermute(\u001b[39m1\u001b[39m, \u001b[39m0\u001b[39m, \u001b[39m2\u001b[39m)\n\u001b[0;32m      <a href='vscode-notebook-cell:/c%3A/Users/Anna/Documents/GitHub/srp-lab-notebook/hcp_data/ff.ipynb#W4sZmlsZQ%3D%3D?line=6'>7</a>\u001b[0m y_train \u001b[39m=\u001b[39m torch\u001b[39m.\u001b[39mfrom_numpy(y_train)\u001b[39m.\u001b[39mfloat()\u001b[39m.\u001b[39mto(device)\u001b[39m.\u001b[39mpermute(\u001b[39m1\u001b[39m, \u001b[39m0\u001b[39m, \u001b[39m2\u001b[39m)\n",
      "File \u001b[1;32mc:\\Users\\Anna\\Documents\\GitHub\\srp-lab-notebook\\hcp_data\\lstm_data_prep.py:96\u001b[0m, in \u001b[0;36mnumpy_prep\u001b[1;34m(dictionary, pad)\u001b[0m\n\u001b[0;32m     94\u001b[0m train, test \u001b[39m=\u001b[39m splitDict(dictionary, testIndex)\n\u001b[0;32m     95\u001b[0m X_train, y_train \u001b[39m=\u001b[39m shaping(train, pad \u001b[39m=\u001b[39m pad)\n\u001b[1;32m---> 96\u001b[0m X_test, y_test \u001b[39m=\u001b[39m shaping(test, pad \u001b[39m=\u001b[39;49m pad)\n\u001b[0;32m     97\u001b[0m \u001b[39mreturn\u001b[39;00m X_train, y_train, X_test, y_test\n",
      "File \u001b[1;32mc:\\Users\\Anna\\Documents\\GitHub\\srp-lab-notebook\\hcp_data\\lstm_data_prep.py:57\u001b[0m, in \u001b[0;36mshaping\u001b[1;34m(dictionary, pad)\u001b[0m\n\u001b[0;32m     55\u001b[0m         clip \u001b[39m=\u001b[39m np\u001b[39m.\u001b[39marray(clip)\u001b[39m.\u001b[39mreshape((\u001b[39m1\u001b[39m, \u001b[39m90\u001b[39m))\n\u001b[0;32m     56\u001b[0m         y_arr \u001b[39m=\u001b[39m np\u001b[39m.\u001b[39mconcatenate((y_arr, clip), axis\u001b[39m=\u001b[39m\u001b[39m0\u001b[39m)\n\u001b[1;32m---> 57\u001b[0m X_padded \u001b[39m=\u001b[39m paddingArr(np\u001b[39m.\u001b[39;49marray(X_arr), pad\u001b[39m=\u001b[39;49mpad)\n\u001b[0;32m     58\u001b[0m y_vector \u001b[39m=\u001b[39m vectorize_labels(y_arr, keylist, \u001b[39mlen\u001b[39m(keylist))\n\u001b[0;32m     60\u001b[0m \u001b[39mreturn\u001b[39;00m X_padded, y_vector\n",
      "File \u001b[1;32mc:\\Users\\Anna\\Documents\\GitHub\\srp-lab-notebook\\hcp_data\\lstm_data_prep.py:75\u001b[0m, in \u001b[0;36mpaddingArr\u001b[1;34m(arr, max_len, num_features, pad)\u001b[0m\n\u001b[0;32m     73\u001b[0m minimum \u001b[39m=\u001b[39m padded_arr\u001b[39m.\u001b[39mmin()\n\u001b[0;32m     74\u001b[0m maximum \u001b[39m=\u001b[39m padded_arr\u001b[39m.\u001b[39mmax()\n\u001b[1;32m---> 75\u001b[0m padded_arr \u001b[39m=\u001b[39m (padded_arr \u001b[39m-\u001b[39;49m minimum) \u001b[39m/\u001b[39;49m (maximum \u001b[39m-\u001b[39;49m minimum)\n\u001b[0;32m     76\u001b[0m mask \u001b[39m=\u001b[39m (padded_arr \u001b[39m==\u001b[39m ((pad \u001b[39m-\u001b[39m minimum) \u001b[39m/\u001b[39m (maximum \u001b[39m-\u001b[39m minimum)))\n\u001b[0;32m     77\u001b[0m padded_arr[(mask)] \u001b[39m=\u001b[39m pad\n",
      "\u001b[1;31mMemoryError\u001b[0m: Unable to allocate 282. MiB for an array with shape (1368, 90, 300) and data type float64"
     ]
    }
   ],
   "source": [
    "with open('HCP_movie_watching.pkl','rb') as f:\n",
    "    TS = pickle.load(f)\n",
    "\n",
    "X_train, y_train, X_t, y_t = numpy_prep(TS, pad = 0.)\n",
    "\n",
    "X_train = torch.from_numpy(X_train).float().to(device).permute(1, 0, 2)\n",
    "y_train = torch.from_numpy(y_train).float().to(device).permute(1, 0, 2)\n",
    "X_test = torch.from_numpy(X_t).float().to(device).permute(1, 0, 2)\n",
    "y_test = torch.from_numpy(y_t).float().to(device).permute(1, 0, 2)"
   ]
  },
  {
   "cell_type": "code",
   "execution_count": null,
   "metadata": {},
   "outputs": [],
   "source": [
    "EPOCHS = 100\n",
    "n_input = 300\n",
    "n_hidden = 103\n",
    "n_output = 15\n",
    "learning_rate = 1e-3\n",
    "\n",
    "ff = FF(n_input, n_hidden, n_output).to(device)\n",
    "\n",
    "loss_fn = nn.CrossEntropyLoss()\n",
    "\n",
    "optimizer = optim.Adam(ff.parameters(), lr=learning_rate)\n",
    "\n",
    "model = Model(ff, loss_fn, optimizer, n_input, n_hidden, n_output)\n",
    "ff_accuracy, rand_acc = model.train(X_train, y_train, X_test, y_test, rand_test=True)\n"
   ]
  },
  {
   "cell_type": "code",
   "execution_count": null,
   "metadata": {},
   "outputs": [
    {
     "data": {
      "image/png": "[encoded data removed]",
      "text/plain": [
       "<Figure size 432x288 with 1 Axes>"
      ]
     },
     "metadata": {
      "needs_background": "light"
     },
     "output_type": "display_data"
    }
   ],
   "source": [
    "xAx = [i for i in range(0,90)]\n",
    "plt.plot(xAx, ff_accuracy, label=\"ff\")\n",
    "plt.plot(xAx, rand_acc, label=\"random\")\n",
    "plt.xlabel(\"Time (s)\")\n",
    "plt.ylabel(\"Accuracy\")\n",
    "plt.ylim(0,1)\n",
    "plt.xlim(0,90)\n",
    "plt.title(\"Time-varying Classification Accuracy\")\n",
    "plt.legend()\n",
    "plt.show()"
   ]
  }
 ],
 "metadata": {
  "kernelspec": {
   "display_name": "Python 3.9.13 64-bit",
   "language": "python",
   "name": "python3"
  },
  "language_info": {
   "codemirror_mode": {
    "name": "ipython",
    "version": 3
   },
   "file_extension": ".py",
   "mimetype": "text/x-python",
   "name": "python",
   "nbconvert_exporter": "python",
   "pygments_lexer": "ipython3",
   "version": "3.9.13"
  },
  "orig_nbformat": 4,
  "vscode": {
   "interpreter": {
    "hash": "4f240839814783c86679b97dc90219b8a3d3e14ea65e88be68ce87d6dbf01a50"
   }
  }
 },
 "nbformat": 4,
 "nbformat_minor": 2
}
