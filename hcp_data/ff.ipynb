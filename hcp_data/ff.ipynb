{
 "cells": [
  {
   "cell_type": "markdown",
   "metadata": {},
   "source": [
    "# Feedforward Neural Network"
   ]
  },
  {
   "cell_type": "code",
   "execution_count": 16,
   "metadata": {},
   "outputs": [],
   "source": [
    "import pickle\n",
    "import time\n",
    "import numpy as np\n",
    "import torch\n",
    "from torch import nn\n",
    "import torch.nn.functional as F\n",
    "import torch.optim as optim\n",
    "from torch.utils.data import TensorDataset, DataLoader\n",
    "from matplotlib import pyplot as plt\n",
    "import math\n",
    "\n",
    "from lstm_data_prep import numpy_prep\n",
    "from eval_model import accuracy, find_lens, epoch_time\n",
    "device = \"cuda\" if torch.cuda.is_available() else \"cpu\""
   ]
  },
  {
   "cell_type": "code",
   "execution_count": 17,
   "metadata": {},
   "outputs": [],
   "source": [
    "class FF(nn.Module):\n",
    "  def __init__(self, n_inputs, n_hidden, n_outputs):\n",
    "    super().__init__()\n",
    "    self.in_layer = nn.Linear(n_inputs, n_hidden)\n",
    "    self.out_layer = nn.Linear(n_hidden, n_outputs)\n",
    "\n",
    "  def forward(self, x):\n",
    "    y = torch.tanh(self.in_layer(x))\n",
    "    y = torch.relu(self.out_layer(y))\n",
    "\n",
    "    return y"
   ]
  },
  {
   "cell_type": "code",
   "execution_count": 18,
   "metadata": {},
   "outputs": [],
   "source": [
    "class Model:\n",
    "    def __init__(self, model, loss_fn, optimizer, n_input, n_hidden, n_out, seq_len):\n",
    "        self.model = model\n",
    "        self.loss_fn = loss_fn\n",
    "        self.optim = optimizer\n",
    "        self.n_input = n_input\n",
    "        self.n_hidden = n_hidden\n",
    "        self.n_out = n_out\n",
    "        self.seq_len = seq_len\n",
    "        \n",
    "        total_params = sum(p.numel() for p in self.model.parameters())\n",
    "        print(total_params)\n",
    "    \n",
    "    def train(self, train_loader, n_epochs):\n",
    "        train_loss = []\n",
    "        best_loss = 1e10\n",
    "        self.model.train()\n",
    "        for i in range(n_epochs):\n",
    "            start = time.time()\n",
    "            avg_loss = 0.\n",
    "            for X, y in train_loader:\n",
    "                loss = 0.\n",
    "                curr_batch_size = X.shape[0]\n",
    "                X, y = X.to(device), y.to(device)\n",
    "                self.optim.zero_grad()\n",
    "\n",
    "                X_lens = find_lens(X)\n",
    "\n",
    "                output = self.model(X)\n",
    "\n",
    "                out = output.permute(0, 2, 1)\n",
    "                target = y.permute(0, 2, 1)\n",
    "\n",
    "                loss += self.loss_fn(out, target)\n",
    "                \n",
    "                loss.backward()\n",
    "                self.optim.step()\n",
    "                avg_loss += loss.item()\n",
    "\n",
    "            end = time.time()\n",
    "\n",
    "            epoch_mins, epoch_secs = epoch_time(start, end)\n",
    "            if best_loss > avg_loss:\n",
    "                best_loss = avg_loss\n",
    "                torch.save({\"ff\": self.model.state_dict(), \"ff_optimizer\": self.optim.state_dict()}, 'ff-model.pt')\n",
    "\n",
    "        print(\"Epoch \" + str(i + 1) + \"/\" + str(n_epochs))\n",
    "        print(\"Time: \" + str(epoch_mins) + \" minutes \" + str(epoch_secs) + \" seconds\")\n",
    "        print(\"Training loss: \" + str(loss.item()))\n",
    "        print()\n",
    "\n",
    "        train_loss.append(avg_loss)\n",
    "            \n",
    "        return train_loss\n",
    "    \n",
    "    def eval(self, x, y):\n",
    "        check = torch.load(\"ff-model.pt\")\n",
    "        self.model.load_state_dict(check[\"ff\"])\n",
    "        self.optim.load_state_dict(check[\"ff_optimizer\"])\n",
    "        with torch.no_grad():\n",
    "            correct = np.zeros(self.seq_len)\n",
    "            total = np.zeros(self.seq_len)\n",
    "            self.model.eval()\n",
    "            loss = 0.\n",
    "            curr_batch_size = x.shape[0]\n",
    "            X, Y = x.to(device), y.to(device)\n",
    "            X_lens = find_lens(X)\n",
    "\n",
    "            out = self.model(X)\n",
    "\n",
    "            top_value, top_index = out.topk(1)\n",
    "\n",
    "            final = torch.zeros(y.shape).to(device)\n",
    "            for clip in range(y.shape[0]):\n",
    "                for step in range(y.shape[1]):\n",
    "                    final[clip][step][top_index[clip][step]] = 1\n",
    "            \n",
    "            correct, total = accuracy(y.cpu().numpy(), final.cpu().numpy(), correct, total)\n",
    "            ff_accuracy = correct / total\n",
    "        \n",
    "        return ff_accuracy, loss\n",
    "\n",
    "    def findIndex(self, val, arr):\n",
    "        index = -1\n",
    "        for x in range(arr.shape[0]):\n",
    "            if val == arr[x].item():\n",
    "                index = x\n",
    "                break\n",
    "        return index\n",
    "    \n",
    "    def random_samples(self, X, num_seq=90, pad=0.):\n",
    "        X_random = []\n",
    "        X_lens = find_lens(X)\n",
    "        for i in range(X.shape[0]):\n",
    "            X_batch = np.random.rand(size=(X_lens[i], X.shape[-1]))\n",
    "            if X_lens[i] < self.seq_len:\n",
    "                X_pad = np.array([[pad]*X.shape[-1]]*(self.seq_len - X_lens[i]))\n",
    "                X_batch = np.append(X_batch, X_pad, axis=0)\n",
    "            X_random.append(X_batch)\n",
    "            X_random = np.array(X_random)\n",
    "        return X_random\n",
    "        \n",
    "    def rand_test(self, X, y_test, n_samples=100, percentile=90):\n",
    "        rand_acc_array = []\n",
    "        for sample in range(n_samples):\n",
    "            X_random = torch.from_numpy(self.random_samples(X)).float().to(device)\n",
    "            ff_rand_acc = self.eval(X_random, y_test)\n",
    "            rand_acc_array.append(ff_rand_acc)\n",
    "        \n",
    "        plot = np.percentile(np.sort(np.array(rand_acc_array), axis=0), percentile, axis=0)\n",
    "        return plot.squeeze(0)"
   ]
  },
  {
   "cell_type": "code",
   "execution_count": 19,
   "metadata": {},
   "outputs": [],
   "source": [
    "with open('HCP_movie_watching.pkl','rb') as f:\n",
    "    TS = pickle.load(f)\n",
    "\n",
    "X_train, y_train, X_t, y_t = numpy_prep(TS, pad = 0.)\n",
    "\n",
    "batch_size = 32\n",
    "\n",
    "train_data = TensorDataset(torch.from_numpy(X_train).float(), torch.from_numpy(y_train).float())\n",
    "train_loader = DataLoader(train_data, shuffle=True, batch_size=batch_size)\n",
    "\n",
    "X_test = torch.from_numpy(X_t).float().to(device)\n",
    "y_test = torch.from_numpy(y_t).float().to(device)"
   ]
  },
  {
   "cell_type": "code",
   "execution_count": 20,
   "metadata": {},
   "outputs": [
    {
     "name": "stdout",
     "output_type": "stream",
     "text": [
      "32563\n"
     ]
    }
   ],
   "source": [
    "EPOCHS = 20\n",
    "n_input = 300\n",
    "n_hidden = 103\n",
    "n_output = 15\n",
    "seq_len = 90\n",
    "learning_rate = 2e-3\n",
    "\n",
    "ff = FF(n_input, n_hidden, n_output).to(device)\n",
    "\n",
    "loss_fn = nn.CrossEntropyLoss()\n",
    "\n",
    "optimizer = optim.Adam(ff.parameters(), lr=learning_rate)\n",
    "\n",
    "model = Model(ff, loss_fn, optimizer, n_input, n_hidden, n_output, seq_len)"
   ]
  },
  {
   "cell_type": "code",
   "execution_count": 21,
   "metadata": {},
   "outputs": [
    {
     "name": "stdout",
     "output_type": "stream",
     "text": [
      "Epoch 20/20\n",
      "Time: 1 minutes 35 seconds\n",
      "Training loss: 2.132455587387085\n",
      "\n"
     ]
    }
   ],
   "source": [
    "train_loss = model.train(train_loader, n_epochs=EPOCHS)"
   ]
  },
  {
   "cell_type": "code",
   "execution_count": 22,
   "metadata": {},
   "outputs": [
    {
     "name": "stdout",
     "output_type": "stream",
     "text": [
      "Stored 'ff_acc' (ndarray)\n"
     ]
    }
   ],
   "source": [
    "ff_acc, test_loss = model.eval(X_test, y_test)\n",
    "%store ff_acc"
   ]
  },
  {
   "cell_type": "code",
   "execution_count": 23,
   "metadata": {},
   "outputs": [
    {
     "data": {
      "image/png": "[encoded data removed]",
      "text/plain": [
       "<Figure size 432x288 with 1 Axes>"
      ]
     },
     "metadata": {
      "needs_background": "light"
     },
     "output_type": "display_data"
    }
   ],
   "source": [
    "xAx = [i for i in range(0,90)]\n",
    "plt.plot(xAx, ff_acc, label=\"ff\")\n",
    "#plt.plot(xAx, rand_acc, label=\"random\")\n",
    "plt.xlabel(\"Time (s)\")\n",
    "plt.ylabel(\"Accuracy\")\n",
    "plt.ylim(0,1)\n",
    "plt.xlim(0,90)\n",
    "plt.title(\"Time-varying Classification Accuracy\")\n",
    "plt.legend()\n",
    "plt.show()"
   ]
  }
 ],
 "metadata": {
  "kernelspec": {
   "display_name": "Python 3.9.13 64-bit",
   "language": "python",
   "name": "python3"
  },
  "language_info": {
   "codemirror_mode": {
    "name": "ipython",
    "version": 3
   },
   "file_extension": ".py",
   "mimetype": "text/x-python",
   "name": "python",
   "nbconvert_exporter": "python",
   "pygments_lexer": "ipython3",
   "version": "3.9.13"
  },
  "orig_nbformat": 4,
  "vscode": {
   "interpreter": {
    "hash": "4f240839814783c86679b97dc90219b8a3d3e14ea65e88be68ce87d6dbf01a50"
   }
  }
 },
 "nbformat": 4,
 "nbformat_minor": 2
}
